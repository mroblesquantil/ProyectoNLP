{
 "cells": [
  {
   "cell_type": "markdown",
   "metadata": {},
   "source": [
    "# Librerías"
   ]
  },
  {
   "cell_type": "code",
   "execution_count": 79,
   "metadata": {},
   "outputs": [],
   "source": [
    "import cv2\n",
    "import pickle\n",
    "from tqdm import tqdm\n",
    "import numpy as np\n",
    "import pytesseract\n",
    "from matplotlib import pyplot as plt\n",
    "from pdf2image import convert_from_path"
   ]
  },
  {
   "cell_type": "markdown",
   "metadata": {},
   "source": [
    "# Útiles"
   ]
  },
  {
   "cell_type": "code",
   "execution_count": 81,
   "metadata": {},
   "outputs": [],
   "source": [
    "def convert_multiple_pages(pages: list) -> str:\n",
    "    \"\"\" \n",
    "    Convierte en texto las imagenes de un pdf\n",
    "\n",
    "    input:\n",
    "    - pages: lista con imagenes del pdf\n",
    "\n",
    "    output:\n",
    "    - texto_completo: str con el texto leído de las imagenes separadas por $$$$$\n",
    "    \"\"\"\n",
    "    texto_completo = ''\n",
    "\n",
    "    for page in tqdm(pages):\n",
    "        im_convert = cv2.cvtColor(np.array(page), cv2.COLOR_BGR2GRAY)\n",
    "        text = pytesseract.image_to_string(im_convert)\n",
    "\n",
    "        texto_completo += '\\n\\n$$$$$$$$$$$\\n\\n' + text\n",
    "\n",
    "    return texto_completo"
   ]
  },
  {
   "cell_type": "markdown",
   "metadata": {},
   "source": [
    "# Lectura de datos"
   ]
  },
  {
   "cell_type": "code",
   "execution_count": 82,
   "metadata": {},
   "outputs": [],
   "source": [
    "# Read image from which text needs to be extracted\n",
    "pages = convert_from_path('../data/Constitución de 1991_Ikun (Arhuaco).pdf')"
   ]
  },
  {
   "cell_type": "code",
   "execution_count": 83,
   "metadata": {},
   "outputs": [],
   "source": [
    "primera_parte_A = pages[8:21]\n",
    "primera_parte_B = pages[22:58]\n",
    "lexico = pages[60:62]\n",
    "\n",
    "articulos_traduccion = pages[84:117] \n",
    "glosario = pages[118:124]"
   ]
  },
  {
   "cell_type": "markdown",
   "metadata": {},
   "source": [
    "# Pasar a texto"
   ]
  },
  {
   "cell_type": "code",
   "execution_count": 84,
   "metadata": {},
   "outputs": [
    {
     "name": "stderr",
     "output_type": "stream",
     "text": [
      "100%|██████████| 13/13 [00:11<00:00,  1.13it/s]\n",
      "100%|██████████| 36/36 [00:24<00:00,  1.50it/s]\n",
      "100%|██████████| 2/2 [00:01<00:00,  1.36it/s]\n",
      "100%|██████████| 33/33 [00:45<00:00,  1.38s/it]\n",
      "100%|██████████| 6/6 [00:05<00:00,  1.03it/s]\n"
     ]
    }
   ],
   "source": [
    "# Pasar a texto\n",
    "\n",
    "texto_primera_parte_A = convert_multiple_pages(primera_parte_A)\n",
    "texto_primera_parte_B = convert_multiple_pages(primera_parte_B)\n",
    "\n",
    "texto_lexico = convert_multiple_pages(lexico)\n",
    "\n",
    "texto_articulos_traduccion = convert_multiple_pages(articulos_traduccion)\n",
    "texto_glosario = convert_multiple_pages(glosario)"
   ]
  },
  {
   "cell_type": "code",
   "execution_count": 85,
   "metadata": {},
   "outputs": [],
   "source": [
    "texto = {\n",
    "    'texto_primera_parte_A': texto_primera_parte_A,\n",
    "    'texto_primera_parte_B': texto_primera_parte_B,\n",
    "    'texto_lexico': texto_lexico,\n",
    "    'texto_articulos_traduccion': texto_articulos_traduccion,\n",
    "    'texto_glosario': texto_glosario\n",
    "}"
   ]
  },
  {
   "cell_type": "code",
   "execution_count": 86,
   "metadata": {},
   "outputs": [],
   "source": [
    "# Guardar en formato pickle\n",
    "\n",
    "with open('../data/ocr_constitucion_arhuaco/conversion.pickle', 'wb') as f:\n",
    "    pickle.dump(texto, f)"
   ]
  },
  {
   "cell_type": "code",
   "execution_count": null,
   "metadata": {},
   "outputs": [],
   "source": []
  }
 ],
 "metadata": {
  "kernelspec": {
   "display_name": "env_bid_ja",
   "language": "python",
   "name": "python3"
  },
  "language_info": {
   "codemirror_mode": {
    "name": "ipython",
    "version": 3
   },
   "file_extension": ".py",
   "mimetype": "text/x-python",
   "name": "python",
   "nbconvert_exporter": "python",
   "pygments_lexer": "ipython3",
   "version": "3.10.4"
  },
  "orig_nbformat": 4
 },
 "nbformat": 4,
 "nbformat_minor": 2
}
