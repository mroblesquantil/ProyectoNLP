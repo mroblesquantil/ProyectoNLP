{
 "cells": [
  {
   "cell_type": "markdown",
   "metadata": {},
   "source": [
    "# Librerías"
   ]
  },
  {
   "cell_type": "code",
   "execution_count": 66,
   "metadata": {},
   "outputs": [],
   "source": [
    "import cv2\n",
    "import pickle\n",
    "import re\n",
    "from tqdm import tqdm\n",
    "import numpy as np\n",
    "import pytesseract\n",
    "from matplotlib import pyplot as plt\n",
    "from pdf2image import convert_from_path"
   ]
  },
  {
   "cell_type": "markdown",
   "metadata": {},
   "source": [
    "# Útiles"
   ]
  },
  {
   "cell_type": "code",
   "execution_count": 81,
   "metadata": {},
   "outputs": [],
   "source": [
    "def convert_multiple_pages(pages: list) -> str:\n",
    "    \"\"\" \n",
    "    Convierte en texto las imagenes de un pdf\n",
    "\n",
    "    input:\n",
    "    - pages: lista con imagenes del pdf\n",
    "\n",
    "    output:\n",
    "    - texto_completo: str con el texto leído de las imagenes separadas por $$$$$\n",
    "    \"\"\"\n",
    "    texto_completo = ''\n",
    "\n",
    "    for page in tqdm(pages):\n",
    "        im_convert = cv2.cvtColor(np.array(page), cv2.COLOR_BGR2GRAY)\n",
    "        text = pytesseract.image_to_string(im_convert)\n",
    "\n",
    "        texto_completo += '\\n\\n$$$$$$$$$$$\\n\\n' + text\n",
    "\n",
    "    return texto_completo"
   ]
  },
  {
   "cell_type": "markdown",
   "metadata": {},
   "source": [
    "# Lectura de datos"
   ]
  },
  {
   "cell_type": "code",
   "execution_count": 82,
   "metadata": {},
   "outputs": [],
   "source": [
    "# Read image from which text needs to be extracted\n",
    "pages = convert_from_path('../data/Constitución de 1991_Ikun (Arhuaco).pdf')"
   ]
  },
  {
   "cell_type": "code",
   "execution_count": 83,
   "metadata": {},
   "outputs": [],
   "source": [
    "primera_parte_A = pages[8:21]\n",
    "primera_parte_B = pages[22:58]\n",
    "lexico = pages[60:62]\n",
    "\n",
    "articulos_traduccion = pages[84:117] \n",
    "glosario = pages[118:124]"
   ]
  },
  {
   "cell_type": "markdown",
   "metadata": {},
   "source": [
    "# Pasar a texto"
   ]
  },
  {
   "cell_type": "code",
   "execution_count": 84,
   "metadata": {},
   "outputs": [
    {
     "name": "stderr",
     "output_type": "stream",
     "text": [
      "100%|██████████| 13/13 [00:11<00:00,  1.13it/s]\n",
      "100%|██████████| 36/36 [00:24<00:00,  1.50it/s]\n",
      "100%|██████████| 2/2 [00:01<00:00,  1.36it/s]\n",
      "100%|██████████| 33/33 [00:45<00:00,  1.38s/it]\n",
      "100%|██████████| 6/6 [00:05<00:00,  1.03it/s]\n"
     ]
    }
   ],
   "source": [
    "# Pasar a texto\n",
    "\n",
    "texto_primera_parte_A = convert_multiple_pages(primera_parte_A)\n",
    "texto_primera_parte_B = convert_multiple_pages(primera_parte_B)\n",
    "\n",
    "texto_lexico = convert_multiple_pages(lexico)\n",
    "\n",
    "texto_articulos_traduccion = convert_multiple_pages(articulos_traduccion)\n",
    "texto_glosario = convert_multiple_pages(glosario)"
   ]
  },
  {
   "cell_type": "code",
   "execution_count": 85,
   "metadata": {},
   "outputs": [],
   "source": [
    "texto = {\n",
    "    'texto_primera_parte_A': texto_primera_parte_A,\n",
    "    'texto_primera_parte_B': texto_primera_parte_B,\n",
    "    'texto_lexico': texto_lexico,\n",
    "    'texto_articulos_traduccion': texto_articulos_traduccion,\n",
    "    'texto_glosario': texto_glosario\n",
    "}"
   ]
  },
  {
   "cell_type": "code",
   "execution_count": 86,
   "metadata": {},
   "outputs": [],
   "source": [
    "# Guardar en formato pickle\n",
    "\n",
    "with open('../data/ocr_constitucion_arhuaco/conversion.pickle', 'wb') as f:\n",
    "    pickle.dump(texto, f)"
   ]
  },
  {
   "cell_type": "markdown",
   "metadata": {},
   "source": [
    "# Estructura - Texto lexico"
   ]
  },
  {
   "cell_type": "markdown",
   "metadata": {},
   "source": [
    "En esta parte no se puede difernecias cuando se pasa a otra palabra exactamente en la parte de Arahuaco entonces relizaremos una parte manual para tener bien nuestro dataset"
   ]
  },
  {
   "cell_type": "code",
   "execution_count": 115,
   "metadata": {},
   "outputs": [],
   "source": [
    "with open('/Users/frubana/Desktop/NLP/ProyectoNLP/data/ocr_constitucion_arhuaco/conversion.pickle', 'rb') as archivo:\n",
    "    # Carga los datos desde el archivo pickle\n",
    "    texto = pickle.load(archivo)"
   ]
  },
  {
   "cell_type": "code",
   "execution_count": 116,
   "metadata": {},
   "outputs": [
    {
     "data": {
      "text/plain": [
       "dict_keys(['texto_primera_parte_A', 'texto_primera_parte_B', 'texto_lexico', 'texto_articulos_traduccion', 'texto_glosario'])"
      ]
     },
     "execution_count": 116,
     "metadata": {},
     "output_type": "execute_result"
    }
   ],
   "source": [
    "texto.keys()"
   ]
  },
  {
   "cell_type": "code",
   "execution_count": 117,
   "metadata": {},
   "outputs": [],
   "source": [
    "lexico = texto['texto_lexico']\n",
    "esp = lexico.split('\\n69')[0].split('\\nCASTELLANO\\n')[1]\n",
    "iken = lexico.split('\\n69')[0].split('\\nCASTELLANO\\n')[0]"
   ]
  },
  {
   "cell_type": "code",
   "execution_count": 118,
   "metadata": {},
   "outputs": [
    {
     "data": {
      "text/plain": [
       "\"\\n\\n$$$$$$$$$$$\\n\\nIKEN .\\n\\nBirin zanv pinnazey nari inwki eyki chuzdéneya\\nDiwén diwin winnenanvydy dakweya\\n\\nDiwan diwan winnenanuydy akwey zoya\\nDiwén diwan arufiey awa re'muga\\nre'béakumey zoya\\n\\nDu kawi ga'kunamu wésuya\\n\\nEnanuyd4y\\n\\nEytiwe ikwey ka'gume re‘kumana\\nGa'kanama abunna zukuta\\n\\nGa'kunamy sumy neyka zaka'chésuya\\nGa'kunamy sump na'ba agagiikuya\\n\\nG.ij.z. (Ga'kuname i'ngwijuna zaka'chésuya)\\nG.ij.z. mend ndnukin wazweingwa neyka\\nGwamy guga\\n\\nGwamw guga guwa umin a'zuna\\n\\nGwamwu guga gawuydrigun\\n\\nGwamu guga gawuya-jina\\n\\nGwamua guga guwa awd a'zuna\\n\\nGwamu guga zukuta\\n\\nGwamwu guga zukuta ka'gumu re'kumey\\nzoya si wasuya\\n\\nGwamy yeyka unchufiwn gwdsuyajina\\nGwamw guga unchuitdsuya\\nGwamu guga unchuitwya re'zugurusi zoya\\n\\nI'ngweti i‘ngweti menanuydy mikundnuya\\nneyka\\n\\nInu ikumey zweingwa du kawi ga‘kanama\\nwésuyajina\\n\\nKa'se' inu a'chuiakumuyeykazey nari,jwi\\nanni'kumyyari\\n\\nKa'gumy awd re'kumana'ba windiiunni'sana\\nKa'gume fkuzey re'kumana\\n\""
      ]
     },
     "execution_count": 118,
     "metadata": {},
     "output_type": "execute_result"
    }
   ],
   "source": [
    "iken"
   ]
  },
  {
   "cell_type": "code",
   "execution_count": 119,
   "metadata": {
    "tags": []
   },
   "outputs": [],
   "source": [
    "esp = esp[esp.index('patrimonio'):]\n",
    "esp = esp.replace('\\n\\n','\\n').split(\"\\n\")"
   ]
  },
  {
   "cell_type": "code",
   "execution_count": 120,
   "metadata": {
    "tags": []
   },
   "outputs": [
    {
     "data": {
      "text/plain": [
       "['patrimonio arqueolégico',\n",
       " 'diversidad étnica y cultural',\n",
       " 'grupos étnicos',\n",
       " 'minorias politicas',\n",
       " 'consejero',\n",
       " 'derecho',\n",
       " 'parques naturales',\n",
       " 'Constitucién Politica',\n",
       " 'titulo',\n",
       " 'capitulo',\n",
       " 'articulo',\n",
       " 'articulo transitorio',\n",
       " 'ley',\n",
       " 'senador',\n",
       " 'rama legislativa',\n",
       " 'cuerpo legislativo o congresistas',\n",
       " 'Representante a la Camara',\n",
       " 'Ley Organica',\n",
       " 'Ley Organica de Ordenamiento',\n",
       " 'Territorial',\n",
       " 'cuerpo ejecutivo',\n",
       " 'decreto',\n",
       " 'resolucién',\n",
       " 'los derechos de las personas',\n",
       " 'consejo consultivo',\n",
       " 'regalias',\n",
       " 'reunién de municipios (provincia)',\n",
       " 'territorio indigena',\n",
       " '']"
      ]
     },
     "execution_count": 120,
     "metadata": {},
     "output_type": "execute_result"
    }
   ],
   "source": [
    "esp"
   ]
  },
  {
   "cell_type": "code",
   "execution_count": 121,
   "metadata": {},
   "outputs": [
    {
     "data": {
      "text/plain": [
       "['Birin zanv pinnazey nari inwki eyki chuzdéneya',\n",
       " 'Diwén diwin winnenanvydy dakweya',\n",
       " 'Diwan diwan winnenanuydy akwey zoya',\n",
       " \"Diwén diwan arufiey awa re'muga\",\n",
       " \"re'béakumey zoya\",\n",
       " \"Du kawi ga'kunamu wésuya\",\n",
       " 'Enanuyd4y',\n",
       " \"Eytiwe ikwey ka'gume re‘kumana\",\n",
       " \"Ga'kanama abunna zukuta\",\n",
       " \"Ga'kunamy sumy neyka zaka'chésuya\",\n",
       " \"Ga'kunamy sump na'ba agagiikuya\",\n",
       " \"G.ij.z. (Ga'kuname i'ngwijuna zaka'chésuya)\",\n",
       " 'G.ij.z. mend ndnukin wazweingwa neyka',\n",
       " 'Gwamy guga',\n",
       " \"Gwamw guga guwa umin a'zuna\",\n",
       " 'Gwamwu guga gawuydrigun',\n",
       " 'Gwamu guga gawuya-jina',\n",
       " \"Gwamua guga guwa awd a'zuna\",\n",
       " 'Gwamu guga zukuta',\n",
       " \"Gwamwu guga zukuta ka'gumu re'kumey\",\n",
       " 'zoya si wasuya',\n",
       " 'Gwamy yeyka unchufiwn gwdsuyajina',\n",
       " 'Gwamw guga unchuitdsuya',\n",
       " \"Gwamu guga unchuitwya re'zugurusi zoya\",\n",
       " \"I'ngweti i‘ngweti menanuydy mikundnuya\",\n",
       " 'neyka',\n",
       " 'Inu ikumey zweingwa du kawi ga‘kanama',\n",
       " 'wésuyajina',\n",
       " \"Ka'se' inu a'chuiakumuyeykazey nari,jwi\",\n",
       " \"anni'kumyyari\",\n",
       " \"Ka'gumy awd re'kumana'ba windiiunni'sana\",\n",
       " \"Ka'gume fkuzey re'kumana\",\n",
       " '']"
      ]
     },
     "execution_count": 121,
     "metadata": {},
     "output_type": "execute_result"
    }
   ],
   "source": [
    "iken = iken[iken.index('Birin'):]\n",
    "iken = iken.replace('\\n\\n','\\n').split(\"\\n\")\n",
    "iken"
   ]
  },
  {
   "cell_type": "code",
   "execution_count": 122,
   "metadata": {},
   "outputs": [],
   "source": [
    "lexico = texto['texto_lexico']\n",
    "esp = lexico.split('\\n69')[1].split('\\nCASTELLANO\\n')[1]\n",
    "iken = lexico.split('\\n69')[1].split('\\nCASTELLANO\\n')[0]"
   ]
  },
  {
   "cell_type": "code",
   "execution_count": 123,
   "metadata": {
    "tags": []
   },
   "outputs": [
    {
     "data": {
      "text/plain": [
       "['Comisién de Ordenamiento',\n",
       " 'Territorial',\n",
       " 'estado',\n",
       " 'cédula de ciudadania',\n",
       " 'indocumentado',\n",
       " 'acci6n de tutela',\n",
       " 'persona con doble nacionalidad',\n",
       " 'nuestro pais (Colombia)',\n",
       " 'nuestro territorio (Linea Negra)',\n",
       " 'cuerpo jurisdiccional (juez)',\n",
       " 'departamento',\n",
       " 'municipio',\n",
       " 'empleado piiblico',\n",
       " 'accién popular',\n",
       " 'plan o programa de desarrollo',\n",
       " 'concejales',\n",
       " 'miembros de las asambleas',\n",
       " 'departamentales',\n",
       " 'autoridad del departamento',\n",
       " '(Gobernador)',\n",
       " 'autoridad del municipio (Alcalde)',\n",
       " 'ciudadano',\n",
       " '']"
      ]
     },
     "execution_count": 123,
     "metadata": {},
     "output_type": "execute_result"
    }
   ],
   "source": [
    "esp = esp[esp.index('Comisién'):]\n",
    "esp = esp.replace('\\n\\n','\\n').split(\"\\n\")\n",
    "esp"
   ]
  },
  {
   "cell_type": "code",
   "execution_count": 124,
   "metadata": {},
   "outputs": [
    {
     "data": {
      "text/plain": [
       "[\"Ka'guma re‘kumungwa'ba chwi winzwein\",\n",
       " 'nikuyajina',\n",
       " \"Kuma'pinre’tana\",\n",
       " \"Jwa'kumukweyna\",\n",
       " \"Jwa'kumukweyna kuna’ neyka\",\n",
       " 'Michwi Enanay4y Winikwuya',\n",
       " \"Mu'bajwa'kumukwéy neyka kundnuya\",\n",
       " \"Niwi ka'-jome riwen\",\n",
       " \"Niwi U'meke\",\n",
       " \"No'ku' neykazey, a'tuhuyeykazey\",\n",
       " 'gwame gwdkuya',\n",
       " \"(Niwi ka'jome riwun) ka'gumy re'kumana\",\n",
       " 'umiin zauna',\n",
       " \"(Niwi ka'jome riwen) ka'gumy re'kumana\",\n",
       " 'awa zuna',\n",
       " \"Re'masi neyka ka'mukanungwasi iku\",\n",
       " \"a'chuhakumana\",\n",
       " \"Re'masi Neykazey Nari Nanaydy Winikwuya\",\n",
       " 'Rifawazori awungwa neyka',\n",
       " \"Sakuku dikin wina'zuna awa re'kumana'ba zanu\",\n",
       " \"Sakuku dikin wina'zana umért awutari\",\n",
       " \"re'kumana'ba zane\",\n",
       " \"Sakuku ka'gume umn awutari re'kumana'ba\",\n",
       " 'zane',\n",
       " \"Sakuku ka'gume awd re‘kumana'ba zanu\",\n",
       " \"Umi a'zuna-jwa'kumukwéy neyka kundneya\",\n",
       " '70',\n",
       " '']"
      ]
     },
     "execution_count": 124,
     "metadata": {},
     "output_type": "execute_result"
    }
   ],
   "source": [
    "iken = iken[iken.index(\"Ka'guma\"):]\n",
    "iken = iken.replace('\\n\\n','\\n').split(\"\\n\")\n",
    "iken"
   ]
  },
  {
   "cell_type": "code",
   "execution_count": 125,
   "metadata": {},
   "outputs": [],
   "source": [
    "lexico = {'patrimonio arqueolégico': 'Birin zanv pinnazey nari inwki eyki chuzdéneya',\n",
    "          'diversidad étnica y cultural': \"Diwun diwun winnenanuyay akwuya\",\n",
    "          'grupos étnicos': 'Diwan diwan winnenanuydy akwey zoya',\n",
    "          'minorias politicas': \"Diwén diwan arufiey awa re'muga re'béakumey zoya\",\n",
    "          'consejero': \"Du kawi ga'kunamu wésuya\",\n",
    "          'derecho': 'Enanuyay',\n",
    "          'parques naturales': \"Eytiwe ikwey ka'gume re‘kumana\",\n",
    "          'Constitucién Politica': \"Ga'kanama abunna zukuta\",\n",
    "          'titulo': \"Ga'kunamy sumy neyka zaka'chésuya\",\n",
    "          'capitulo':\"Ga'kunamy sump na'ba agagiikuya\",\n",
    "          'articulo': \"G.ij.z. (Ga'kuname i'ngwijuna zaka'chésuya)\",\n",
    "          'articulo transitorio': 'G.ij.z. mend ndnukin wazweingwa neyka',\n",
    "          'ley': 'Gwamy guga',\n",
    "          'senador': \"Gwamw guga guwa umin a'zuna\",\n",
    "          'rama legislativa': 'Gwamwu guga gawuydrigun',\n",
    "          'cuerpo legislativo o congresistas': 'Gwamu guga gawuya-jina',\n",
    "          'Representante a la Camara': \"Gwamua guga guwa awd a'zuna\",\n",
    "          'Ley Organica': 'Gwamu guga zukuta',\n",
    "         'Ley Organica de Ordenamiento Territorial': \"Gwamwu guga zukuta ka'gumu re'kumey zoya si wasuya\",\n",
    "         'cuerpo ejecutivo': 'Gwamy yeyka unchufiwn gwdsuyajina',\n",
    "         'decreto': 'Gwamw guga unchuitdsuya',\n",
    "         'resolucién': \"Gwamu guga unchuitwya re'zugurusi zoya\",\n",
    "         'los derechos de las personas': \"I'ngweti i‘ngweti menanuydy mikundnuya neyka\",\n",
    "         'consejo consultivo': 'Inu ikumey zweingwa du kawi ga‘kanama wésuyajina',\n",
    "         'regalias': \"Ka'se' inu a'chuiakumuyeykazey nari,jwi anni'kumyyari\",\n",
    "         'reunién de municipios (provincia)': \"Ka'gumy awd re'kumana'ba windiiunni'sana\",\n",
    "         'territorio indigena': \"Ka'gume fkuzey re'kumana\",\n",
    "         'Comision de Ordenamiento Territorial': \"Ka'guma re‘kumungwa'ba chwi winzwein nikuyajina\",\n",
    "         'estado': \"Kuma'pinre’tana\",\n",
    "         'cédula de ciudadania': \"Jwa'kumukweyna\",\n",
    "         'indocumentado': \"Jwa'kumukweyna kuna’ neyka\",\n",
    "         'accion de tutela': 'Michwi Enanuyay Winikwuya',\n",
    "         'persona con doble nacionalidad': \"Mu'bajwa'kumukwéy neyka kundnuya\",\n",
    "         'nuestro pais (Colombia)': \"Niwi ka'-jome riwen\",\n",
    "         'nuestro territorio (Linea Negra)': \"Niwi U'meke\",\n",
    "         'cuerpo jurisdiccional (juez)': \"No'ku' neykazey, a'tuhuyeykazey gwame gwdkuya\",\n",
    "         'departamento': \"(Niwi ka'jome riwun) ka'gumy re'kumana  umiin zauna\",\n",
    "         'municipio': \"(Niwi ka'jome riwen) ka'gumy re'kumana awuzuna\",\n",
    "         'empleado publico': \"Re'masi neyka ka'mukanungwasi iku a'chuhakumana\",\n",
    "         'accion popular': \"Re'masi Neykazey Nari Nanaydy Winikwuya\",\n",
    "         'plan o programa de desarrollo': 'Rifawazori awungwa neyka',\n",
    "         'concejales':  \"Sakuku dikin wina'zuna awa re'kumana'ba zanu\",\n",
    "         'miembros de las asambleas departamentales': \"Sakuku dikin wina'zana umért awutari re'kumana'ba zane\",\n",
    "         'autoridad del departamento (Gobernador)': \"Sakuku ka'gume umn awutari re'kumana'ba zanu\",\n",
    "         'autoridad del municipio (Alcalde)': \"Sakuku ka'gume awd re‘kumana'ba zanu\",\n",
    "         'ciudadano': \"Umi a'zuna-jwa'kumukwéy neyka kundneya\"\n",
    "         }"
   ]
  },
  {
   "cell_type": "code",
   "execution_count": 126,
   "metadata": {},
   "outputs": [
    {
     "data": {
      "text/plain": [
       "46"
      ]
     },
     "execution_count": 126,
     "metadata": {},
     "output_type": "execute_result"
    }
   ],
   "source": [
    "len(lexico)"
   ]
  },
  {
   "cell_type": "code",
   "execution_count": 127,
   "metadata": {},
   "outputs": [],
   "source": [
    "corpus_constitucion = []\n",
    "\n",
    "for key_w, value_e in lexico.items():\n",
    "    corpus_constitucion.append({'arahuaco': value_e, 'esp': key_w})"
   ]
  },
  {
   "cell_type": "code",
   "execution_count": 128,
   "metadata": {
    "collapsed": true,
    "jupyter": {
     "outputs_hidden": true
    },
    "tags": []
   },
   "outputs": [
    {
     "data": {
      "text/plain": [
       "[{'arahuaco': 'Birin zanv pinnazey nari inwki eyki chuzdéneya',\n",
       "  'esp': 'patrimonio arqueolégico'},\n",
       " {'arahuaco': 'Diwun diwun winnenanuyay akwuya',\n",
       "  'esp': 'diversidad étnica y cultural'},\n",
       " {'arahuaco': 'Diwan diwan winnenanuydy akwey zoya', 'esp': 'grupos étnicos'},\n",
       " {'arahuaco': \"Diwén diwan arufiey awa re'muga re'béakumey zoya\",\n",
       "  'esp': 'minorias politicas'},\n",
       " {'arahuaco': \"Du kawi ga'kunamu wésuya\", 'esp': 'consejero'},\n",
       " {'arahuaco': 'Enanuyay', 'esp': 'derecho'},\n",
       " {'arahuaco': \"Eytiwe ikwey ka'gume re‘kumana\", 'esp': 'parques naturales'},\n",
       " {'arahuaco': \"Ga'kanama abunna zukuta\", 'esp': 'Constitucién Politica'},\n",
       " {'arahuaco': \"Ga'kunamy sumy neyka zaka'chésuya\", 'esp': 'titulo'},\n",
       " {'arahuaco': \"Ga'kunamy sump na'ba agagiikuya\", 'esp': 'capitulo'},\n",
       " {'arahuaco': \"G.ij.z. (Ga'kuname i'ngwijuna zaka'chésuya)\",\n",
       "  'esp': 'articulo'},\n",
       " {'arahuaco': 'G.ij.z. mend ndnukin wazweingwa neyka',\n",
       "  'esp': 'articulo transitorio'},\n",
       " {'arahuaco': 'Gwamy guga', 'esp': 'ley'},\n",
       " {'arahuaco': \"Gwamw guga guwa umin a'zuna\", 'esp': 'senador'},\n",
       " {'arahuaco': 'Gwamwu guga gawuydrigun', 'esp': 'rama legislativa'},\n",
       " {'arahuaco': 'Gwamu guga gawuya-jina',\n",
       "  'esp': 'cuerpo legislativo o congresistas'},\n",
       " {'arahuaco': \"Gwamua guga guwa awd a'zuna\",\n",
       "  'esp': 'Representante a la Camara'},\n",
       " {'arahuaco': 'Gwamu guga zukuta', 'esp': 'Ley Organica'},\n",
       " {'arahuaco': \"Gwamwu guga zukuta ka'gumu re'kumey zoya si wasuya\",\n",
       "  'esp': 'Ley Organica de Ordenamiento Territorial'},\n",
       " {'arahuaco': 'Gwamy yeyka unchufiwn gwdsuyajina', 'esp': 'cuerpo ejecutivo'},\n",
       " {'arahuaco': 'Gwamw guga unchuitdsuya', 'esp': 'decreto'},\n",
       " {'arahuaco': \"Gwamu guga unchuitwya re'zugurusi zoya\", 'esp': 'resolucién'},\n",
       " {'arahuaco': \"I'ngweti i‘ngweti menanuydy mikundnuya neyka\",\n",
       "  'esp': 'los derechos de las personas'},\n",
       " {'arahuaco': 'Inu ikumey zweingwa du kawi ga‘kanama wésuyajina',\n",
       "  'esp': 'consejo consultivo'},\n",
       " {'arahuaco': \"Ka'se' inu a'chuiakumuyeykazey nari,jwi anni'kumyyari\",\n",
       "  'esp': 'regalias'},\n",
       " {'arahuaco': \"Ka'gumy awd re'kumana'ba windiiunni'sana\",\n",
       "  'esp': 'reunién de municipios (provincia)'},\n",
       " {'arahuaco': \"Ka'gume fkuzey re'kumana\", 'esp': 'territorio indigena'},\n",
       " {'arahuaco': \"Ka'guma re‘kumungwa'ba chwi winzwein nikuyajina\",\n",
       "  'esp': 'Comision de Ordenamiento Territorial'},\n",
       " {'arahuaco': \"Kuma'pinre’tana\", 'esp': 'estado'},\n",
       " {'arahuaco': \"Jwa'kumukweyna\", 'esp': 'cédula de ciudadania'},\n",
       " {'arahuaco': \"Jwa'kumukweyna kuna’ neyka\", 'esp': 'indocumentado'},\n",
       " {'arahuaco': 'Michwi Enanuyay Winikwuya', 'esp': 'accion de tutela'},\n",
       " {'arahuaco': \"Mu'bajwa'kumukwéy neyka kundnuya\",\n",
       "  'esp': 'persona con doble nacionalidad'},\n",
       " {'arahuaco': \"Niwi ka'-jome riwen\", 'esp': 'nuestro pais (Colombia)'},\n",
       " {'arahuaco': \"Niwi U'meke\", 'esp': 'nuestro territorio (Linea Negra)'},\n",
       " {'arahuaco': \"No'ku' neykazey, a'tuhuyeykazey gwame gwdkuya\",\n",
       "  'esp': 'cuerpo jurisdiccional (juez)'},\n",
       " {'arahuaco': \"(Niwi ka'jome riwun) ka'gumy re'kumana  umiin zauna\",\n",
       "  'esp': 'departamento'},\n",
       " {'arahuaco': \"(Niwi ka'jome riwen) ka'gumy re'kumana awuzuna\",\n",
       "  'esp': 'municipio'},\n",
       " {'arahuaco': \"Re'masi neyka ka'mukanungwasi iku a'chuhakumana\",\n",
       "  'esp': 'empleado publico'},\n",
       " {'arahuaco': \"Re'masi Neykazey Nari Nanaydy Winikwuya\",\n",
       "  'esp': 'accion popular'},\n",
       " {'arahuaco': 'Rifawazori awungwa neyka',\n",
       "  'esp': 'plan o programa de desarrollo'},\n",
       " {'arahuaco': \"Sakuku dikin wina'zuna awa re'kumana'ba zanu\",\n",
       "  'esp': 'concejales'},\n",
       " {'arahuaco': \"Sakuku dikin wina'zana umért awutari re'kumana'ba zane\",\n",
       "  'esp': 'miembros de las asambleas departamentales'},\n",
       " {'arahuaco': \"Sakuku ka'gume umn awutari re'kumana'ba zanu\",\n",
       "  'esp': 'autoridad del departamento (Gobernador)'},\n",
       " {'arahuaco': \"Sakuku ka'gume awd re‘kumana'ba zanu\",\n",
       "  'esp': 'autoridad del municipio (Alcalde)'},\n",
       " {'arahuaco': \"Umi a'zuna-jwa'kumukwéy neyka kundneya\", 'esp': 'ciudadano'}]"
      ]
     },
     "execution_count": 128,
     "metadata": {},
     "output_type": "execute_result"
    }
   ],
   "source": [
    "corpus_constitucion"
   ]
  },
  {
   "cell_type": "markdown",
   "metadata": {},
   "source": [
    "# texto "
   ]
  },
  {
   "cell_type": "code",
   "execution_count": 129,
   "metadata": {},
   "outputs": [],
   "source": [
    "with open('/Users/frubana/Desktop/NLP/ProyectoNLP/data/ocr_constitucion_arhuaco/constitucion_esp.pickle', 'rb') as archivo:\n",
    "    # Carga los datos desde el archivo pickle\n",
    "    esp = pickle.load(archivo)"
   ]
  },
  {
   "cell_type": "code",
   "execution_count": 130,
   "metadata": {
    "tags": []
   },
   "outputs": [
    {
     "data": {
      "text/plain": [
       "['CARTA DEL SENOR PRESIDENTE DE LA REPUBLICA DE COLOMBIA',\n",
       " 'Santafé de Bogotd, Septiembre de 1993',\n",
       " 'Apreciados amigos:',\n",
       " 'Al clausurar las sesiones de la Asamblea Nacional Constituyente afirmé que ese dia seiniciaba una nueva era en la historia de Colombia. Esa misma felicidad que desde entoncesanima el coraz6n de los colombianos, esa satisfaccién que sentimos quienes hemos luchadosin tregua por construir una patria abierta a la participacién, que no excluya a nadie, quecobije por igual a pobres y a ricos, a fuertes y a débiles, a los que han sido gestores denuestra historia, cobra un especial sentido con la publicacién de nuestra Carta Magna a sietelenguas indfgenas.',\n",
       " 'Qué equivocados estaban quienes afirmaron alguna vez que la Constitucién seria un textomuerto. La entrega oficial de esta traducci6n es el resultado de un exhaustivo e intensotrabajo con los representantes de las comunidades indfgenas, en el cual nos hemos nutridode su milenaria sabidurfa, para comprender con ellos, el secreto de su ancestral convivenciapacifica. Por eso, este texto no se conformé con convertir una palabra hispénica en otraindfgena, sino que fue més alld en su esfuerzo; agregé a las normas constitucionales, lasabia filosofia de estos pueblos, enriqueciendo el sentido de los principios constitucionales.',\n",
       " 'Por lo tanto, no vacilo en afirmar que este texto encarna el espiritu que animé la labor delos Constituyentes: tenemos derecho a vivir en un pais que como éste, sea amplio, tolerantey lo suficientemente democrético, para que todos tengamos un lugar bajo el sol deColombia.',\n",
       " 'Me asiste la certeza de que con la conclusién de este esfuerzo, Ustedes reciben lasherramientas necesarias para emprender la construcci6n de un nuevo y mejor futuro.',\n",
       " 'CESAR GAVIRIA TRUJILLO',\n",
       " 'CARTA DEL SENOR EMBAJADOR DE ESPANA EN COLOMBIA',\n",
       " 'oO aGuaber 7) ade de Espa Ww',\n",
       " 'Es para mi especial satisfacci6n presentar esta publicacién de la Traduccién de laConstitucién de la Reptiblica de Colombia a las lenguas indigenas, en la que Espajiaofrecié su decidido aporte a través de la Sociedad Estatal Quinto Centenario, como uno delos proyectos mas importantes de 1.992.',\n",
       " 'Desde la Constitucién de 1.991 hemos compartido el esfuerzo del Gobiernocolombiano por impulsar el reconocimiento de los derechos y soberania de lasComunidades Indigenas del pais, hecho este que marca un precedente altamentesignificativo en América Latina. En esa linea la Embajada de Espafia est4 realizando unimportante esfuerzo por apoyar cualquier iniciativa que contribuya al desarrollo deproyectos en Comunidades Indigenas del pais.',\n",
       " 'Siempre hemos pensado que el apoyo a la cultura autéctona en Iberoaméricaresponde no s6lo a factores de solidaridad hist6rica, de preservaci6n del Medio Ambiente,o de integracién cultural, sino también al obligado respeto que se debe tener porpoblaciones que estén haciendo de su subsistencia cultural un reto no exento dedificultades y problemas estructurales.',\n",
       " 'Esta publicacién que en definitiva acerca el texto fundamental de Colombia a laslenguas de las propias Comunidades, nos parece un elemento fundamental parareconquistar los valores comunes de una cultura sin fronteras ni razas.',\n",
       " 'Espero y deseo que iniciativas como estas consoliden formulas de entendimiento, y',\n",
       " 'nos acerquen atin més en los valores que todos compartimos de identidad, progreso ydesarrollo.',\n",
       " 'NULLS',\n",
       " 'Carmelo Angulo Barturen',\n",
       " 'CARTA DEL CABILDO GOBERNADOR ARHUACO *',\n",
       " 'Nabusimuke, mes de Febrero del afio 1994.',\n",
       " 'Dias atrds, cuando se concluy6 la elaboracién de la nueva Constitucién Politica, elgobierno puso en nuestra consideracién su intencién de traducir la nueva carta a la lenguaarhuaca . Nosotros vefamos que de ser traducida, tal vez la podiamos asimilar mejor, por locual se respondié que sf.',\n",
       " 'Para ese trabajo se escogieron varias personas, entre las que estarfa un abogado para prestarasesorfa. Sin embargo no se procedié a traducir toda la Constitucién sino que seseleccionaron aquellos apartes de mayor interés para nosotros. De hecho lo que alli serecoge, es lo que nosotros necesitamos conocer para la lucha y la defensa de la cultura. Poreso, al ser publicada esta cartilla, debemos estudiarla, ya que estando en nuestra propialengua podemos comprender mejor los elementos que nos da la Constitucién.',\n",
       " 'En lo que concierne a nuestras autoridades, ellos deben asimilar bien lo que alli fuecontemplado, para poder exigir al gobierno su cumplimiento. Los nuevos lideres que estansurgiendo y los estudiantes, deben igualmente ir conociendo dichos elementos.',\n",
       " 'El afio anterior en las regiones de Sabana Crespo y Jewrwa, al informarse sobre eldesarrollo de esta traduccién se aprecié su conveniencia e importancia. Ahora al apareceresta cartilla que representa el resultado de ese trabajo, se espera que haya de nuestra parteverdadero interés en conocerla a profundidad.',\n",
       " 'Este mensaje no tiene otro objeto més que presentar las ideas anteriormente expuestas.',\n",
       " 'BIENVENIDO ARROYOCabildo Gobernador',\n",
       " 'UNA PALABRA ACERCA DE LA ELABORACIONDE ESTA CARTILLA*',\n",
       " 'La elaboracion de esta cartilla surge de una iniciativa de la Presidencia de la Republicacuando, después de la Asamblea Nacional Constituyente, se manifesté el deseo de traducirla nueva Constitucién Politica de Colombia a las lenguas indigenas. Entonces para ellosolicitaron colaboracién al Centro Colombiano de Estudios de Lenguas Aborigenes de laUniversidad de los Andes (CCELA) donde se adelantan estudios sobre diferentes lenguasindigenas del pais. Luego de varias conversaciones se escogieron siete lenguas que son: DeSibundoy (Putumayo) dos lenguas: el Kamsé4, el Ingano; del Cauca, dos lenguas: elGuambiano, el Paéz; del Vaupés una lengua: el Cubeo; De la Sierra Nevada, una lengua:nuestra lengua Ikwn; y de la Guajira, una lengua: el Wayi.',\n",
       " 'Para elaborar el trabajo en nuestra lengua nos colaboraron especialmente: Jon Landaburu,director del Centro Colombiano de Estudios de Lenguas Aborigenes quien coordin6 lostrabajos en las siete lenguas y nos proporcioné los elementos necesarios; GuillermoPadilla, jurista que nos ayud6 a comprender los textos constitucionales; y, en SabanaCrespo, Jugaka e Isurwa, lugares donde se llevaron a cabo las sesiones de trabajo, noscolaboraron las autoridades. Como traductores participaron los sefiores: José MariaCrespo, Miguel Torres, Juan Bautista Ramos, Emeterio Arroyo y Rubiel Zalabata.',\n",
       " 'La cartilla consta de tres partes: La primera contiene la traduccién de los cuarenta articulosseleccionados, la cual, si bien puede ser aprendida por todos, puede servir especialmente alas autoridades. En algunos casos para comprender mejor el contenido de los articulos seagrego una explicacién que aparece en letras mas pequefias. La segunda parte contiene loscuarenta articulos en castellano y demds textos escritos en ikun en la primera parte; latercera parte, explica cada una de las palabras contenidas en los trece artfculos que sesacaron por aparte; ella puede ser de utilidad sobre todo para los maestros. Esta ultima seescribié con el deseo de que sea util para ir adquiriendo claridad en la identificacién de loselementos gramaticales que acompaiian las diferentes clases de palabras, en nuestralengua.',\n",
       " 'Este texto en ikun fue construido poco a poco; y aunque sabemos que estos escritos puedenser mejorados, al término de un afio de haber iniciado este trabajo, ha sido preciso recogerlos resultados obtenidos para su respectiva publicacién. Puede afirmarse que hasta ahoraestamos aprendiendo a leer y escribir en nuestra lengua y es la primera vez que nosenfrentamos a traducir el lenguaje juridico. Por lo cual mds tarde se podran ver los errorescometidos en lo que hoy se presenta, pero de momento su lectura puede ayudar a avanzaren el conocimiento de estos temas.',\n",
       " 'Hemos tratado de explicar los conceptos de la Constitucién, en un iken libre deextranjerismos pero en algunos casos no encontramos las palabras adecuadas, no sabemosatin si éstas podrian o no encontrarse en nuestra lengua. En contados casos se crearonnuevas palabras o expresiones, que aparecen en este escrito. Nada nos permite saber eneste momento si tales palabras van a ser acogidas o no; si mas tarde se ve la convenienciade reemplazarlas por otras, hay libertad para hacerlo, de lo contrario podrian quedar talcual, todo es posible. Pero sdlo leyendo el presente texto con detenimiento y conintenciones de avanzar, podrdén sentir donde estan los aciertos y los defectos del trabajo.',\n",
       " 'Asumimos la responsabilidad de sacar adelante este trabajo porque suele afirmarse que \"sinos hablaran en nuestro idioma entenderfamos mejor\", porque en los territorios indfgenasse aprenden las dos lenguas (la propia y el castellano) y porque consideramos convenienteescribir en ikun el contenido de la Constitucién. Por todo lo anterior, considero que al serpublicado este trabajo, conviene en todo caso leerlo.',\n",
       " 'RUBIEL ZALABATA TORRES.Responsable de la Traduccién',\n",
       " 'Santafé de Bogota, Octubre de 1993.',\n",
       " 'PALABRAS DEL COORDINADOR DE LA TRADUCCIONA SIETE LENGUAS INDIGENAS',\n",
       " 'Cuando, a fines de 1991, los Consejeros del Presidente de la Republica Mamaron al CentroColombiano de Estudios de Lenguas Aborfgenes de la Universidad de los Andes parapreguntar si podiamos traducir la nueva Constitucién a varias lenguas indigenas del pafs,contestamos que si, con un poco de miedo y con mucho entusiasmo a la vez. Los estudiosque desarrollabamos aqui, desde hacia mds de diez afios, nos habian mostrado a todos,estudiantes, profesores e investigadores, la profundidad, sutileza y belleza de la gramaticay del léxico de las lenguas ind{genas. La prdctica de sus textos mitolégicos, de sus cantos,de su arte de contar nos habian convencido del gran valor estético, literario y de sabiduriade sus tradiciones. Sin embargo, traducir la Constitucién, o sea, buscar los equivalentes deexpresiones y términos juridicos muy propios de la tradicién occidental a lenguasindigenas tan alejadas de esta misma tradicién, suponfa un desafio totalmente nuevo y unTiesgo alto.',\n",
       " 'El trabajo no podia ser un simple ejercicio individual de una persona que, manejando doslenguas, se sienta en su escritorio y acomete, sola, la traduccién. Por la dificultad del textocastellano por traducir, por la necesidad de buscar en las lenguas indigenas palabras y giroscon usos 0 sentidos muy poco familiares a los hablantes, era imprescindible dar un cardctercolectivo a la traducci6n y recurrir a grandes conocedores de la tradicién por un lado, a“personas-puentes\" por otro lado. Las personas-puentes iban a ser, en primer lugar,indigenas lingiiistas, formados casi todos en nuestro centro, pero también maestros,promotores de salud, lideres politicos, en general gente con un mejor conocimiento delmundo blanco ; los conocedores de la tradicién serfan segtin los casos : mamos, payés,chamanes, taitas y ancianos 0 sea lideres espirituales de las comunidades.',\n",
       " 'Durante mas de un aijio, los lingiiistas indfgenas organizaron equipos de traduccién yreuniones con las comunidades para estudiar los textos, crear o rescatar términos,someterlos a discusién. En mds de una ocasién tuvieron que volver a empezar porque lagente no entendfa. Cada dos meses se reunfan con nosotros en Bogoté dondeexamindbamos las dificultades entre todos y tratabamos de ayudar.',\n",
       " 'No solamente tuvimos, con la ayuda de los abogados, que aclarar, explicar y comentar eltexto de la Constitucién sino que, para acercar este pensamiento a culturas que no hanconocido sino hasta hace muy poco la escritura alfabética o una organizaci6n social enciudades, tuvimos que averiguar el nacimiento en el mundo occidental de muchas de estaspalabras e ideas juridicas : averiguar con fildlogos, estudiar con filésofos, comparar conantropdlogos, qué significado originario tienen palabras como “derecho, ley, Estado,autoridad, ciudadanfa, democracia, etc.\", entre las tribus indo-europeas de la Antigiiedad,entre griegos y latinos y también entre pueblos de otras tradiciones que se inventaron estaclase de nociones y palabras cuando el uso de la escritura y el acercamiento al mundo delas ciudades los impulsé a formalizar y desarrollar sus instituciones politicas, religiosas,econémicas y penales. Este trabajo y una constante discusién sobre las, muy diversas,tradiciones indigenas de Colombia nos permitieron ayudar a acufiar expresiones que nofueran simples equivalentes sino que se construyeran sobre raices fundamentales de lalengua. Los simbolos de la casa, del cuerpo, de las direcciones del césmos, de la firmeza,de la palabra sagrada como compromiso, y tantos otros, fueron asi utilizados para estenuevo uso, asf como lo fueran, en el nacimiento de la forma escrita del derecho dondequiera que apareciera.',\n",
       " 'Para que personas no hablantes de estas lenguas puedan medir el esfuerzo realizado ypuedan apreciar el pensamiento indigena, pedimos a los lingiiistas que presentardn tambiénuna traduccién directa al castellano de la traduccién en lengua indfgena de los principalesarticulos de la Constitucion. Aparece en la tercera parte de este libro. Esta parte sirvetambién a los maestros y estudiosos indigenas de las comunidades que quieran ver cémo sehizo la traduccién, con dnimo de mejorarla y de entrar mds profundamente en elfuncionamiento de su lengua.',\n",
       " 'No se tradujo toda la Constitucién. Solamente los articulos relativos a los derechosfundamentales de la persona y los que tienen que ver con los derechos de los pueblosindfgenas. As{ todo, son mas de cuarenta articulos. Creemos que se allané el camino paratraducir los otros cuando surja la necesidad.',\n",
       " 'Solo se hizo la traduccién en siete lenguas : el Wayiinaiki de la Guajira, el Nasa Yuwe oP4ez del Cauca, el Guambiano del Cauca, el Ika 0 Arhuaco de la Sierra Nevada de SantaMarta, el Camentsa y el Inga de Sibundoy, el Cubeo del Vaupés. Estas lenguas estan entrelas mds habladas de las sesenta y cinco lenguas diferentes que existen en Colombia. Sinembargo quedaron todas las otras por fuera de este esfuerzo, algunas con muchos hablantestambién. Las limitaciones en cuanto al dinero y en cuanto a lingiiistas indfgenasdisponibles nos impidieron cubrir otras lenguas por esta vez. Esperamos que pronto sepueda dar una experiencia semejante en otras comunidades que lo deseen.',\n",
       " 'Para nosotros este trabajo fue una experiencia muy satisfactoria. Muy satisfactorio tambiénsentir la vitalidad de estos pueblos antiguos, emprendiendo nuevos caminos de',\n",
       " 'entendimiento del mundo de hoy, que sean a la vez nuevos caminos de profundizacién desu memoria. A todos muchas gracias.',\n",
       " '—s',\n",
       " 'Jon LANDABURU (CNRS)Director del Centro Colombiano de Estudios de Lenguas Aborigenes (CCELA)',\n",
       " 'Santafé de Bogotd, Febrero de 1994',\n",
       " 'a oe re = ae ~ . > ENN ES SERS',\n",
       " 'B. CUARENTA ARTICULOS DE LACONSTITUCION SELECCIONADOS PARA SERTRADUCIDOS',\n",
       " '1. ARTICULOS RELATIVOS A LOS PRINCIPIOSFUNDAMENTALES DEL ESTADO *',\n",
       " 'Articulo 1. Colombia es un Estado social de derecho, organizado en forma de Republicaunitaria, descentralizada, con autononomfa de sus entidades territoriales, democratica,participativa y pluralista, fundada en el respeto de la dignidad humana, en el trabajo y lasolidaridad de las personas que la integran y en la prevalencia del interés general.',\n",
       " 'Articulo 2. Son fines esenciales del Estado: servir a la comunidad, promover laprosperidad general y garantizar la efectividad de los principios, derechos y deberesconsagrados en la Constituci6n; facilitar la participacién de todos en las decisiones que losafectan y en la vida econémica, politica, administrativa y cultural de la Nacién; defender laindependencia nacional, mantener la integridad territorial y asegurar la convivenciapacffica y la vigencia de un orden justo.',\n",
       " 'Las autoridades de la Republica estan instituidas para proteger a todas las personastesidentes en Colombia, en su vida, honra, bienes, creencias, y demas derechos ylibertades, y para asegurar el cumplimiento de los deberes sociales del Estado y de losparticulares.',\n",
       " 'Articulo 3. La soberania reside exclusivamente en el pueblo, del cual emana el poderptiblico. El pueblo la ejerce en forma directa o por medio de sus representantes, en lostérminos que la Constitucién establece.',\n",
       " '2. ARTICULOS RELATIVOS A LOS DERECHOSDE LAS PERSONAS',\n",
       " 'Articulo 11. El derecho a la vida es inviolable. No habr4 pena de muerte.',\n",
       " 'Articulo 12. Nadie sera sometido a desaparicién forzada, a torturas ni a tratos o penascrueles, inhumanos o degradantes.',\n",
       " 'Articulo 13. Todas las personas nacen libres e iguales ante la ley, recibiran la mismaproteccién y trato de las autoridades y gozarén de los mismos derechos, libertades yoportunidades sin ninguna discriminacién por razones de sexo, raza, origen nacional ofamiliar, lengua, religion, opinion politica o filos6fica.',\n",
       " 'El Estado promoverd las condiciones para que la igualdad sera real y efectiva y adoptarémedidas en favor de grupos discriminados o marginados.',\n",
       " 'El Estado proteger4 especialmente a aquellas personas que por su condicién econémica,ffsica o mental, se encuentren en circunstancia de debilidad manifiesta y sancionaré losabusos o maltratos que contra ellas se cometan.',\n",
       " 'Articulo 17. Se prohiben la exclavitud, la servidumbre y la trata de seres humanos entodas sus formas.',\n",
       " 'Articulo 18. Se garantiza la libertad de conciencia. Nadie ser4 molestado por raz6n de susconvicciones 0 creencias ni compelido a relevarlas ni obligado a actuar contra suconciencia.',\n",
       " 'Articulo 19. Se garantiza la libertad de cultos. Toda persona tiene derecho a profesarlibremente su religi6n y a difundirla en forma individual 0 colectiva.',\n",
       " 'Todas la confesiones religiosas e iglesias son igualmente libres ante la ley.',\n",
       " 'Articulo 24. Todo colombiano, con las limitaciones que establezca la ley, tiene derecho acircular libremente por el territorio nacional, a entrar y salir de él, y a permanecer yresidenciarse en Colombia.',\n",
       " 'Articulo 43. La mujer y el hombre tienen iguales derechos y oportunidades. La mujer nopodra ser sometida a ninguna clase de discriminacién. Durante el embarazo y después delparto gozard de especial asistencia y proteccién del Estado, y recibiré de éste subsidioalimentario si entonces estuviere desempleada o desamparada.',\n",
       " 'El Estado apoyard de manera especial a la mujer cabeza de familia.',\n",
       " 'Articulo 44. Son derechos fundamentales de los nifios: la vida, la integridad ffsica, la saludy la seguridad social, la alimentacién equilibrada, su nombre y nacionalidad, tener unafamilia y no ser separados de ella, el cuidado y amor, la educaci6n y la cultura, larecreacion y la libre expresién de su opinién. Serén protegidos contra toda forma deabandono, violencia fisica o moral, secuestro, venta, abuso sexual, explotacién laboral oeconémica y trabajos riesgosos. Gozaran también de los demas derechos consagrados en laconstituci6n, en las leyes y en los tratados internacionales ratificados por Colombia.',\n",
       " 'La familia, la sociedad y el Estado tienen la obligacién de asistir y proteger al nifio paragarantizar su desarrollo arménico e integral y el ejercicio pleno de sus derechos. Cualquierpersona puede exigir de la autoridad competente su cumplimiento y la sancidén de losinfractores. Los derechos de los nifios prevalecen sobre los derechos de los demas.',\n",
       " 'Articulo 27. El Estado garantiza las libertades de ensefianza, aprendizaje, investigacién ycatedra.',\n",
       " 'Articulo 68. Los particulares podran fundar establecimientos educativos. La leyestablecerd las condiciones para su creacién y gestion.',\n",
       " 'La comunidad educativa participard en la direccién de las instituciones de educacién.',\n",
       " 'La ensefianza estard a cargo de personas de reconocida idoneidad ética y pedagégica. La leygarantiza la profesionalizacién y dignificacién de la actividad docente.',\n",
       " 'Los padres de familia tendrén derecho de escoger el tipo de educacién para sus hijosmenores. En los establecimientos del Estado ninguna persona podra ser obligada a recibireducaci6n religiosa.',\n",
       " 'Los integrantes de los grupos étnicos tendran derecho a una formacién que respete ydesarrolle su identidad cultural.',\n",
       " 'La erradicacién del analfabetismo y la educacién de personas con limitaciones fisicas 0mentales, o con capacidades excepcionales, son obligaciones especiales del Estado.',\n",
       " '3. ARTICULOS RELATIVOS A LA PROTECCION DE LOS DERECHOSFUNDAMENTALES',\n",
       " 'Resamen de los articulos 86, 87, 88 redactado por los abogados asesores de latraduccion *',\n",
       " 'La Constitucién colombiana nos dice cuales son nuestros derechos y la manera deproteger y exigir su cumplimiento. Algunos de los derechos son consideradosfundamentales como el derecho a la vida, la libertad personal, el buen nombre y otrosmencionados en los articulos del 11 al 41 de la Constitucién Nacional.',\n",
       " 'Para hacer efectiva la proteccidén de estos derechos existen unos mecanismos quepodemos utilizar todos los ciudadanos directamente sin necesidad de recurrir a losservicios de un abogado.',\n",
       " 'Estos mecanismos se llaman acciones y se pueden utilizar cuando exista una amenaza deviolacién de los derechos o cuando efectivamente se hayan violado en perjuicio de laspersonas o las comunidades. Por medio de ellas se puede acudir ante los jueces parasolicitar protecccion.',\n",
       " 'Entre las principales acciones tenemos las siguientes: Accién de Tutela, Accién Publica yAccién popular.',\n",
       " '- Accién de Tutela. Esta accion la regula el articulo 86 de la Constitucién Nacional.',\n",
       " 'Toda persona o comunidad que se vea amenazada por un mal que no tenga reparacién oque no disponga de otro medio de defensa, puede pedir a cualquier juez que le protejan dela amenaza o violacion de sus derechos fundamentales.',\n",
       " 'Quien interpone la accién de tutela puede ser cualquier persona, menor de edad,indocumentado o analfabeta. Puede hacerse en forma oral o escrita, pero presentada porel afectado.',\n",
       " 'En la narracién oral o escrita se debe incluir ademds de la descripcidn de los hechos, elnombre y domicilio del autor de la violacién del derecho fundamental, y el nombre ydomicilio del solicitante.',\n",
       " 'El juez ante quien se interponga la accién de tutela tiene un plazo limite de diez (10) diaspara resolver la reclamacién.',\n",
       " '- Acci6n Publica. Esta accion la regula el articulo 87 de la Constitucién Nacional.',\n",
       " 'Cualquier persona puede acudir ante un juez para solicitar que se cumpla una ley o unaorden de otra autoridad publica.',\n",
       " '- Acciones Populares. Estas acciones las regula el artticulo 88 de la ConstituciénNacional.',\n",
       " 'Las acciones populares sirven para proteger derechos e intereses colectivos relacionadoscon los bienes de uso piiblico, el espacio, el ambiente, la seguridad y la salubridadpublicas y otros que contemplan nuestra Constitucién y la ley.',\n",
       " 'Cuando se causen dafios a una comunidad o un grupo de personas por violacién de estos',\n",
       " 'derechos, cualquier persona puede reclamar ante los jueces en nombre de todas, lareparacion del dano.',\n",
       " '4. ARTICULOS RELATIVOS A LA NACIONALIDAD',\n",
       " 'Articulo 96. Son nacionales colombianos:',\n",
       " 'c) Los miembros de pueblos indfgenas que comparten territorios fronterizos, conaplicacién del principio de reciprocidad segiin tratados publicos.',\n",
       " '5. ARTICULOS RELATIVOS A LOS DERECHOSDE LAS LENGUAS Y LAS CULTURASDE LOS PUEBLOS DE COLOMBIA',\n",
       " 'Articulo 7. El Estado reconoce y protege la diversidad étnica y cultural de la Naciéncolombiana.',\n",
       " 'Articulo 8. Es obligacién del Estado y de las personas proteger las riquezas culturales ynaturales de la Nacién.',\n",
       " 'Articulo 10. El castellano es el idioma oficial de Colombia. Las lenguas y dialectos de lospos étnicos son también oficiales en sus territorios. La ensefianza que se imparta en lascomunidades con tradiciones lingiifsticas propias seré bilingiie.',\n",
       " 'Articulo 63 . Los bienes de uso piblico, los parques naturales, las tierras comunales degrupos étnicos, las tierras de resguardos, el patrimonio arqueolégico de la Nacién y losdemés bienes que determine la ley, son inalienables, imprescriptibles e inembargables.',\n",
       " 'Articulo 72. El patrimonio cultural de la Nacién esta bajo la proteccién del Estado. Elpatrimonio arqueolégico y otros bienes culturales que conforman la identidad nacional,pertenecen a la NaciOn y son inalienables, inembargables ¢ imprescriptibles. La leyestableceré los mecanismos para readquirirlos cuando se encuentren en manos departiculares y reglamentaré4 los derechos especiales que pudieran tener los grupos étnicosasentados en territorios de riqueza arqueolégica.',\n",
       " 'Articulo 70.',\n",
       " 'La cultura en sus diversas manifestaciones es fundamento de la nacionalidad. El Estadoreconoce la igualdad y dignidad de todas las que conviven en el pafs. El Estado promoverala investigacién, la ciencia, el desarrollo y la difusién de los valores culturales de laNaci6n.',\n",
       " '6. ARTICULOS RELATIVOS A LA PARTICIPACIONEN LA VIDA POLITICA',\n",
       " 'Articulo 40. Todo ciudadano tiene derecho a participar en la conformaci6n, ejercicio ycontrol del poder politico. Para hacer efectivo este derecho puede:',\n",
       " '1. Elegir y ser elegido.',\n",
       " '2. Tomar parte en elecciones, plebiscitos, referendos, consultas populares y otras formas departicipaci6n democratica.',\n",
       " '3. Constituir partidos, movimientos y agrupaciones politicas sin limitaci6n alguna: formarparte de ellos libremente y difundir sus ideas y programas.',\n",
       " '4. Revocar el mandato de los elegidos en los casos y en la forma que establecen laConstituci6n y la ley.',\n",
       " '5. Tener iniciativa en las corporaciones piublicas.',\n",
       " '6. Interponer acciones publicas en defensa de la Constitucién y de la ley.',\n",
       " '7. Acceder al desempefio de funciones y cargos publicos, salvo los colombianos, pornacimiento o por adopcién, que tengan doble nacionalidad. La ley reglamentaré estaexcepcién y determinaré los casos a los cuales ha de aplicarse.',\n",
       " 'Las autoridades garantizarén la adecuada y efectiva participacién de la mujer en los nivelesdecisorios de la Administracion Publica.',\n",
       " 'Articulo 171. El Senado de la Republica estard integrado por cien miembros elegidos encircunscripcién nacional.',\n",
       " 'Habrd un numero adicional de dos senadores elegidos en circunscripcién nacional especialpor comunidades indigenas.',\n",
       " 'Los ciudadanos colombianos que se encuentren 0 residan en el exterior podran sufragar enlas elecciones para Senado de la Republica.',\n",
       " 'La Circunscripcién Especial para la eleccién de senadores por las comunidades indigenasse regird por el sistema de cuociente electoral.',\n",
       " 'Los representantes de las comunidades indfgenas que aspiren a integrar el Senado de laRepublica, deberin haber ejercido un cargo de autoridad tradicional en su respectivacomunidad o haber sido lider de una organizacién indigena, calidad que se acreditaramediante certificado de la respectiva organizacién, refrendado por el Ministro deGobierno.',\n",
       " 'Articulo 172. Para ser elegido senador se requiere ser colombiano de nacimiento,ciudadano en ejercicio y tener mds de treinta afios de edad en la fecha de la eleccién.',\n",
       " 'Articulo 176. La Camara de Representantes se eligird en circunscripciones territoriales ycircunscripciones especiales.',\n",
       " 'Para la eleccién de representantes a la Cémara, cada departamento y el Distrito Capital deBogot4 conformardén una circunscripci6n territorial. La ley podrd establecer unacircunscripci6n especial para asegurar la participacién en la Camara de Representantes delos grupos étnicos y de las minorfas politicas y de los colombianos residentes en elexterior.',\n",
       " 'Mediante esta circunscripcidn se podra elegir hasta cinco representantes.',\n",
       " 'Articulo 177. Para ser elegido representante se requiere ser ciudadano en ejercicio y tenermas de veinticinco afios de edad en la fecha de la elecci6n.',\n",
       " '7. ARTICULO RELATIVO A LA JUSTICIA EN LOSPUEBLOS INDIGENAS',\n",
       " 'Articulo 246. Las autoridades de los pueblos indigenas podran ejercer funcionesjurisdiccionales dentro de su dmbito territorial, de conformidad con sus propias normas yprocedimientos, siempre que no sean contrarios a la Constitucién y leyes de la Republica.La ley estableceré las formas de coordinaci6n de esta jurisdiccién especial con el sistemajudicial nacional.',\n",
       " '8. ARTICULOS RELATIVOS A LA ORGANIZACIONDE LOS TERRITORIOS',\n",
       " 'Articulo 286. Son entidades territoriales los departamentos, los distritos, los municipios ylos territorios indigenas.',\n",
       " 'La ley podré darles el cardcter de entidades territoriales a las regiones y provincias que seconstituyan en los términos de la Constitucién y de la ley.',\n",
       " 'Articulo 287. Las entidades territoriales gozan de autonomia para la gestién de susintereses, y dentro de los Ifmites de la Constitucién y la ley. En tal virtud tendrdn lossiguientes derechos:',\n",
       " '1. Gobernarse por autoridades propias.',\n",
       " '2. Ejercer las competencias que les correspondan.',\n",
       " '3. Administrar los recursos y establecer los tributos necesarios para el cumplimiento de susfunciones.',\n",
       " '4. Participar en las rentas nacionales.Articulo 290. Con el cumplimiento de los requisitos y formalidades que sefiale la ley, y en',\n",
       " 'los casos que ésta determine, se realizar4 el examen periddico de los limites de lasentidades territoriales y se publicaré el mapa oficial de la Republica.',\n",
       " 'Articulo 321. Las provincias se constituyen con municipios o territorios indfgenascircunvecinos, pertenecientes a un mismo departamento.',\n",
       " 'Las provincias sern creadas por ordenanza, a iniciativa del gobernador, de los alcaldes delos respectivos municipios o del nimero de ciudadanos que determine la ley.',\n",
       " 'Para el ingreso a una provincia ya constituida deberd relizarse una consulta popular en losmunicipios interesados.',\n",
       " 'El departamento y los municipios aportardn a las provincias el porcentaje de sus ingresoscorrientes que determinen la asamblea y los concejos respectivos.',\n",
       " 'Articulo 329. La conformacién de las entidades territoriales indigenas se hard con sujeci6na lo dispuesto en la Ley Orgdnica de Ordenamiento Territorial, y su delimitacién se harépor el Gobierno Nacional, con participacién de los representantes de las comunidadesindfgenas, previo concepto de la Comisién de Ordenamiento Territorial.',\n",
       " 'Los resguardos son de propiedad colectiva y no enajenable.',\n",
       " 'La ley definiré las relaciones y la coordinacién de estas entidades con aquéllas de lascuales formen parte.',\n",
       " 'Pardgrafo. En el caso de un territorio indfgena que comprenda el territorio de dos o masdepartamentos, su administraci6n se hard por los consejos indfgenas en coordinacién conlos gobernadores de los respectivos departamentos. En caso de que este territorio decidaconstituirse como entidad territorial, se hard con el cumplimiento de los requisitosestablecidos en el inciso primero de este articulo.',\n",
       " 'Articulo transitorio 56. Mientras se expide la ley a que se refiere el articulo 329, elGobierno podra dictar las normas fiscales necesarias y las demds relativas alfuncionamiento de los territorios indfgenas y su coordinacién con las demas entidadesterritoriales.',\n",
       " 'Articulo 330. De conformidad con la Constitucién y las leyes los territorios indigenasestaraén gobernados por consejos conformados y reglamentados segtin los usos ycostumbres de sus comunidades y ejercerdn las siguientes funciones:',\n",
       " '1. Velar por la aplicacién de las normas legales sobre usos del suelo y poblamiento de susterritorios.',\n",
       " '2. Disefiar las politicas y los planes y programas de desarrollo econémico y social dentrode su territorio, en armonfa con el Plan Nacional de Desarrollo.',\n",
       " '3. Promover las inversiones publicas en sus territorios y velar por su debida ejecucién.4. Percibir y distribuir sus recursos.5. Velar por la preservacién de los recursos naturales.',\n",
       " '6. Coordinar los programas y proyectos promovidos por las diferentes comunidades en suterritorio.',\n",
       " '7. Colaborar con ¢l mantenimiento del orden publico dentro de su territorio de acuerdo conlas instrucciones y disposiciones del Gobierno Nacional.',\n",
       " '8. Representar a los territorios ante el Gobierno Nacional y las demds entidades a lascuales se integren, y',\n",
       " '9. Las que les sefialen la Constitucién y la ley.',\n",
       " 'Par4grafo. La explotacién de los recursos naturales en los territorios indigenas se hard sindesmedro de la integridad cultural, social y econémica de las comunidades indfgenas. Enlas decisiones que se adopten respecto de dicha explotacién, el Gobierno propiciardé laparticipacién de los representantes de las respectivas comunidades.',\n",
       " 'Articulo transitorio 38, El gobierno organizard e integrard, en el término de seis meses,una Comisién de Ordenamiento Territorial encargada de realizar los estudios y formularante las autoridades competentes las recomendaciones que considere del caso paraacomodar la divisi6n territorial del pais a las disposiciones de la Constitucién. La comisiéncumplird sus funciones durante un perfodo de tres afios, pero la ley podra darle carécterpermanente. En este caso, la misma ley fijard la periodicidad con la cual presentaré suspropuestas.',\n",
       " '9. ARTICULOS RELATIVOS A LOS PLANES DE DESARROLLO',\n",
       " 'Articulo 339.',\n",
       " 'Las entidades territoriales elaborarén y adoptarén de manera concertada entre ellas y elgobierno nacional, planes de desarrollo, con el objeto de asegurar el uso eficiente de susrecursos y el desempefio adecuado de las funciones que les hayan sido asignadas por laConstitucién y la ley.',\n",
       " 'Articulo 340. Habré un Consejo Nacional de Planeacién integrado por representates de lasentidades territoriales y de los sectores econdémicos, sociales, ecolégicos, comunitarios yculturales. El Consejo tendré cardcter consultivo y servird de foro para la discusién delPlan Nacional de Desarrollo.',\n",
       " 'Los miembros del Consejo Nacional serdn designados por el Presidente de la Republica delistas que le presenten las autoridades y las organizaciones de las entidades y sectores aque se refiere el inciso anterior, quienes deberan estar o haber estado vinculados a dichasactividades. Su perfodo serd de ocho afios y cada cuatro se renovard parcialmente en laforma que establezca la ley.',\n",
       " 'En las entidades territoriales habré también consejos de planeacién, segiin lo determine laley.',\n",
       " 'El Consejo Nacional y los consejos territoriales de planeaci6n constituyen el SistemaNacional de Planeacién.',\n",
       " 'Articulo 357. Los municipios participardn en los ingresos corrientes de la Naci6n. La ley,a iniciativa del Gobierno, determinaré el porcentaje mfnimo de esa participacién y definir4las dreas prioritarias de inversidn social que se financiardn con dichos recursos. Para losefectos de esta participacién, la ley determinard los resguardos indigenas que serdnconsiderados como municipios.',\n",
       " 'Articulo 361. Con los ingresos provenientes de las regalias que no sean asignados a losdepartamentos y municipios, se creard un Fondo Nacional de Regalias cuyos recursos sedestinardn a las entidades territoriales en los términos que sefiale la ley. Estos fondos seaplicarén a la promocién de la minerfa, a la preservacién del ambiente y a financiarproyectos regionales de inversién definidos como prioritarios en los planes de desarrollode las respectivas entidades territoriales.']"
      ]
     },
     "execution_count": 130,
     "metadata": {},
     "output_type": "execute_result"
    }
   ],
   "source": [
    "esp = esp[esp.index('CARTA DEL SENOR'):]\n",
    "esp = re.sub(r'(\\$\\n+)|(\\$+)|(\\n(?!\\n))', '', esp)\n",
    "esp = esp.split(\"\\n\")\n",
    "esp = [cadena for cadena in esp if not (cadena.isdigit() or cadena == \"\")]\n",
    "esp.pop(1)\n",
    "esp"
   ]
  },
  {
   "cell_type": "code",
   "execution_count": 131,
   "metadata": {
    "tags": []
   },
   "outputs": [
    {
     "data": {
      "text/plain": [
       "[\"Gwame yeyka enchiieya umén a'zuna zuga'kenamu*\",\n",
       " \"Santa Fe de Bogotd, ikawa tima zuna'ba 1993 kugise’.\",\n",
       " 'Miwi, najinukane Jinari:',\n",
       " 'Ga\\'kunama abunna zukutu du unde\\'bonungwa nari, Santa Fe de Bogoté unnikumeyazoyanari; wya anukuchuhakumaye\\'ri; “iwa-jwia pariri Koronbia zari zweinnugeykaunta\\'kumuya kawin\", gwaku\\' nunkwe. Eyméy zare\\' pariri Koronbia re\\'masi akweyzoyeykari anugwese\\' zeyzey niwe\\'zunnari, akin kinki niwe\\'zuna ni.',\n",
       " \"Koronbia akwey zoyari; né6wmusine nuna neyka, chawi a'zari akweya neyka, jumea'nikweya,jume a'niku' neyka, emi dikin ga'kunama kawunka'si, du zdkusi azoyananeykasin, yow; i'ngwi pin kawure'kumey, dikin gwamye angwasi, gunti azweingwasi,anka'mechu' nari zapari zoya una nunkurase'ri, azi niwe'zano: Ga'kunamu abunna zukaturi,iwa koga-juna ga'‘kunamu iky akwey zoyeykase' aseykumuya sfrigun, a'chundkumaawa'bari kwa niwe’zunin niwe'zarfkucha zeyzey niwe'zanna neki kau' nari na ni.\",\n",
       " '\"Ga\\'kunama abunna zekete iwa zane neykari, ga’‘kandmekin nari zu\\'n kwangwa ni\",i\\'ngwise\\'ri agwa\\'na na’ no. Ey uwe\\'ki eyméy winyana neykari du kawi rinre’zétikuma unana\\' nunno. Ema ga\\'kenamyu ikun re\\'zagikumana pinnase\\' jwa\\'sungwasi iwamiwe\\'wekumuyari, iku achuzuhasana kutwinusi zoyanajinasin du kawi ga\\'kunamu re\\'tasi,',\n",
       " \"ingiti unchuhey, zoyanari gunti emari a'chuiakumana ni.\",\n",
       " \"Uyéy anchuiey azorie'ri, ikuhase' unkupanu' nari zweykwa ga'kuname winuka'nikwayaneyka; niwiri ingiti riwi, eyméy gwasi ni niwigunchori zweinniwingwa nari, fkuzeykunsamy kutukunun kwakumana neyka, unkeriwi azoyana ni. Ey awame' ema ga'kunamaa'chuhakumanari, ga'keuname bunachy sirigun a'nikwuya ikuka i'ngweti i'‘ngweti ikanunkuz4gikumey azoyana zz'n, neki na’ na no. Bunachun a'nikwaya unkuwusa awa awiri,eya kawunka'kumey azweingwa nari, fkuzey kunsamy si riga'ta'na ni. Eyméy awiga'kaname abunna zukata umin zachun zaka'cho'kumana ni.\",\n",
       " \"Ey uweri ema ga‘kuname a'kumana neykari, gwamu guga zukuta du unde'bonungwa narizagur6 agagu'na neykari, re'tasi azoyana uyéy anugwese' winunkuncho' una neyka zu'nemari a'nikwen nuga na’ nunno. Ikuha'ri, Emi ka'jome riwun nanuydy nari, pinna-junaga‘kunamu ino'si, sakun ku me'zari a'mechama migunsi, awiri i'ngwi pin dikinkawure'kumey zweyniwingwa nari enanuydy zweykwey niwikununa ni; gunti wina'zarizu'n, emi Koronbia pinnase' Bunkwa Kukwi niwichwi kukwéy niwikenanangwa uwarizu'n ga'kuname umiin a'zuna ndnuaya abiti rinre'gowna.\",\n",
       " \"Ema ga’kunamu re'masi neykase’ ana'we ukumanasin, miwiri umén diwaén zakusi\",\n",
       " \"zweinpanumiwingwa kujuna uwa neyka, miwise'ri ipana-awin. Eymi awa ni, na'zunin.\",\n",
       " 'CESAR GAVIRIA TRUJILLO',\n",
       " \"Ikuzey sakuku umén a'zuna zuga'kuname\",\n",
       " 'Nabusimuke, Febrero timase’ 1994 kugise’.',\n",
       " 'Ema wa\\'nun, Constitucién abiti re\\'bori kachuiakumaye\\'ri, niwi-gobierno niwikeye\\'ri:\"Constitucién- se\\' a\\'nikwuya ikun unkuz4gisa awkwa mandi, miwise\\'ri kwa ki izanunno\".“Eyméy nanundi, umén eyméy gwasi ki agwakunno niwe\\'zun ki awanno\", izann nusi,kwa a\\'gwa una ni.',\n",
       " \"Ey uwame' uya nikamu uzweingwasi i'ngwi agaguka una ni; uya'ba i'ngwi abogadokatwinusi, igundmusi zweingwasi.\",\n",
       " \"Ey une’ki pin a'nikwayukin ikun ankazagikumu' nari, ingumin niwika'mukanukwéy neykaagaguka ukumana ni. Ey uwe'ri, eyma juna neykari, niwi unkwey, zapari,zweinniwingweykazey narijwa'sama gun niwikendi, kartiya unbona uneykarigugunka'gwa awen keywu du nanu' nanno. Amiga'kunamua sfrigun gun a'nikwandi umneyméy gwasi ki agwako uwa' ndnuko.\",\n",
       " \"Sakuku winnanun nugeykase’ gwakun, zachun unkuwusi zwein keywu, uyéy a'gwauneykari, gobierno- se'ri uyéy kinki niwikenchuhasi zweykwa, keyniwingwasi. Iwawifaruf a'chonun nuga, unkuriwi winzwein nugeykase' nentn, aya unkuwusigwi zoyamukau' nunno.\",\n",
       " \"Ema wa'nun kugise’ Sabana Crespo awiri Jewrwa, aya unkuwas¢ykumey, eyméy nanundiey a'gwaku' nunno izari, kartiya a'chundkuma gun uwa neykari, uyéy kinki unkeriwiawnangwa niwe'zanun keywu du nanu’ nunno. A'chwun nusi, ey gwa'kwin.\",\n",
       " \"Ema Kartiya gawi azoyana si ikeka nanekin a'kumana\",\n",
       " 'Ema kartiya Presidencia-se\\' awun gwa\\'sana. Ema wanun, ga\\'kunamy abunna zukutaa’chuitakumaye’, sakuku Presidencia zanuse’, iku aseykumuya sirigun keywu a\\'chuha awaajunana, gwa\\'na na ni. Ey una nari Universidad de los Andes siku, diwén diwan ikunaséykumey zoya, izatasi a’chuhdkumey zoyeku \"Centro Colombiano de Estudios deLenguas Aborfgenes\" zane guna unka\\'sana. Uyajinasin undimasdy, ga\\'kuname koga-junaiku akwey zoyase\\' aseykumuya a\\'chuiiakumengwasi rifagagu\\'na. Uyari: Sibundoy(Putumayo) zanu mowga-juna: Kams4, Ingano; Cauca zanu mowga-juna: Guambiano,Paéz; Vaupés zanu, i\\'ngwi-juna: Cubeo; Sierra Nevada zanu, i\\'ngwi-juna: niwizey ikun;awiri Guajira zany, i‘ngwi-juna: Wayu.',\n",
       " 'Niwizey aseykumuya a\\'chuiengwari, umin niwingundmusi azoyana neykari: JonLandaburu, \"Centro Colombiano de Estudios de Lenguas Aborigenes”\", eymeku sakukuunvin a\\'zanan nuga, nikama koga neyka winipana una neykase\\'ri, ga’ unkéy rigunsi guntiazweingwasi niwingun4musi zoyana; Guillermo Padilla, gwame guga si riwianaga‘kunamu \"constitucidn-se\\' \" a\\'nikwuya niwikare\\'wechi zoyana; ey awiri, Sabana Crespo,Jugaka, Isurwa, “curso” zékusi azoyaneku, sakuku niwingunamasana. Iwa, ga‘kunamare\\'zagikumuyari, ikan a\\'kumey azoyana: José Marfa Crespo, Miguel Torres, Juan BautistaRamos, Emeterio Arroyo, awiri Rubiel Zalabata, nari a\\'chufiakumana ni.',\n",
       " 'Ema papériri mdykenu re\\'nikweya ni. Katukunun re\\'nikwayun, ga‘kuname ikunre\\'zagikumana, ma\\'keywa uga “artfculo” ndnuaya, pinnase’ riwizkwéy nuna ne\\'ki sakuku-+inase’ umiin ka\\'mukariza ni; Eyma\\'bari, g.ij.z. eyméy gwasi ey guga ni uminmikuwanukwéy nanungwasi, i\\'ngwiri ing zaka\\' unka\\'chd\\'kumey ga\\'kunamu ija ukumanani. Uya ga’‘kunamu umn ney a’kumana ni. Mu\\'ba re\\'nikwuyun, g.i.j.z. ma\\'‘keywa ugand4nukin, bunachun a\\'nikwaya ni. Mayba\\' re\\'nikwayan, “articulo\" i‘ngwi uga maykunekutow ndnukin dykunu agagu\\'na neykari, ga\\'‘kunamuz ikuka re\\'sa awi i\\'ngweti i\\'ngwetizakunka\\'cho\\'kumana nanuyari, gumusinu awiuyajinase’ umiin ka\\'mukariza ni. Ga\\'kunamaburuna eyma eyma nanun nuga ni; uya ga‘kunamu ikuka asdnuga, vya ga’‘kunamy tukinzoya ni; eymari, ga‘kanamu guruna eyméy za’kinuga neykasin unpdnuya ni; gunti kurdme\\'zanisi zweingwasi a\\'mukariza ni. Gunti uwari, eymari a’kumayun.',\n",
       " \"Ey eweri, ga'kunamu emi a'nikwun nuga, yow, ingiti ingiti unchuhey iku'n a'‘kumeyazoyana ni. Ey awe neki eyki du kukusukwéy nariza ni, ey niwe'zanunki, kugi niwinzanikagun aweri a'chuhukwa kawame’, akin zu'n kuchuitukwa nisin. Niwi kinkiri iwa keywa ikunPpaperi a'samu, yamu, riwiun nikura nanu' nunno; awiri gwama guga sf ayeygwi, iwarikutukunun uya ga'kunama no'kwun nikura ni. Ey aweri, iwa a'kumana neykari, sigemowge pariri, eymi eymi re'zdtikuma una ni, a'chukwéy nanungwa ne awanki, iwaazweinnuga'bari, ema du ya awundi kurd me'zanisi zweingwasi ingu kindi mingundmasaawiza ni.\",\n",
       " 'Ga’kunamu \"constitucién-se\" a\\'nikwuyari, ikun 4ykunu zakanka\\'cho\\'sukwa, i\\'munuriga\\'kunama neki migunchona’ku\\' nunna ni, kwa ku\\' name’ ne nariza nundi. Ey ewe\\'kiga\\'kunamu i\\'ngwiri, iwari abiti enkuncho\\'kumana ey a\\'nikwuya ni. Eymari uyéy kwdkumaawengwa ni yukwari, iwa kindi migunku\\' na’ nénuko. Tukindi, unta\\'sukwey nanundiunta\\'sa, na’ nundi uyéy unchusa; awkwey gunti na ni. Ey uwe\\'ki ema paperi towre\\'punkwuyari, riwia awnungwa me\\'zari yow ya awan keywu, eymi du kawin, eymi dukau\\' ni, me\\'zan au\\' nanuko.',\n",
       " '“Ikan niwikeykumundi umin niwikuwariza ni\", gwakukwa name’; awiri ika akwey zoydy,ga\\'kunama ikuse\\' aseykumuya bunachuzeysin, mowga -juna riw{f azweinnugame\\';ga\\'kunamu \"Constitucién-se\\'\" a\\'nikwaya ikun a\\'kuma awundi du nariza ni a\\'chwi zu\\'n,uyéy a\\'chuiukwa nikamu ipana awiri, sinama ma\\'keywa agagu\\'na neykasin, uyaga\\'kunamu ikun re\\'zdgikumey zoyanarwa ni. Ey eweri, uyéy a\\'chuidkuma gun nanundi, yakinki awan du na\\' nanno, za\\'n na\\'zunin.',\n",
       " 'NUN ASERIKi UNEY ZALABATA ZA‘KINUKWA EY MIWIKEYWIN.Santa fé de Bogotd, 1993 i‘ngwi uga timase’.',\n",
       " \"Ikun aseykumuya, kogajuna agagu'na sirigun ga'kunamere'zagisukwa, rigunsi gunti, ga' unkey, engunamusi azweingwa nari,sakuku a'chunakumana ze#ga'kuname*\",\n",
       " 'Ema wa\\'nen, (1991 kugi kuchori), Koronbia sakuku umiin a\\'zuna neykasin ga\\'kunamaunchuiiey zoya-jinase\\'ri, emdy Universidad de los Andes si, niwi Centro Colombiano deEstudios de Lenguas Aborfgenes zanu nénkura, ikea niwikukana uye\\'ri, \"Ga\\'kanamaabunna zakute abiti neykari, ikan aseykumyya sirigun unkure\\'zagisukwa, ey awkwéymiwikunananno\", keywu niwe\\'sikumayun.',\n",
       " 'Niwiri inga mowgé niwe\\'zare\\'ki, \"ey awkwéy niwikunariza ni\" keywu a\\'gwana ni. Emiri ,i\\'ngwi uga kugi, unvin neki, iken aseykumaya sirigun izatasi zwein nu\\'ninkura name’, emiriwiyajina, awiuya-jina, awiri uyéy izatasi zwein nugeykasin yow; fkuzey ga’kunamakinkiri, a\\'zana gunti na ni, kindi ey niwe\\'zunna ni. Emi chuzari uweyka zaka\\'chd\\'sukwa,ina sf neki wasaykwa, kwa manunka me\\'zari uwa neyka zaka\\'chd\\'sukwa, ey guntiga\\'kunamu winukunanen nuga ni, eygwi niwe\\'zunna. Iwa ga‘kunamu ikuka i\\'ngwetii\\'ngweti a\\'chukwa nundi, azuwa zana kawa, akutw zana kawa, azey azey winukunanunnuga gwakun, sumugwi winukundnuya ni, eygwi niwigunkwana ni. Ey vwe\\'ki ga\\'‘kunamaConstitucidn- se’ a\\'‘nikwuya, i\\'ngwiunari gwame guga si riwianase’ (abogdduse’) zu\\'njwa\\'saya ni; awiri bunache winarufwydy, ikuha winnenanuydy ga\\'kunameankuncho\\'kumana neykari, ike sfrigun neki ku\\' nanunno; diwén gun dnugwewinuka\\'nikwandi. Ey awame\\' ga\\'kuname Constitucién- se\\' a\\'nikwaya ikun aseykumuya siankure\\'zagisukwa, du kawi izataka awun gundi ga\\'kuname mika\\'cho\\' ndnuko. Ey anuwe\\'neki i\\'munuri, gugin neki yu\\' ndnukwa ni, na’ nendi diwén neki gwaékukwey, mikunikaawkwey niga ni. Gunti a\\'chwun nusi ey niwe\\'zunna ni.',\n",
       " \"Ey awame'’ i'ngwise'kin, ikun bunachun, mowga-juna dsuya neykase’, uya ga'kunamere'zagiza awiza neki na’ nanenno. Eymiri, abogado mikyjunagwi, sakuku kwa mamega'kunamu du -jwa'suyase’ mikujunagwi, mowga-juna asayama agunkwuya eygwi, ikanaseykumuya sirigun riwiana eygwi; ey awundi, ing zuguré neykase' aya nikama uzorizana’ manno.\",\n",
       " \"Ikun aseykumuya sirigun riwiana (lingiistas) agagu'na neykari, ikasin ritunnikumey,\",\n",
       " '“curso \" neki z4kusi azoyana ni. Ga\\'kunamu Constitucién -se\\' a\\'nikwuya-jwa\\'si, uyéyankuwusi, i\\'ngwi-juna unte zaka unka\\'cho\\'si, ga‘kanamy re\\'tasi, i\\'manuri ga\\'kanama ikuka',\n",
       " \"abiti unka'chuhey; gunti awi, iingwi kugi umn azoyana ni.\",\n",
       " 'Ga\\'kunama Constitucidn- se’ a\\'nikwuya; inuki \"derecho, ley, Estado, autoridad,ciudadania, democracia, etc.\" abogaduse\\'ri \"eyméy gwasi ey guga ni\" zaka mika\\'cho neawunki; ike rigandi diwan gun azweindi, diwaén gun ga’kuname kwundi; ikan yukwari,yame\\'ku\\' ndnukwa ni; ga\\'‘kunamu du mikuwanaki ne nukanki. Bunachun neki, birindi,ga\\'kunamu \"Estado\" kwa \"ciudadanfa” neki ku\\' nunna ni, aya ni. Birindi powru awutarizari winunkizdkusi, paperi neki a\\'si azweinpare\\', umin diwién kawi akwey, gwamu awizweykwa,4wi unni\\'si zweykwa, tana wina\\'zari zweykwa, inw si nemin, diwén kawi rigagusiey awi ga’kuname abiti unka\\'chuiey, gunti azoyana nunna, aya ni. Ey awundi ga’‘kunamu\"“democracia\" zana kwuyari, azi awi ka\\'chona una nanno. Eymi niwigunchonungwari,bunachun aseykumaya sirigun riwiana, bunachw riganeysi zanndy powru zanikunpunkwe\\'',\n",
       " 'pari zari zwein nuga si riwiana neykasin neki, rimaséykumey azoyana ni.',\n",
       " 'Bunachw si warufey, awiri ike keyndrigun azi zana no uwari rimas4y, ga\\'kenama a\\'zunaa\\'tasi, ga’kunamu ikuka unkure\\'wechiri akutu kutasi, gunti awi, unkuncho\\'kumana ni.Ga\\'kaname bunachun a\\'nikwuya, ina zana; “derecho” ikandi azi zano, me\\'zasikumundi; \"taneyka\" kwa \"ritta\" zuna ni zu\\'n yu’ ndnuko. Ey uwe\\'ki bunachun kingwi \"derecho\" eyméygwasi ey guga ni, du unkuwasiri, ikun keywu zaka\\'ché\\'sukwa ga’kuname tékukwey na’nunno. Eyméy awi, “derecho” awgari, menanuydy mikundnaya neyka ey guga ni, niwiniwigunchona awin.',\n",
       " 'I\\'munuri, ga\\'kunamy, uraku, amiguchw, kun, ka\\'gumu,-je, kwa inu-juna ikuse\\'jwa\\'suyaneyka, uyazey ga\\'kunamy igusi, Constitucidn- se’ a\\'nikwaya “eyma zana ni\" kindi j,zaka\\'cho\\'si wazoyana ni. Kutukunun bunachy “Jey” papérise\\' unka\\'si azorie\\', eymeygwinari re\\'tasiri ga\\'kenamy ka\\'chunna ni, awga gumandi.',\n",
       " \"Iwa, ikun agunku' neykase’, ga'kaname Constitucidn- se' a'nikwuya re'zagisukwa, eyméyrigagusi, re'tasi unkuncho'kumana ni, ey awiri ikuse'ri eyméy ga'kuname winukununa, izunawungwa nari, ikeun aseykumuya si riwiana emi kutwinusi azoyana-jinase'rl, g.ij.z. umna'mukanukwéy nanuya ikun a'nikwayari i'ngweti i'ngweti dykunu re'gawiri bunachuneygwi re'zagisa ukumana ni.\",\n",
       " 'Uyéy a\\'chuhakumana neykari, emi Kartiyase’ mayba\\' re\\'nikwuyun siku a\\'nikwuya ni.Uyari, iku gumusina awi zwein nugeykase\\', kwa wjwase’ neki, “azi awi ga’kunamy ikanre\\'z4gikumey wazoyana no\" agenchona awa ajunundi, kwa ummin du kukusi zweykwa,kwa amiga’kunamu wesu re\\'nisi zoyaki nukdy kawa,jwa\\'si neki zweykwa, eygwika\\'mukénuya na’ nunno.',\n",
       " \"Constitucién- se' a'nikwaya, yow mangwa, re'zagikumu' nari, g.ij.z. ika diwién diwénakwey zoya enanuyd4y winukundnuya neyka sf wdsuya, zu'n re'zagikumana ni. Eymarig.ij.z. ma'keywa uga umn winna ni. Ey aweri, eygwi nénuya winneykari, re'zagisukwani‘nige'ri, {ngunw bori azoyana kawa, emari nanangwa na’ nunno. Ey awiri umén awkwéymikuniku' ndnuko.\",\n",
       " \"Iku diwén diwan aséykumey, koga-juna agagu'na sfrigan zu'n re'zagikumana ni. Uyari:Sibundoy (Putumayo) zanu mowga-juna: Kams4, Ingano; Cauca zany mowga juna:Guambiano, Paéz; Vaupés zanu, i'ngwi-juna: Cubeo; Sierra Nevada zanu, i'ngwi-juna:niwizey ikan; awiri Guajira zany, i'ngwijuna: Wayd.\",\n",
       " \"Emi Koronbia 65 ga'kuname diwin diwan aséykumey zoya, umn re'masi neykasewaséykumun nuga neykari, ema kogajuna agagu'na, awiri mowga mdykunu-juna eygwinanwyasin, za'n winna ni. Ujwa winneykari, i'ngwi-junari, re‘masi neykase' aseykumuyzeygwi kwuya neykasin,jwi kajuna awa neyka umén neki ku’ nunna name’, awiri ikunaseykumuya sirigun riwiana gugfn ananu' name’, iwa kindi ukumu' nari chisukwa nisin. Eyawe'ki iku wyéy uzoyagwi awa ajunuyase'ri mand awkweygwi kunanundi, zu'n niwe'zunin.\",\n",
       " \"Niwi si kinkiri, ayéy nikamu uzweykwa , igundmasi zoya uwasindi, kwa kuzinkura ni. Iwaiku kutekunun pari emi dkwuya neyka, aruney, re'tasi, ke wina'zari kwey azwein nugame’iwari ga'kuname zuneku zanu no'si, pinzundy zari awa neyka-jwa'si, zweinpana gun uwerikunsame ikufiwzeyri ayeygwi anuzweingwa nari ke ananka'kusi, chow unka'chwikawanka'si zweykwa ka'mukana awun du na’ nanno. Ey aweri zeyndrigwi ni; wawaw4pinnase’.\",\n",
       " 'Jon LANDABURU (CNRS)Director de] Centro Colombiano de Estudios de Lenguas Aborigenes (CCELA)',\n",
       " 'Santafé de Bogotd, Febrero de 1994',\n",
       " \"B. GA'KANAMU I'NGWI JUNA ZAKA'CHO'SUYAG.I.J.Z. MA'KEYWA UGA NANUKINNANUYARI\",\n",
       " \"1. KUMA'PINRE'TANAZEY NARIKUTUKUENEN KUT ABUNNA SI\",\n",
       " \"G.i..z. 1. KORONBIA awgeykari, i'ngwi nanukin na ni.Ey uwame' gwams guga umn a'zuna i’ngwi z¥'n kwuyani. I'ngwi nanunki, ka'gyum# kuma'pinre'tanase' re'sana,ankuzori awkweyka_ kinkiri dykunu dyk unurinre'gukukwéy winukununa ni. Akin kweyzorikureykase’ ga’kynam# unka'chuhakumana umna'zuna; inski awkwéy ni, nanu' ni, gwa; ey awiri diwéndiwén kunsamz kwuye'ki chow dikin unka'chwiniwizana’ nunno. Ema vyéy uzoya awkweykari, iny nendn neawunki, a'zuna gunti nénkura, unisi, unkeriguzunasiuzoyun keywu, vyéy awkwey nariza na’ nuno.\",\n",
       " 'G.ij.z. neykari, ga\\'kunamu ingu gari neyka, ikuka ndnukin ko\\'ko re‘gawi zu\\'neyméy a’kumana ni. Ga\\'kunamy i\\'ngwi-juna zaka\\'chd\\'suya, gwasi ey zuna ni.Bunachundi \"articulo\" aya ni.',\n",
       " 'Gwame guga umin a\\'zuna i\\'ngwi za\\'n kwuya ni, gugeykari; ga\\'kanamekatukunun kutu abunna ey awga ni. Bunachundi \"Constitucién Politica” awga ni.',\n",
       " 'KUMA\\'PINRE\\'TANA . Emari, ga\\'kuname sumu zaka\\'cho\\'sakwa nunna ne\\'ki,koko re\\'gawi waseykumana ni. INCORA, INDERENA, SENA, IDEMA, PNR,- eymari ga\\'kunamy sumu gunti zuna ne\\'ki, ko\\'ko re\\'bunna nuna ni. INCORAri:“Instituto Colombiano para la Reforma Agraria\" gwakukin nari, akin zu\\'njwa\\'wnka‘kumana ni. Eymeygwi nari KUMA\\'PINRE\\'TANA: Kumu A‘nikwuyaPinnazey nari bunachuse’ Re\\'rita\\'na, zana ni. Uyari zuneku, rigunsi',\n",
       " 'zweinniwingwa, pinnajunazey nari bisinun kinuga ey awga ni. Bunachandi\"Estado\" aya ni.',\n",
       " 'Ka\\'gamy kuma\\'pinre\\'tanase’ re\\'sana m4ykunu-juna na ni. Ingumén awatarizaneykari, \"departamento\" bunachundi awga ni; eymi pariri, awd re‘kumeyzoyeykari, \"municipio\" bunachundi awga; i‘ngwi eygwi neykari, ka’gumu ikuzeyTe’kumana, “territorio indigena” bunachundi awga ni.',\n",
       " \"G.i.j..z. 2. Kume A'nikwsya Pinnazey Nari, i'ngwindnukin rigunsi zweykwa, Bunachuse' Re'rita'na(KUMA'PINRE'TANARI) nikams winuzori awizeyka,ema nanyn nuga ni: Akin akwey zoya ka'mukari, kujuriawuyeyka re'tasi, awiri ga’‘kynamy abunna zukutuse’ ayéykawi enaneyd4y, ga’kunamy a'nikwuya chwi zweingwasi;akwey zoydy inuki ikumey nennige'ri pinnasin rigunsizoriza ni. Koronbiase' akwey zoya, inuki winukwnarizoya, rifiagagusi zoya, diwén diwdén winnenanuydyakwey, inuki du kawi chwi wazori ungwa neyka, pinnasinrigunsigwi wazoriza ni. Niwi ka'jome riwun re‘kumuyayi'ngwi nénukin riwari, dykunu rinre'gusi azweingwa, osunrifia'chu' nari akwungwa, nansydy chow unka'chwi, gunti\",\n",
       " 'chwungwa ni.',\n",
       " \"Niwi ka’ jome riwun sakuku agagusi cho'kumanari,Koronbiase' akwey zoya, rifiagwaku' nari, osun rifa'chu’nari, ing winwkunari zoya, inw si ta a'zari zoya,me'zunukin awkwa mikundneya neyka, eyma zana eygwinanwyasin, ikwey, chwi zweingwasi; awiri\",\n",
       " \"kuma’'pinre'tana, ajwajina kwey zoyasin, enanvydy\",\n",
       " \"niwikynanywya neyka, me'zunvkin nari awkwéyniwikununa neykasin, wyéy unchuiungwasi, ka'gwa'sizweingwasi, sakuku nanwn nuga ni.\",\n",
       " \"Bisinun pinna-junazey zanekw kwuya inuki, Alcaldia, INCORA, ICBF,INCORA, ndnuya neykari Kuma'pinre'tanazey gunti na ni. Eymari re'masiakwey zoyeyka ka'mukari zweingwasi zu'n naman nuga ni. Awiri beki neki ine\",\n",
       " \"juna kajunen nu'nige'ri, wya re'tasi; zaguré akwey zoyaigund4musi ikweyzweingwasi zu'n, sakuku kuma'pinre'tanazey neykase'ri zaneky nanun nuga ni.\",\n",
       " \"G.ig..z. 3. Akin kwey zorikureyka, bema gwasi uména'zuna nanaya ni. Uyase' ume ka'nisi sakukuagagukuyari, kumu ka'si cho'kumuya ni; akin kweyzorikureykase' re'gukukwéy nanwyari re'guka, nanu'nunnige'ri sakuku cho'kumanase'’ re'gusiza ni; ga‘kuname\",\n",
       " \"abunna zukutuse' gugdy kawi.\",\n",
       " 'NA saree eee',\n",
       " 'Gwam4 guga unchuiiuya —>D rmGwam4 guga unchunuy: .--> Resolucién% ff --> Ordenanzav --> Acuerdo']"
      ]
     },
     "execution_count": 131,
     "metadata": {},
     "output_type": "execute_result"
    }
   ],
   "source": [
    "iken = texto[\"texto_primera_parte_A\"][texto[\"texto_primera_parte_A\"].index(\"Gwame ye\"):]\n",
    "iken = re.sub(r'(\\$\\n+)|(\\$+)|(\\n(?!\\n))', '', iken)\n",
    "iken = iken.split(\"\\n\")\n",
    "iken = [cadena for cadena in iken if not (cadena.isdigit() or cadena == \"\")]\n",
    "\n",
    "iken = [elemento.replace(\"\\'\", \"'\") for elemento in iken]\n",
    "iken"
   ]
  },
  {
   "cell_type": "code",
   "execution_count": 133,
   "metadata": {},
   "outputs": [],
   "source": [
    "for i in range(0,min(len(esp),len(iken))):\n",
    "    corpus_constitucion.append({\"arahuaco\": iken[i], \"esp\": esp[i]})"
   ]
  },
  {
   "cell_type": "code",
   "execution_count": 134,
   "metadata": {},
   "outputs": [
    {
     "data": {
      "text/plain": [
       "111"
      ]
     },
     "execution_count": 134,
     "metadata": {},
     "output_type": "execute_result"
    }
   ],
   "source": [
    "len(corpus_constitucion)"
   ]
  },
  {
   "cell_type": "code",
   "execution_count": 135,
   "metadata": {
    "collapsed": true,
    "jupyter": {
     "outputs_hidden": true
    },
    "tags": []
   },
   "outputs": [
    {
     "data": {
      "text/plain": [
       "[{'arahuaco': 'Birin zanv pinnazey nari inwki eyki chuzdéneya',\n",
       "  'esp': 'patrimonio arqueolégico'},\n",
       " {'arahuaco': 'Diwun diwun winnenanuyay akwuya',\n",
       "  'esp': 'diversidad étnica y cultural'},\n",
       " {'arahuaco': 'Diwan diwan winnenanuydy akwey zoya', 'esp': 'grupos étnicos'},\n",
       " {'arahuaco': \"Diwén diwan arufiey awa re'muga re'béakumey zoya\",\n",
       "  'esp': 'minorias politicas'},\n",
       " {'arahuaco': \"Du kawi ga'kunamu wésuya\", 'esp': 'consejero'},\n",
       " {'arahuaco': 'Enanuyay', 'esp': 'derecho'},\n",
       " {'arahuaco': \"Eytiwe ikwey ka'gume re‘kumana\", 'esp': 'parques naturales'},\n",
       " {'arahuaco': \"Ga'kanama abunna zukuta\", 'esp': 'Constitucién Politica'},\n",
       " {'arahuaco': \"Ga'kunamy sumy neyka zaka'chésuya\", 'esp': 'titulo'},\n",
       " {'arahuaco': \"Ga'kunamy sump na'ba agagiikuya\", 'esp': 'capitulo'},\n",
       " {'arahuaco': \"G.ij.z. (Ga'kuname i'ngwijuna zaka'chésuya)\",\n",
       "  'esp': 'articulo'},\n",
       " {'arahuaco': 'G.ij.z. mend ndnukin wazweingwa neyka',\n",
       "  'esp': 'articulo transitorio'},\n",
       " {'arahuaco': 'Gwamy guga', 'esp': 'ley'},\n",
       " {'arahuaco': \"Gwamw guga guwa umin a'zuna\", 'esp': 'senador'},\n",
       " {'arahuaco': 'Gwamwu guga gawuydrigun', 'esp': 'rama legislativa'},\n",
       " {'arahuaco': 'Gwamu guga gawuya-jina',\n",
       "  'esp': 'cuerpo legislativo o congresistas'},\n",
       " {'arahuaco': \"Gwamua guga guwa awd a'zuna\",\n",
       "  'esp': 'Representante a la Camara'},\n",
       " {'arahuaco': 'Gwamu guga zukuta', 'esp': 'Ley Organica'},\n",
       " {'arahuaco': \"Gwamwu guga zukuta ka'gumu re'kumey zoya si wasuya\",\n",
       "  'esp': 'Ley Organica de Ordenamiento Territorial'},\n",
       " {'arahuaco': 'Gwamy yeyka unchufiwn gwdsuyajina', 'esp': 'cuerpo ejecutivo'},\n",
       " {'arahuaco': 'Gwamw guga unchuitdsuya', 'esp': 'decreto'},\n",
       " {'arahuaco': \"Gwamu guga unchuitwya re'zugurusi zoya\", 'esp': 'resolucién'},\n",
       " {'arahuaco': \"I'ngweti i‘ngweti menanuydy mikundnuya neyka\",\n",
       "  'esp': 'los derechos de las personas'},\n",
       " {'arahuaco': 'Inu ikumey zweingwa du kawi ga‘kanama wésuyajina',\n",
       "  'esp': 'consejo consultivo'},\n",
       " {'arahuaco': \"Ka'se' inu a'chuiakumuyeykazey nari,jwi anni'kumyyari\",\n",
       "  'esp': 'regalias'},\n",
       " {'arahuaco': \"Ka'gumy awd re'kumana'ba windiiunni'sana\",\n",
       "  'esp': 'reunién de municipios (provincia)'},\n",
       " {'arahuaco': \"Ka'gume fkuzey re'kumana\", 'esp': 'territorio indigena'},\n",
       " {'arahuaco': \"Ka'guma re‘kumungwa'ba chwi winzwein nikuyajina\",\n",
       "  'esp': 'Comision de Ordenamiento Territorial'},\n",
       " {'arahuaco': \"Kuma'pinre’tana\", 'esp': 'estado'},\n",
       " {'arahuaco': \"Jwa'kumukweyna\", 'esp': 'cédula de ciudadania'},\n",
       " {'arahuaco': \"Jwa'kumukweyna kuna’ neyka\", 'esp': 'indocumentado'},\n",
       " {'arahuaco': 'Michwi Enanuyay Winikwuya', 'esp': 'accion de tutela'},\n",
       " {'arahuaco': \"Mu'bajwa'kumukwéy neyka kundnuya\",\n",
       "  'esp': 'persona con doble nacionalidad'},\n",
       " {'arahuaco': \"Niwi ka'-jome riwen\", 'esp': 'nuestro pais (Colombia)'},\n",
       " {'arahuaco': \"Niwi U'meke\", 'esp': 'nuestro territorio (Linea Negra)'},\n",
       " {'arahuaco': \"No'ku' neykazey, a'tuhuyeykazey gwame gwdkuya\",\n",
       "  'esp': 'cuerpo jurisdiccional (juez)'},\n",
       " {'arahuaco': \"(Niwi ka'jome riwun) ka'gumy re'kumana  umiin zauna\",\n",
       "  'esp': 'departamento'},\n",
       " {'arahuaco': \"(Niwi ka'jome riwen) ka'gumy re'kumana awuzuna\",\n",
       "  'esp': 'municipio'},\n",
       " {'arahuaco': \"Re'masi neyka ka'mukanungwasi iku a'chuhakumana\",\n",
       "  'esp': 'empleado publico'},\n",
       " {'arahuaco': \"Re'masi Neykazey Nari Nanaydy Winikwuya\",\n",
       "  'esp': 'accion popular'},\n",
       " {'arahuaco': 'Rifawazori awungwa neyka',\n",
       "  'esp': 'plan o programa de desarrollo'},\n",
       " {'arahuaco': \"Sakuku dikin wina'zuna awa re'kumana'ba zanu\",\n",
       "  'esp': 'concejales'},\n",
       " {'arahuaco': \"Sakuku dikin wina'zana umért awutari re'kumana'ba zane\",\n",
       "  'esp': 'miembros de las asambleas departamentales'},\n",
       " {'arahuaco': \"Sakuku ka'gume umn awutari re'kumana'ba zanu\",\n",
       "  'esp': 'autoridad del departamento (Gobernador)'},\n",
       " {'arahuaco': \"Sakuku ka'gume awd re‘kumana'ba zanu\",\n",
       "  'esp': 'autoridad del municipio (Alcalde)'},\n",
       " {'arahuaco': \"Umi a'zuna-jwa'kumukwéy neyka kundneya\", 'esp': 'ciudadano'},\n",
       " {'arahuaco': \"Gwame yeyka enchiieya umén a'zuna zuga'kenamu*\",\n",
       "  'esp': 'CARTA DEL SENOR PRESIDENTE DE LA REPUBLICA DE COLOMBIA'},\n",
       " {'arahuaco': \"Santa Fe de Bogotd, ikawa tima zuna'ba 1993 kugise’.\",\n",
       "  'esp': 'Santafé de Bogotd, Septiembre de 1993'},\n",
       " {'arahuaco': 'Miwi, najinukane Jinari:', 'esp': 'Apreciados amigos:'},\n",
       " {'arahuaco': 'Ga\\'kunama abunna zukutu du unde\\'bonungwa nari, Santa Fe de Bogoté unnikumeyazoyanari; wya anukuchuhakumaye\\'ri; “iwa-jwia pariri Koronbia zari zweinnugeykaunta\\'kumuya kawin\", gwaku\\' nunkwe. Eyméy zare\\' pariri Koronbia re\\'masi akweyzoyeykari anugwese\\' zeyzey niwe\\'zunnari, akin kinki niwe\\'zuna ni.',\n",
       "  'esp': 'Al clausurar las sesiones de la Asamblea Nacional Constituyente afirmé que ese dia seiniciaba una nueva era en la historia de Colombia. Esa misma felicidad que desde entoncesanima el coraz6n de los colombianos, esa satisfaccién que sentimos quienes hemos luchadosin tregua por construir una patria abierta a la participacién, que no excluya a nadie, quecobije por igual a pobres y a ricos, a fuertes y a débiles, a los que han sido gestores denuestra historia, cobra un especial sentido con la publicacién de nuestra Carta Magna a sietelenguas indfgenas.'},\n",
       " {'arahuaco': \"Koronbia akwey zoyari; né6wmusine nuna neyka, chawi a'zari akweya neyka, jumea'nikweya,jume a'niku' neyka, emi dikin ga'kunama kawunka'si, du zdkusi azoyananeykasin, yow; i'ngwi pin kawure'kumey, dikin gwamye angwasi, gunti azweingwasi,anka'mechu' nari zapari zoya una nunkurase'ri, azi niwe'zano: Ga'kunamu abunna zukaturi,iwa koga-juna ga'‘kunamu iky akwey zoyeykase' aseykumuya sfrigun, a'chundkumaawa'bari kwa niwe’zunin niwe'zarfkucha zeyzey niwe'zanna neki kau' nari na ni.\",\n",
       "  'esp': 'Qué equivocados estaban quienes afirmaron alguna vez que la Constitucién seria un textomuerto. La entrega oficial de esta traducci6n es el resultado de un exhaustivo e intensotrabajo con los representantes de las comunidades indfgenas, en el cual nos hemos nutridode su milenaria sabidurfa, para comprender con ellos, el secreto de su ancestral convivenciapacifica. Por eso, este texto no se conformé con convertir una palabra hispénica en otraindfgena, sino que fue més alld en su esfuerzo; agregé a las normas constitucionales, lasabia filosofia de estos pueblos, enriqueciendo el sentido de los principios constitucionales.'},\n",
       " {'arahuaco': '\"Ga\\'kunama abunna zekete iwa zane neykari, ga’‘kandmekin nari zu\\'n kwangwa ni\",i\\'ngwise\\'ri agwa\\'na na’ no. Ey uwe\\'ki eyméy winyana neykari du kawi rinre’zétikuma unana\\' nunno. Ema ga\\'kenamyu ikun re\\'zagikumana pinnase\\' jwa\\'sungwasi iwamiwe\\'wekumuyari, iku achuzuhasana kutwinusi zoyanajinasin du kawi ga\\'kunamu re\\'tasi,',\n",
       "  'esp': 'Por lo tanto, no vacilo en afirmar que este texto encarna el espiritu que animé la labor delos Constituyentes: tenemos derecho a vivir en un pais que como éste, sea amplio, tolerantey lo suficientemente democrético, para que todos tengamos un lugar bajo el sol deColombia.'},\n",
       " {'arahuaco': \"ingiti unchuhey, zoyanari gunti emari a'chuiakumana ni.\",\n",
       "  'esp': 'Me asiste la certeza de que con la conclusién de este esfuerzo, Ustedes reciben lasherramientas necesarias para emprender la construcci6n de un nuevo y mejor futuro.'},\n",
       " {'arahuaco': \"Uyéy anchuiey azorie'ri, ikuhase' unkupanu' nari zweykwa ga'kuname winuka'nikwayaneyka; niwiri ingiti riwi, eyméy gwasi ni niwigunchori zweinniwingwa nari, fkuzeykunsamy kutukunun kwakumana neyka, unkeriwi azoyana ni. Ey awame' ema ga'kunamaa'chuhakumanari, ga'keuname bunachy sirigun a'nikwuya ikuka i'ngweti i'‘ngweti ikanunkuz4gikumey azoyana zz'n, neki na’ na no. Bunachun a'nikwaya unkuwusa awa awiri,eya kawunka'kumey azweingwa nari, fkuzey kunsamy si riga'ta'na ni. Eyméy awiga'kaname abunna zukata umin zachun zaka'cho'kumana ni.\",\n",
       "  'esp': 'CESAR GAVIRIA TRUJILLO'},\n",
       " {'arahuaco': \"Ey uweri ema ga‘kuname a'kumana neykari, gwamu guga zukuta du unde'bonungwa narizagur6 agagu'na neykari, re'tasi azoyana uyéy anugwese' winunkuncho' una neyka zu'nemari a'nikwen nuga na’ nunno. Ikuha'ri, Emi ka'jome riwun nanuydy nari, pinna-junaga‘kunamu ino'si, sakun ku me'zari a'mechama migunsi, awiri i'ngwi pin dikinkawure'kumey zweyniwingwa nari enanuydy zweykwey niwikununa ni; gunti wina'zarizu'n, emi Koronbia pinnase' Bunkwa Kukwi niwichwi kukwéy niwikenanangwa uwarizu'n ga'kuname umiin a'zuna ndnuaya abiti rinre'gowna.\",\n",
       "  'esp': 'CARTA DEL SENOR EMBAJADOR DE ESPANA EN COLOMBIA'},\n",
       " {'arahuaco': \"Ema ga’kunamu re'masi neykase’ ana'we ukumanasin, miwiri umén diwaén zakusi\",\n",
       "  'esp': 'oO aGuaber 7) ade de Espa Ww'},\n",
       " {'arahuaco': \"zweinpanumiwingwa kujuna uwa neyka, miwise'ri ipana-awin. Eymi awa ni, na'zunin.\",\n",
       "  'esp': 'Es para mi especial satisfacci6n presentar esta publicacién de la Traduccién de laConstitucién de la Reptiblica de Colombia a las lenguas indigenas, en la que Espajiaofrecié su decidido aporte a través de la Sociedad Estatal Quinto Centenario, como uno delos proyectos mas importantes de 1.992.'},\n",
       " {'arahuaco': 'CESAR GAVIRIA TRUJILLO',\n",
       "  'esp': 'Desde la Constitucién de 1.991 hemos compartido el esfuerzo del Gobiernocolombiano por impulsar el reconocimiento de los derechos y soberania de lasComunidades Indigenas del pais, hecho este que marca un precedente altamentesignificativo en América Latina. En esa linea la Embajada de Espafia est4 realizando unimportante esfuerzo por apoyar cualquier iniciativa que contribuya al desarrollo deproyectos en Comunidades Indigenas del pais.'},\n",
       " {'arahuaco': \"Ikuzey sakuku umén a'zuna zuga'kuname\",\n",
       "  'esp': 'Siempre hemos pensado que el apoyo a la cultura autéctona en Iberoaméricaresponde no s6lo a factores de solidaridad hist6rica, de preservaci6n del Medio Ambiente,o de integracién cultural, sino también al obligado respeto que se debe tener porpoblaciones que estén haciendo de su subsistencia cultural un reto no exento dedificultades y problemas estructurales.'},\n",
       " {'arahuaco': 'Nabusimuke, Febrero timase’ 1994 kugise’.',\n",
       "  'esp': 'Esta publicacién que en definitiva acerca el texto fundamental de Colombia a laslenguas de las propias Comunidades, nos parece un elemento fundamental parareconquistar los valores comunes de una cultura sin fronteras ni razas.'},\n",
       " {'arahuaco': 'Ema wa\\'nun, Constitucién abiti re\\'bori kachuiakumaye\\'ri, niwi-gobierno niwikeye\\'ri:\"Constitucién- se\\' a\\'nikwuya ikun unkuz4gisa awkwa mandi, miwise\\'ri kwa ki izanunno\".“Eyméy nanundi, umén eyméy gwasi ki agwakunno niwe\\'zun ki awanno\", izann nusi,kwa a\\'gwa una ni.',\n",
       "  'esp': 'Espero y deseo que iniciativas como estas consoliden formulas de entendimiento, y'},\n",
       " {'arahuaco': \"Ey uwame' uya nikamu uzweingwasi i'ngwi agaguka una ni; uya'ba i'ngwi abogadokatwinusi, igundmusi zweingwasi.\",\n",
       "  'esp': 'nos acerquen atin més en los valores que todos compartimos de identidad, progreso ydesarrollo.'},\n",
       " {'arahuaco': \"Ey une’ki pin a'nikwayukin ikun ankazagikumu' nari, ingumin niwika'mukanukwéy neykaagaguka ukumana ni. Ey uwe'ri, eyma juna neykari, niwi unkwey, zapari,zweinniwingweykazey narijwa'sama gun niwikendi, kartiya unbona uneykarigugunka'gwa awen keywu du nanu' nanno. Amiga'kunamua sfrigun gun a'nikwandi umneyméy gwasi ki agwako uwa' ndnuko.\",\n",
       "  'esp': 'NULLS'},\n",
       " {'arahuaco': \"Sakuku winnanun nugeykase’ gwakun, zachun unkuwusi zwein keywu, uyéy a'gwauneykari, gobierno- se'ri uyéy kinki niwikenchuhasi zweykwa, keyniwingwasi. Iwawifaruf a'chonun nuga, unkuriwi winzwein nugeykase' nentn, aya unkuwusigwi zoyamukau' nunno.\",\n",
       "  'esp': 'Carmelo Angulo Barturen'},\n",
       " {'arahuaco': \"Ema wa'nun kugise’ Sabana Crespo awiri Jewrwa, aya unkuwas¢ykumey, eyméy nanundiey a'gwaku' nunno izari, kartiya a'chundkuma gun uwa neykari, uyéy kinki unkeriwiawnangwa niwe'zanun keywu du nanu’ nunno. A'chwun nusi, ey gwa'kwin.\",\n",
       "  'esp': 'CARTA DEL CABILDO GOBERNADOR ARHUACO *'},\n",
       " {'arahuaco': \"Ema Kartiya gawi azoyana si ikeka nanekin a'kumana\",\n",
       "  'esp': 'Nabusimuke, mes de Febrero del afio 1994.'},\n",
       " {'arahuaco': 'Ema kartiya Presidencia-se\\' awun gwa\\'sana. Ema wanun, ga\\'kunamy abunna zukutaa’chuitakumaye’, sakuku Presidencia zanuse’, iku aseykumuya sirigun keywu a\\'chuha awaajunana, gwa\\'na na ni. Ey una nari Universidad de los Andes siku, diwén diwan ikunaséykumey zoya, izatasi a’chuhdkumey zoyeku \"Centro Colombiano de Estudios deLenguas Aborfgenes\" zane guna unka\\'sana. Uyajinasin undimasdy, ga\\'kuname koga-junaiku akwey zoyase\\' aseykumuya a\\'chuiiakumengwasi rifagagu\\'na. Uyari: Sibundoy(Putumayo) zanu mowga-juna: Kams4, Ingano; Cauca zanu mowga-juna: Guambiano,Paéz; Vaupés zanu, i\\'ngwi-juna: Cubeo; Sierra Nevada zanu, i\\'ngwi-juna: niwizey ikun;awiri Guajira zany, i‘ngwi-juna: Wayu.',\n",
       "  'esp': 'Dias atrds, cuando se concluy6 la elaboracién de la nueva Constitucién Politica, elgobierno puso en nuestra consideracién su intencién de traducir la nueva carta a la lenguaarhuaca . Nosotros vefamos que de ser traducida, tal vez la podiamos asimilar mejor, por locual se respondié que sf.'},\n",
       " {'arahuaco': 'Niwizey aseykumuya a\\'chuiengwari, umin niwingundmusi azoyana neykari: JonLandaburu, \"Centro Colombiano de Estudios de Lenguas Aborigenes”\", eymeku sakukuunvin a\\'zanan nuga, nikama koga neyka winipana una neykase\\'ri, ga’ unkéy rigunsi guntiazweingwasi niwingun4musi zoyana; Guillermo Padilla, gwame guga si riwianaga‘kunamu \"constitucidn-se\\' \" a\\'nikwuya niwikare\\'wechi zoyana; ey awiri, Sabana Crespo,Jugaka, Isurwa, “curso” zékusi azoyaneku, sakuku niwingunamasana. Iwa, ga‘kunamare\\'zagikumuyari, ikan a\\'kumey azoyana: José Marfa Crespo, Miguel Torres, Juan BautistaRamos, Emeterio Arroyo, awiri Rubiel Zalabata, nari a\\'chufiakumana ni.',\n",
       "  'esp': 'Para ese trabajo se escogieron varias personas, entre las que estarfa un abogado para prestarasesorfa. Sin embargo no se procedié a traducir toda la Constitucién sino que seseleccionaron aquellos apartes de mayor interés para nosotros. De hecho lo que alli serecoge, es lo que nosotros necesitamos conocer para la lucha y la defensa de la cultura. Poreso, al ser publicada esta cartilla, debemos estudiarla, ya que estando en nuestra propialengua podemos comprender mejor los elementos que nos da la Constitucién.'},\n",
       " {'arahuaco': 'Ema papériri mdykenu re\\'nikweya ni. Katukunun re\\'nikwayun, ga‘kuname ikunre\\'zagikumana, ma\\'keywa uga “artfculo” ndnuaya, pinnase’ riwizkwéy nuna ne\\'ki sakuku-+inase’ umiin ka\\'mukariza ni; Eyma\\'bari, g.ij.z. eyméy gwasi ey guga ni uminmikuwanukwéy nanungwasi, i\\'ngwiri ing zaka\\' unka\\'chd\\'kumey ga\\'kunamu ija ukumanani. Uya ga’‘kunamu umn ney a’kumana ni. Mu\\'ba re\\'nikwuyun, g.i.j.z. ma\\'‘keywa ugand4nukin, bunachun a\\'nikwaya ni. Mayba\\' re\\'nikwayan, “articulo\" i‘ngwi uga maykunekutow ndnukin dykunu agagu\\'na neykari, ga\\'‘kunamuz ikuka re\\'sa awi i\\'ngweti i\\'ngwetizakunka\\'cho\\'kumana nanuyari, gumusinu awiuyajinase’ umiin ka\\'mukariza ni. Ga\\'kunamaburuna eyma eyma nanun nuga ni; uya ga‘kunamu ikuka asdnuga, vya ga’‘kunamy tukinzoya ni; eymari, ga‘kanamu guruna eyméy za’kinuga neykasin unpdnuya ni; gunti kurdme\\'zanisi zweingwasi a\\'mukariza ni. Gunti uwari, eymari a’kumayun.',\n",
       "  'esp': 'En lo que concierne a nuestras autoridades, ellos deben asimilar bien lo que alli fuecontemplado, para poder exigir al gobierno su cumplimiento. Los nuevos lideres que estansurgiendo y los estudiantes, deben igualmente ir conociendo dichos elementos.'},\n",
       " {'arahuaco': \"Ey eweri, ga'kunamu emi a'nikwun nuga, yow, ingiti ingiti unchuhey iku'n a'‘kumeyazoyana ni. Ey awe neki eyki du kukusukwéy nariza ni, ey niwe'zanunki, kugi niwinzanikagun aweri a'chuhukwa kawame’, akin zu'n kuchuitukwa nisin. Niwi kinkiri iwa keywa ikunPpaperi a'samu, yamu, riwiun nikura nanu' nunno; awiri gwama guga sf ayeygwi, iwarikutukunun uya ga'kunama no'kwun nikura ni. Ey aweri, iwa a'kumana neykari, sigemowge pariri, eymi eymi re'zdtikuma una ni, a'chukwéy nanungwa ne awanki, iwaazweinnuga'bari, ema du ya awundi kurd me'zanisi zweingwasi ingu kindi mingundmasaawiza ni.\",\n",
       "  'esp': 'El afio anterior en las regiones de Sabana Crespo y Jewrwa, al informarse sobre eldesarrollo de esta traduccién se aprecié su conveniencia e importancia. Ahora al apareceresta cartilla que representa el resultado de ese trabajo, se espera que haya de nuestra parteverdadero interés en conocerla a profundidad.'},\n",
       " {'arahuaco': 'Ga’kunamu \"constitucién-se\" a\\'nikwuyari, ikun 4ykunu zakanka\\'cho\\'sukwa, i\\'munuriga\\'kunama neki migunchona’ku\\' nunna ni, kwa ku\\' name’ ne nariza nundi. Ey ewe\\'kiga\\'kunamu i\\'ngwiri, iwari abiti enkuncho\\'kumana ey a\\'nikwuya ni. Eymari uyéy kwdkumaawengwa ni yukwari, iwa kindi migunku\\' na’ nénuko. Tukindi, unta\\'sukwey nanundiunta\\'sa, na’ nundi uyéy unchusa; awkwey gunti na ni. Ey uwe\\'ki ema paperi towre\\'punkwuyari, riwia awnungwa me\\'zari yow ya awan keywu, eymi du kawin, eymi dukau\\' ni, me\\'zan au\\' nanuko.',\n",
       "  'esp': 'Este mensaje no tiene otro objeto més que presentar las ideas anteriormente expuestas.'},\n",
       " {'arahuaco': '“Ikan niwikeykumundi umin niwikuwariza ni\", gwakukwa name’; awiri ika akwey zoydy,ga\\'kunama ikuse\\' aseykumuya bunachuzeysin, mowga -juna riw{f azweinnugame\\';ga\\'kunamu \"Constitucién-se\\'\" a\\'nikwaya ikun a\\'kuma awundi du nariza ni a\\'chwi zu\\'n,uyéy a\\'chuiukwa nikamu ipana awiri, sinama ma\\'keywa agagu\\'na neykasin, uyaga\\'kunamu ikun re\\'zdgikumey zoyanarwa ni. Ey eweri, uyéy a\\'chuidkuma gun nanundi, yakinki awan du na\\' nanno, za\\'n na\\'zunin.',\n",
       "  'esp': 'BIENVENIDO ARROYOCabildo Gobernador'},\n",
       " {'arahuaco': 'NUN ASERIKi UNEY ZALABATA ZA‘KINUKWA EY MIWIKEYWIN.Santa fé de Bogotd, 1993 i‘ngwi uga timase’.',\n",
       "  'esp': 'UNA PALABRA ACERCA DE LA ELABORACIONDE ESTA CARTILLA*'},\n",
       " {'arahuaco': \"Ikun aseykumuya, kogajuna agagu'na sirigun ga'kunamere'zagisukwa, rigunsi gunti, ga' unkey, engunamusi azweingwa nari,sakuku a'chunakumana ze#ga'kuname*\",\n",
       "  'esp': 'La elaboracion de esta cartilla surge de una iniciativa de la Presidencia de la Republicacuando, después de la Asamblea Nacional Constituyente, se manifesté el deseo de traducirla nueva Constitucién Politica de Colombia a las lenguas indigenas. Entonces para ellosolicitaron colaboracién al Centro Colombiano de Estudios de Lenguas Aborigenes de laUniversidad de los Andes (CCELA) donde se adelantan estudios sobre diferentes lenguasindigenas del pais. Luego de varias conversaciones se escogieron siete lenguas que son: DeSibundoy (Putumayo) dos lenguas: el Kamsé4, el Ingano; del Cauca, dos lenguas: elGuambiano, el Paéz; del Vaupés una lengua: el Cubeo; De la Sierra Nevada, una lengua:nuestra lengua Ikwn; y de la Guajira, una lengua: el Wayi.'},\n",
       " {'arahuaco': 'Ema wa\\'nen, (1991 kugi kuchori), Koronbia sakuku umiin a\\'zuna neykasin ga\\'kunamaunchuiiey zoya-jinase\\'ri, emdy Universidad de los Andes si, niwi Centro Colombiano deEstudios de Lenguas Aborfgenes zanu nénkura, ikea niwikukana uye\\'ri, \"Ga\\'kanamaabunna zakute abiti neykari, ikan aseykumyya sirigun unkure\\'zagisukwa, ey awkwéymiwikunananno\", keywu niwe\\'sikumayun.',\n",
       "  'esp': 'Para elaborar el trabajo en nuestra lengua nos colaboraron especialmente: Jon Landaburu,director del Centro Colombiano de Estudios de Lenguas Aborigenes quien coordin6 lostrabajos en las siete lenguas y nos proporcioné los elementos necesarios; GuillermoPadilla, jurista que nos ayud6 a comprender los textos constitucionales; y, en SabanaCrespo, Jugaka e Isurwa, lugares donde se llevaron a cabo las sesiones de trabajo, noscolaboraron las autoridades. Como traductores participaron los sefiores: José MariaCrespo, Miguel Torres, Juan Bautista Ramos, Emeterio Arroyo y Rubiel Zalabata.'},\n",
       " {'arahuaco': 'Niwiri inga mowgé niwe\\'zare\\'ki, \"ey awkwéy niwikunariza ni\" keywu a\\'gwana ni. Emiri ,i\\'ngwi uga kugi, unvin neki, iken aseykumaya sirigun izatasi zwein nu\\'ninkura name’, emiriwiyajina, awiuya-jina, awiri uyéy izatasi zwein nugeykasin yow; fkuzey ga’kunamakinkiri, a\\'zana gunti na ni, kindi ey niwe\\'zunna ni. Emi chuzari uweyka zaka\\'chd\\'sukwa,ina sf neki wasaykwa, kwa manunka me\\'zari uwa neyka zaka\\'chd\\'sukwa, ey guntiga\\'kunamu winukunanen nuga ni, eygwi niwe\\'zunna. Iwa ga‘kunamu ikuka i\\'ngwetii\\'ngweti a\\'chukwa nundi, azuwa zana kawa, akutw zana kawa, azey azey winukunanunnuga gwakun, sumugwi winukundnuya ni, eygwi niwigunkwana ni. Ey vwe\\'ki ga\\'‘kunamaConstitucidn- se’ a\\'‘nikwuya, i\\'ngwiunari gwame guga si riwianase’ (abogdduse’) zu\\'njwa\\'saya ni; awiri bunache winarufwydy, ikuha winnenanuydy ga\\'kunameankuncho\\'kumana neykari, ike sfrigun neki ku\\' nanunno; diwén gun dnugwewinuka\\'nikwandi. Ey awame\\' ga\\'kuname Constitucién- se\\' a\\'nikwaya ikun aseykumuya siankure\\'zagisukwa, du kawi izataka awun gundi ga\\'kuname mika\\'cho\\' ndnuko. Ey anuwe\\'neki i\\'munuri, gugin neki yu\\' ndnukwa ni, na’ nendi diwén neki gwaékukwey, mikunikaawkwey niga ni. Gunti a\\'chwun nusi ey niwe\\'zunna ni.',\n",
       "  'esp': 'La cartilla consta de tres partes: La primera contiene la traduccién de los cuarenta articulosseleccionados, la cual, si bien puede ser aprendida por todos, puede servir especialmente alas autoridades. En algunos casos para comprender mejor el contenido de los articulos seagrego una explicacién que aparece en letras mas pequefias. La segunda parte contiene loscuarenta articulos en castellano y demds textos escritos en ikun en la primera parte; latercera parte, explica cada una de las palabras contenidas en los trece artfculos que sesacaron por aparte; ella puede ser de utilidad sobre todo para los maestros. Esta ultima seescribié con el deseo de que sea util para ir adquiriendo claridad en la identificacién de loselementos gramaticales que acompaiian las diferentes clases de palabras, en nuestralengua.'},\n",
       " {'arahuaco': \"Ey awame'’ i'ngwise'kin, ikun bunachun, mowga-juna dsuya neykase’, uya ga'kunamere'zagiza awiza neki na’ nanenno. Eymiri, abogado mikyjunagwi, sakuku kwa mamega'kunamu du -jwa'suyase’ mikujunagwi, mowga-juna asayama agunkwuya eygwi, ikanaseykumuya sirigun riwiana eygwi; ey awundi, ing zuguré neykase' aya nikama uzorizana’ manno.\",\n",
       "  'esp': 'Este texto en ikun fue construido poco a poco; y aunque sabemos que estos escritos puedenser mejorados, al término de un afio de haber iniciado este trabajo, ha sido preciso recogerlos resultados obtenidos para su respectiva publicacién. Puede afirmarse que hasta ahoraestamos aprendiendo a leer y escribir en nuestra lengua y es la primera vez que nosenfrentamos a traducir el lenguaje juridico. Por lo cual mds tarde se podran ver los errorescometidos en lo que hoy se presenta, pero de momento su lectura puede ayudar a avanzaren el conocimiento de estos temas.'},\n",
       " {'arahuaco': \"Ikun aseykumuya sirigun riwiana (lingiistas) agagu'na neykari, ikasin ritunnikumey,\",\n",
       "  'esp': 'Hemos tratado de explicar los conceptos de la Constitucién, en un iken libre deextranjerismos pero en algunos casos no encontramos las palabras adecuadas, no sabemosatin si éstas podrian o no encontrarse en nuestra lengua. En contados casos se crearonnuevas palabras o expresiones, que aparecen en este escrito. Nada nos permite saber eneste momento si tales palabras van a ser acogidas o no; si mas tarde se ve la convenienciade reemplazarlas por otras, hay libertad para hacerlo, de lo contrario podrian quedar talcual, todo es posible. Pero sdlo leyendo el presente texto con detenimiento y conintenciones de avanzar, podrdén sentir donde estan los aciertos y los defectos del trabajo.'},\n",
       " {'arahuaco': '“curso \" neki z4kusi azoyana ni. Ga\\'kunamu Constitucién -se\\' a\\'nikwuya-jwa\\'si, uyéyankuwusi, i\\'ngwi-juna unte zaka unka\\'cho\\'si, ga‘kanamy re\\'tasi, i\\'manuri ga\\'kanama ikuka',\n",
       "  'esp': 'Asumimos la responsabilidad de sacar adelante este trabajo porque suele afirmarse que \"sinos hablaran en nuestro idioma entenderfamos mejor\", porque en los territorios indfgenasse aprenden las dos lenguas (la propia y el castellano) y porque consideramos convenienteescribir en ikun el contenido de la Constitucién. Por todo lo anterior, considero que al serpublicado este trabajo, conviene en todo caso leerlo.'},\n",
       " {'arahuaco': \"abiti unka'chuhey; gunti awi, iingwi kugi umn azoyana ni.\",\n",
       "  'esp': 'RUBIEL ZALABATA TORRES.Responsable de la Traduccién'},\n",
       " {'arahuaco': 'Ga\\'kunama Constitucidn- se’ a\\'nikwuya; inuki \"derecho, ley, Estado, autoridad,ciudadania, democracia, etc.\" abogaduse\\'ri \"eyméy gwasi ey guga ni\" zaka mika\\'cho neawunki; ike rigandi diwan gun azweindi, diwaén gun ga’kuname kwundi; ikan yukwari,yame\\'ku\\' ndnukwa ni; ga\\'‘kunamu du mikuwanaki ne nukanki. Bunachun neki, birindi,ga\\'kunamu \"Estado\" kwa \"ciudadanfa” neki ku\\' nunna ni, aya ni. Birindi powru awutarizari winunkizdkusi, paperi neki a\\'si azweinpare\\', umin diwién kawi akwey, gwamu awizweykwa,4wi unni\\'si zweykwa, tana wina\\'zari zweykwa, inw si nemin, diwén kawi rigagusiey awi ga’kuname abiti unka\\'chuiey, gunti azoyana nunna, aya ni. Ey awundi ga’‘kunamu\"“democracia\" zana kwuyari, azi awi ka\\'chona una nanno. Eymi niwigunchonungwari,bunachun aseykumaya sirigun riwiana, bunachw riganeysi zanndy powru zanikunpunkwe\\'',\n",
       "  'esp': 'Santafé de Bogota, Octubre de 1993.'},\n",
       " {'arahuaco': 'pari zari zwein nuga si riwiana neykasin neki, rimaséykumey azoyana ni.',\n",
       "  'esp': 'PALABRAS DEL COORDINADOR DE LA TRADUCCIONA SIETE LENGUAS INDIGENAS'},\n",
       " {'arahuaco': 'Bunachw si warufey, awiri ike keyndrigun azi zana no uwari rimas4y, ga\\'kenama a\\'zunaa\\'tasi, ga’kunamu ikuka unkure\\'wechiri akutu kutasi, gunti awi, unkuncho\\'kumana ni.Ga\\'kaname bunachun a\\'nikwuya, ina zana; “derecho” ikandi azi zano, me\\'zasikumundi; \"taneyka\" kwa \"ritta\" zuna ni zu\\'n yu’ ndnuko. Ey uwe\\'ki bunachun kingwi \"derecho\" eyméygwasi ey guga ni, du unkuwasiri, ikun keywu zaka\\'ché\\'sukwa ga’kuname tékukwey na’nunno. Eyméy awi, “derecho” awgari, menanuydy mikundnaya neyka ey guga ni, niwiniwigunchona awin.',\n",
       "  'esp': 'Cuando, a fines de 1991, los Consejeros del Presidente de la Republica Mamaron al CentroColombiano de Estudios de Lenguas Aborfgenes de la Universidad de los Andes parapreguntar si podiamos traducir la nueva Constitucién a varias lenguas indigenas del pafs,contestamos que si, con un poco de miedo y con mucho entusiasmo a la vez. Los estudiosque desarrollabamos aqui, desde hacia mds de diez afios, nos habian mostrado a todos,estudiantes, profesores e investigadores, la profundidad, sutileza y belleza de la gramaticay del léxico de las lenguas ind{genas. La prdctica de sus textos mitolégicos, de sus cantos,de su arte de contar nos habian convencido del gran valor estético, literario y de sabiduriade sus tradiciones. Sin embargo, traducir la Constitucién, o sea, buscar los equivalentes deexpresiones y términos juridicos muy propios de la tradicién occidental a lenguasindigenas tan alejadas de esta misma tradicién, suponfa un desafio totalmente nuevo y unTiesgo alto.'},\n",
       " {'arahuaco': 'I\\'munuri, ga\\'kunamy, uraku, amiguchw, kun, ka\\'gumu,-je, kwa inu-juna ikuse\\'jwa\\'suyaneyka, uyazey ga\\'kunamy igusi, Constitucidn- se’ a\\'nikwaya “eyma zana ni\" kindi j,zaka\\'cho\\'si wazoyana ni. Kutukunun bunachy “Jey” papérise\\' unka\\'si azorie\\', eymeygwinari re\\'tasiri ga\\'kenamy ka\\'chunna ni, awga gumandi.',\n",
       "  'esp': 'El trabajo no podia ser un simple ejercicio individual de una persona que, manejando doslenguas, se sienta en su escritorio y acomete, sola, la traduccién. Por la dificultad del textocastellano por traducir, por la necesidad de buscar en las lenguas indigenas palabras y giroscon usos 0 sentidos muy poco familiares a los hablantes, era imprescindible dar un cardctercolectivo a la traducci6n y recurrir a grandes conocedores de la tradicién por un lado, a“personas-puentes\" por otro lado. Las personas-puentes iban a ser, en primer lugar,indigenas lingiiistas, formados casi todos en nuestro centro, pero también maestros,promotores de salud, lideres politicos, en general gente con un mejor conocimiento delmundo blanco ; los conocedores de la tradicién serfan segtin los casos : mamos, payés,chamanes, taitas y ancianos 0 sea lideres espirituales de las comunidades.'},\n",
       " {'arahuaco': \"Iwa, ikun agunku' neykase’, ga'kaname Constitucidn- se' a'nikwuya re'zagisukwa, eyméyrigagusi, re'tasi unkuncho'kumana ni, ey awiri ikuse'ri eyméy ga'kuname winukununa, izunawungwa nari, ikeun aseykumuya si riwiana emi kutwinusi azoyana-jinase'rl, g.ij.z. umna'mukanukwéy nanuya ikun a'nikwayari i'ngweti i'ngweti dykunu re'gawiri bunachuneygwi re'zagisa ukumana ni.\",\n",
       "  'esp': 'Durante mas de un aijio, los lingiiistas indfgenas organizaron equipos de traduccién yreuniones con las comunidades para estudiar los textos, crear o rescatar términos,someterlos a discusién. En mds de una ocasién tuvieron que volver a empezar porque lagente no entendfa. Cada dos meses se reunfan con nosotros en Bogoté dondeexamindbamos las dificultades entre todos y tratabamos de ayudar.'},\n",
       " {'arahuaco': 'Uyéy a\\'chuhakumana neykari, emi Kartiyase’ mayba\\' re\\'nikwuyun siku a\\'nikwuya ni.Uyari, iku gumusina awi zwein nugeykase\\', kwa wjwase’ neki, “azi awi ga’kunamy ikanre\\'z4gikumey wazoyana no\" agenchona awa ajunundi, kwa ummin du kukusi zweykwa,kwa amiga’kunamu wesu re\\'nisi zoyaki nukdy kawa,jwa\\'si neki zweykwa, eygwika\\'mukénuya na’ nunno.',\n",
       "  'esp': 'No solamente tuvimos, con la ayuda de los abogados, que aclarar, explicar y comentar eltexto de la Constitucién sino que, para acercar este pensamiento a culturas que no hanconocido sino hasta hace muy poco la escritura alfabética o una organizaci6n social enciudades, tuvimos que averiguar el nacimiento en el mundo occidental de muchas de estaspalabras e ideas juridicas : averiguar con fildlogos, estudiar con filésofos, comparar conantropdlogos, qué significado originario tienen palabras como “derecho, ley, Estado,autoridad, ciudadanfa, democracia, etc.\", entre las tribus indo-europeas de la Antigiiedad,entre griegos y latinos y también entre pueblos de otras tradiciones que se inventaron estaclase de nociones y palabras cuando el uso de la escritura y el acercamiento al mundo delas ciudades los impulsé a formalizar y desarrollar sus instituciones politicas, religiosas,econémicas y penales. Este trabajo y una constante discusién sobre las, muy diversas,tradiciones indigenas de Colombia nos permitieron ayudar a acufiar expresiones que nofueran simples equivalentes sino que se construyeran sobre raices fundamentales de lalengua. Los simbolos de la casa, del cuerpo, de las direcciones del césmos, de la firmeza,de la palabra sagrada como compromiso, y tantos otros, fueron asi utilizados para estenuevo uso, asf como lo fueran, en el nacimiento de la forma escrita del derecho dondequiera que apareciera.'},\n",
       " {'arahuaco': \"Constitucién- se' a'nikwaya, yow mangwa, re'zagikumu' nari, g.ij.z. ika diwién diwénakwey zoya enanuyd4y winukundnuya neyka sf wdsuya, zu'n re'zagikumana ni. Eymarig.ij.z. ma'keywa uga umn winna ni. Ey aweri, eygwi nénuya winneykari, re'zagisukwani‘nige'ri, {ngunw bori azoyana kawa, emari nanangwa na’ nunno. Ey awiri umén awkwéymikuniku' ndnuko.\",\n",
       "  'esp': 'Para que personas no hablantes de estas lenguas puedan medir el esfuerzo realizado ypuedan apreciar el pensamiento indigena, pedimos a los lingiiistas que presentardn tambiénuna traduccién directa al castellano de la traduccién en lengua indfgena de los principalesarticulos de la Constitucion. Aparece en la tercera parte de este libro. Esta parte sirvetambién a los maestros y estudiosos indigenas de las comunidades que quieran ver cémo sehizo la traduccién, con dnimo de mejorarla y de entrar mds profundamente en elfuncionamiento de su lengua.'},\n",
       " {'arahuaco': \"Iku diwén diwan aséykumey, koga-juna agagu'na sfrigan zu'n re'zagikumana ni. Uyari:Sibundoy (Putumayo) zanu mowga-juna: Kams4, Ingano; Cauca zany mowga juna:Guambiano, Paéz; Vaupés zanu, i'ngwi-juna: Cubeo; Sierra Nevada zanu, i'ngwi-juna:niwizey ikan; awiri Guajira zany, i'ngwijuna: Wayd.\",\n",
       "  'esp': 'No se tradujo toda la Constitucién. Solamente los articulos relativos a los derechosfundamentales de la persona y los que tienen que ver con los derechos de los pueblosindfgenas. As{ todo, son mas de cuarenta articulos. Creemos que se allané el camino paratraducir los otros cuando surja la necesidad.'},\n",
       " {'arahuaco': \"Emi Koronbia 65 ga'kuname diwin diwan aséykumey zoya, umn re'masi neykasewaséykumun nuga neykari, ema kogajuna agagu'na, awiri mowga mdykunu-juna eygwinanwyasin, za'n winna ni. Ujwa winneykari, i'ngwi-junari, re‘masi neykase' aseykumuyzeygwi kwuya neykasin,jwi kajuna awa neyka umén neki ku’ nunna name’, awiri ikunaseykumuya sirigun riwiana gugfn ananu' name’, iwa kindi ukumu' nari chisukwa nisin. Eyawe'ki iku wyéy uzoyagwi awa ajunuyase'ri mand awkweygwi kunanundi, zu'n niwe'zunin.\",\n",
       "  'esp': 'Solo se hizo la traduccién en siete lenguas : el Wayiinaiki de la Guajira, el Nasa Yuwe oP4ez del Cauca, el Guambiano del Cauca, el Ika 0 Arhuaco de la Sierra Nevada de SantaMarta, el Camentsa y el Inga de Sibundoy, el Cubeo del Vaupés. Estas lenguas estan entrelas mds habladas de las sesenta y cinco lenguas diferentes que existen en Colombia. Sinembargo quedaron todas las otras por fuera de este esfuerzo, algunas con muchos hablantestambién. Las limitaciones en cuanto al dinero y en cuanto a lingiiistas indfgenasdisponibles nos impidieron cubrir otras lenguas por esta vez. Esperamos que pronto sepueda dar una experiencia semejante en otras comunidades que lo deseen.'},\n",
       " {'arahuaco': \"Niwi si kinkiri, ayéy nikamu uzweykwa , igundmasi zoya uwasindi, kwa kuzinkura ni. Iwaiku kutekunun pari emi dkwuya neyka, aruney, re'tasi, ke wina'zari kwey azwein nugame’iwari ga'kuname zuneku zanu no'si, pinzundy zari awa neyka-jwa'si, zweinpana gun uwerikunsame ikufiwzeyri ayeygwi anuzweingwa nari ke ananka'kusi, chow unka'chwikawanka'si zweykwa ka'mukana awun du na’ nanno. Ey aweri zeyndrigwi ni; wawaw4pinnase’.\",\n",
       "  'esp': 'Para nosotros este trabajo fue una experiencia muy satisfactoria. Muy satisfactorio tambiénsentir la vitalidad de estos pueblos antiguos, emprendiendo nuevos caminos de'},\n",
       " {'arahuaco': 'Jon LANDABURU (CNRS)Director de] Centro Colombiano de Estudios de Lenguas Aborigenes (CCELA)',\n",
       "  'esp': 'entendimiento del mundo de hoy, que sean a la vez nuevos caminos de profundizacién desu memoria. A todos muchas gracias.'},\n",
       " {'arahuaco': 'Santafé de Bogotd, Febrero de 1994', 'esp': '—s'},\n",
       " {'arahuaco': \"B. GA'KANAMU I'NGWI JUNA ZAKA'CHO'SUYAG.I.J.Z. MA'KEYWA UGA NANUKINNANUYARI\",\n",
       "  'esp': 'Jon LANDABURU (CNRS)Director del Centro Colombiano de Estudios de Lenguas Aborigenes (CCELA)'},\n",
       " {'arahuaco': \"1. KUMA'PINRE'TANAZEY NARIKUTUKUENEN KUT ABUNNA SI\",\n",
       "  'esp': 'Santafé de Bogotd, Febrero de 1994'},\n",
       " {'arahuaco': \"G.i..z. 1. KORONBIA awgeykari, i'ngwi nanukin na ni.Ey uwame' gwams guga umn a'zuna i’ngwi z¥'n kwuyani. I'ngwi nanunki, ka'gyum# kuma'pinre'tanase' re'sana,ankuzori awkweyka_ kinkiri dykunu dyk unurinre'gukukwéy winukununa ni. Akin kweyzorikureykase’ ga’kynam# unka'chuhakumana umna'zuna; inski awkwéy ni, nanu' ni, gwa; ey awiri diwéndiwén kunsamz kwuye'ki chow dikin unka'chwiniwizana’ nunno. Ema vyéy uzoya awkweykari, iny nendn neawunki, a'zuna gunti nénkura, unisi, unkeriguzunasiuzoyun keywu, vyéy awkwey nariza na’ nuno.\",\n",
       "  'esp': 'a oe re = ae ~ . > ENN ES SERS'},\n",
       " {'arahuaco': 'G.ij.z. neykari, ga\\'kunamu ingu gari neyka, ikuka ndnukin ko\\'ko re‘gawi zu\\'neyméy a’kumana ni. Ga\\'kunamy i\\'ngwi-juna zaka\\'chd\\'suya, gwasi ey zuna ni.Bunachundi \"articulo\" aya ni.',\n",
       "  'esp': 'B. CUARENTA ARTICULOS DE LACONSTITUCION SELECCIONADOS PARA SERTRADUCIDOS'},\n",
       " {'arahuaco': 'Gwame guga umin a\\'zuna i\\'ngwi za\\'n kwuya ni, gugeykari; ga\\'kanamekatukunun kutu abunna ey awga ni. Bunachundi \"Constitucién Politica” awga ni.',\n",
       "  'esp': '1. ARTICULOS RELATIVOS A LOS PRINCIPIOSFUNDAMENTALES DEL ESTADO *'},\n",
       " {'arahuaco': 'KUMA\\'PINRE\\'TANA . Emari, ga\\'kuname sumu zaka\\'cho\\'sakwa nunna ne\\'ki,koko re\\'gawi waseykumana ni. INCORA, INDERENA, SENA, IDEMA, PNR,- eymari ga\\'kunamy sumu gunti zuna ne\\'ki, ko\\'ko re\\'bunna nuna ni. INCORAri:“Instituto Colombiano para la Reforma Agraria\" gwakukin nari, akin zu\\'njwa\\'wnka‘kumana ni. Eymeygwi nari KUMA\\'PINRE\\'TANA: Kumu A‘nikwuyaPinnazey nari bunachuse’ Re\\'rita\\'na, zana ni. Uyari zuneku, rigunsi',\n",
       "  'esp': 'Articulo 1. Colombia es un Estado social de derecho, organizado en forma de Republicaunitaria, descentralizada, con autononomfa de sus entidades territoriales, democratica,participativa y pluralista, fundada en el respeto de la dignidad humana, en el trabajo y lasolidaridad de las personas que la integran y en la prevalencia del interés general.'},\n",
       " {'arahuaco': 'zweinniwingwa, pinnajunazey nari bisinun kinuga ey awga ni. Bunachandi\"Estado\" aya ni.',\n",
       "  'esp': 'Articulo 2. Son fines esenciales del Estado: servir a la comunidad, promover laprosperidad general y garantizar la efectividad de los principios, derechos y deberesconsagrados en la Constituci6n; facilitar la participacién de todos en las decisiones que losafectan y en la vida econémica, politica, administrativa y cultural de la Nacién; defender laindependencia nacional, mantener la integridad territorial y asegurar la convivenciapacffica y la vigencia de un orden justo.'},\n",
       " {'arahuaco': 'Ka\\'gamy kuma\\'pinre\\'tanase’ re\\'sana m4ykunu-juna na ni. Ingumén awatarizaneykari, \"departamento\" bunachundi awga ni; eymi pariri, awd re‘kumeyzoyeykari, \"municipio\" bunachundi awga; i‘ngwi eygwi neykari, ka’gumu ikuzeyTe’kumana, “territorio indigena” bunachundi awga ni.',\n",
       "  'esp': 'Las autoridades de la Republica estan instituidas para proteger a todas las personastesidentes en Colombia, en su vida, honra, bienes, creencias, y demas derechos ylibertades, y para asegurar el cumplimiento de los deberes sociales del Estado y de losparticulares.'},\n",
       " {'arahuaco': \"G.i.j..z. 2. Kume A'nikwsya Pinnazey Nari, i'ngwindnukin rigunsi zweykwa, Bunachuse' Re'rita'na(KUMA'PINRE'TANARI) nikams winuzori awizeyka,ema nanyn nuga ni: Akin akwey zoya ka'mukari, kujuriawuyeyka re'tasi, awiri ga’‘kynamy abunna zukutuse’ ayéykawi enaneyd4y, ga’kunamy a'nikwuya chwi zweingwasi;akwey zoydy inuki ikumey nennige'ri pinnasin rigunsizoriza ni. Koronbiase' akwey zoya, inuki winukwnarizoya, rifiagagusi zoya, diwén diwdén winnenanuydyakwey, inuki du kawi chwi wazori ungwa neyka, pinnasinrigunsigwi wazoriza ni. Niwi ka'jome riwun re‘kumuyayi'ngwi nénukin riwari, dykunu rinre'gusi azweingwa, osunrifia'chu' nari akwungwa, nansydy chow unka'chwi, gunti\",\n",
       "  'esp': 'Articulo 3. La soberania reside exclusivamente en el pueblo, del cual emana el poderptiblico. El pueblo la ejerce en forma directa o por medio de sus representantes, en lostérminos que la Constitucién establece.'},\n",
       " {'arahuaco': 'chwungwa ni.',\n",
       "  'esp': '2. ARTICULOS RELATIVOS A LOS DERECHOSDE LAS PERSONAS'},\n",
       " {'arahuaco': \"Niwi ka’ jome riwun sakuku agagusi cho'kumanari,Koronbiase' akwey zoya, rifiagwaku' nari, osun rifa'chu’nari, ing winwkunari zoya, inw si ta a'zari zoya,me'zunukin awkwa mikundneya neyka, eyma zana eygwinanwyasin, ikwey, chwi zweingwasi; awiri\",\n",
       "  'esp': 'Articulo 11. El derecho a la vida es inviolable. No habr4 pena de muerte.'},\n",
       " {'arahuaco': \"kuma’'pinre'tana, ajwajina kwey zoyasin, enanvydy\",\n",
       "  'esp': 'Articulo 12. Nadie sera sometido a desaparicién forzada, a torturas ni a tratos o penascrueles, inhumanos o degradantes.'},\n",
       " {'arahuaco': \"niwikynanywya neyka, me'zunvkin nari awkwéyniwikununa neykasin, wyéy unchuiungwasi, ka'gwa'sizweingwasi, sakuku nanwn nuga ni.\",\n",
       "  'esp': 'Articulo 13. Todas las personas nacen libres e iguales ante la ley, recibiran la mismaproteccién y trato de las autoridades y gozarén de los mismos derechos, libertades yoportunidades sin ninguna discriminacién por razones de sexo, raza, origen nacional ofamiliar, lengua, religion, opinion politica o filos6fica.'},\n",
       " {'arahuaco': \"Bisinun pinna-junazey zanekw kwuya inuki, Alcaldia, INCORA, ICBF,INCORA, ndnuya neykari Kuma'pinre'tanazey gunti na ni. Eymari re'masiakwey zoyeyka ka'mukari zweingwasi zu'n naman nuga ni. Awiri beki neki ine\",\n",
       "  'esp': 'El Estado promoverd las condiciones para que la igualdad sera real y efectiva y adoptarémedidas en favor de grupos discriminados o marginados.'},\n",
       " {'arahuaco': \"juna kajunen nu'nige'ri, wya re'tasi; zaguré akwey zoyaigund4musi ikweyzweingwasi zu'n, sakuku kuma'pinre'tanazey neykase'ri zaneky nanun nuga ni.\",\n",
       "  'esp': 'El Estado proteger4 especialmente a aquellas personas que por su condicién econémica,ffsica o mental, se encuentren en circunstancia de debilidad manifiesta y sancionaré losabusos o maltratos que contra ellas se cometan.'},\n",
       " {'arahuaco': \"G.ig..z. 3. Akin kwey zorikureyka, bema gwasi uména'zuna nanaya ni. Uyase' ume ka'nisi sakukuagagukuyari, kumu ka'si cho'kumuya ni; akin kweyzorikureykase' re'gukukwéy nanwyari re'guka, nanu'nunnige'ri sakuku cho'kumanase'’ re'gusiza ni; ga‘kuname\",\n",
       "  'esp': 'Articulo 17. Se prohiben la exclavitud, la servidumbre y la trata de seres humanos entodas sus formas.'},\n",
       " {'arahuaco': \"abunna zukutuse' gugdy kawi.\",\n",
       "  'esp': 'Articulo 18. Se garantiza la libertad de conciencia. Nadie ser4 molestado por raz6n de susconvicciones 0 creencias ni compelido a relevarlas ni obligado a actuar contra suconciencia.'},\n",
       " {'arahuaco': 'NA saree eee',\n",
       "  'esp': 'Articulo 19. Se garantiza la libertad de cultos. Toda persona tiene derecho a profesarlibremente su religi6n y a difundirla en forma individual 0 colectiva.'},\n",
       " {'arahuaco': 'Gwam4 guga unchuiiuya —>D rmGwam4 guga unchunuy: .--> Resolucién% ff --> Ordenanzav --> Acuerdo',\n",
       "  'esp': 'Todas la confesiones religiosas e iglesias son igualmente libres ante la ley.'}]"
      ]
     },
     "execution_count": 135,
     "metadata": {},
     "output_type": "execute_result"
    }
   ],
   "source": [
    "corpus_constitucion"
   ]
  },
  {
   "cell_type": "code",
   "execution_count": 137,
   "metadata": {},
   "outputs": [],
   "source": [
    "with open('constitucion_arahuaco.pickle', 'wb') as archivo_pickle:\n",
    "    pickle.dump(corpus_constitucion, archivo_pickle)"
   ]
  },
  {
   "cell_type": "code",
   "execution_count": 138,
   "metadata": {
    "collapsed": true,
    "jupyter": {
     "outputs_hidden": true
    },
    "tags": []
   },
   "outputs": [
    {
     "data": {
      "text/plain": [
       "[{'arahuaco': 'Birin zanv pinnazey nari inwki eyki chuzdéneya',\n",
       "  'esp': 'patrimonio arqueolégico'},\n",
       " {'arahuaco': 'Diwun diwun winnenanuyay akwuya',\n",
       "  'esp': 'diversidad étnica y cultural'},\n",
       " {'arahuaco': 'Diwan diwan winnenanuydy akwey zoya', 'esp': 'grupos étnicos'},\n",
       " {'arahuaco': \"Diwén diwan arufiey awa re'muga re'béakumey zoya\",\n",
       "  'esp': 'minorias politicas'},\n",
       " {'arahuaco': \"Du kawi ga'kunamu wésuya\", 'esp': 'consejero'},\n",
       " {'arahuaco': 'Enanuyay', 'esp': 'derecho'},\n",
       " {'arahuaco': \"Eytiwe ikwey ka'gume re‘kumana\", 'esp': 'parques naturales'},\n",
       " {'arahuaco': \"Ga'kanama abunna zukuta\", 'esp': 'Constitucién Politica'},\n",
       " {'arahuaco': \"Ga'kunamy sumy neyka zaka'chésuya\", 'esp': 'titulo'},\n",
       " {'arahuaco': \"Ga'kunamy sump na'ba agagiikuya\", 'esp': 'capitulo'},\n",
       " {'arahuaco': \"G.ij.z. (Ga'kuname i'ngwijuna zaka'chésuya)\",\n",
       "  'esp': 'articulo'},\n",
       " {'arahuaco': 'G.ij.z. mend ndnukin wazweingwa neyka',\n",
       "  'esp': 'articulo transitorio'},\n",
       " {'arahuaco': 'Gwamy guga', 'esp': 'ley'},\n",
       " {'arahuaco': \"Gwamw guga guwa umin a'zuna\", 'esp': 'senador'},\n",
       " {'arahuaco': 'Gwamwu guga gawuydrigun', 'esp': 'rama legislativa'},\n",
       " {'arahuaco': 'Gwamu guga gawuya-jina',\n",
       "  'esp': 'cuerpo legislativo o congresistas'},\n",
       " {'arahuaco': \"Gwamua guga guwa awd a'zuna\",\n",
       "  'esp': 'Representante a la Camara'},\n",
       " {'arahuaco': 'Gwamu guga zukuta', 'esp': 'Ley Organica'},\n",
       " {'arahuaco': \"Gwamwu guga zukuta ka'gumu re'kumey zoya si wasuya\",\n",
       "  'esp': 'Ley Organica de Ordenamiento Territorial'},\n",
       " {'arahuaco': 'Gwamy yeyka unchufiwn gwdsuyajina', 'esp': 'cuerpo ejecutivo'},\n",
       " {'arahuaco': 'Gwamw guga unchuitdsuya', 'esp': 'decreto'},\n",
       " {'arahuaco': \"Gwamu guga unchuitwya re'zugurusi zoya\", 'esp': 'resolucién'},\n",
       " {'arahuaco': \"I'ngweti i‘ngweti menanuydy mikundnuya neyka\",\n",
       "  'esp': 'los derechos de las personas'},\n",
       " {'arahuaco': 'Inu ikumey zweingwa du kawi ga‘kanama wésuyajina',\n",
       "  'esp': 'consejo consultivo'},\n",
       " {'arahuaco': \"Ka'se' inu a'chuiakumuyeykazey nari,jwi anni'kumyyari\",\n",
       "  'esp': 'regalias'},\n",
       " {'arahuaco': \"Ka'gumy awd re'kumana'ba windiiunni'sana\",\n",
       "  'esp': 'reunién de municipios (provincia)'},\n",
       " {'arahuaco': \"Ka'gume fkuzey re'kumana\", 'esp': 'territorio indigena'},\n",
       " {'arahuaco': \"Ka'guma re‘kumungwa'ba chwi winzwein nikuyajina\",\n",
       "  'esp': 'Comision de Ordenamiento Territorial'},\n",
       " {'arahuaco': \"Kuma'pinre’tana\", 'esp': 'estado'},\n",
       " {'arahuaco': \"Jwa'kumukweyna\", 'esp': 'cédula de ciudadania'},\n",
       " {'arahuaco': \"Jwa'kumukweyna kuna’ neyka\", 'esp': 'indocumentado'},\n",
       " {'arahuaco': 'Michwi Enanuyay Winikwuya', 'esp': 'accion de tutela'},\n",
       " {'arahuaco': \"Mu'bajwa'kumukwéy neyka kundnuya\",\n",
       "  'esp': 'persona con doble nacionalidad'},\n",
       " {'arahuaco': \"Niwi ka'-jome riwen\", 'esp': 'nuestro pais (Colombia)'},\n",
       " {'arahuaco': \"Niwi U'meke\", 'esp': 'nuestro territorio (Linea Negra)'},\n",
       " {'arahuaco': \"No'ku' neykazey, a'tuhuyeykazey gwame gwdkuya\",\n",
       "  'esp': 'cuerpo jurisdiccional (juez)'},\n",
       " {'arahuaco': \"(Niwi ka'jome riwun) ka'gumy re'kumana  umiin zauna\",\n",
       "  'esp': 'departamento'},\n",
       " {'arahuaco': \"(Niwi ka'jome riwen) ka'gumy re'kumana awuzuna\",\n",
       "  'esp': 'municipio'},\n",
       " {'arahuaco': \"Re'masi neyka ka'mukanungwasi iku a'chuhakumana\",\n",
       "  'esp': 'empleado publico'},\n",
       " {'arahuaco': \"Re'masi Neykazey Nari Nanaydy Winikwuya\",\n",
       "  'esp': 'accion popular'},\n",
       " {'arahuaco': 'Rifawazori awungwa neyka',\n",
       "  'esp': 'plan o programa de desarrollo'},\n",
       " {'arahuaco': \"Sakuku dikin wina'zuna awa re'kumana'ba zanu\",\n",
       "  'esp': 'concejales'},\n",
       " {'arahuaco': \"Sakuku dikin wina'zana umért awutari re'kumana'ba zane\",\n",
       "  'esp': 'miembros de las asambleas departamentales'},\n",
       " {'arahuaco': \"Sakuku ka'gume umn awutari re'kumana'ba zanu\",\n",
       "  'esp': 'autoridad del departamento (Gobernador)'},\n",
       " {'arahuaco': \"Sakuku ka'gume awd re‘kumana'ba zanu\",\n",
       "  'esp': 'autoridad del municipio (Alcalde)'},\n",
       " {'arahuaco': \"Umi a'zuna-jwa'kumukwéy neyka kundneya\", 'esp': 'ciudadano'},\n",
       " {'arahuaco': \"Gwame yeyka enchiieya umén a'zuna zuga'kenamu*\",\n",
       "  'esp': 'CARTA DEL SENOR PRESIDENTE DE LA REPUBLICA DE COLOMBIA'},\n",
       " {'arahuaco': \"Santa Fe de Bogotd, ikawa tima zuna'ba 1993 kugise’.\",\n",
       "  'esp': 'Santafé de Bogotd, Septiembre de 1993'},\n",
       " {'arahuaco': 'Miwi, najinukane Jinari:', 'esp': 'Apreciados amigos:'},\n",
       " {'arahuaco': 'Ga\\'kunama abunna zukutu du unde\\'bonungwa nari, Santa Fe de Bogoté unnikumeyazoyanari; wya anukuchuhakumaye\\'ri; “iwa-jwia pariri Koronbia zari zweinnugeykaunta\\'kumuya kawin\", gwaku\\' nunkwe. Eyméy zare\\' pariri Koronbia re\\'masi akweyzoyeykari anugwese\\' zeyzey niwe\\'zunnari, akin kinki niwe\\'zuna ni.',\n",
       "  'esp': 'Al clausurar las sesiones de la Asamblea Nacional Constituyente afirmé que ese dia seiniciaba una nueva era en la historia de Colombia. Esa misma felicidad que desde entoncesanima el coraz6n de los colombianos, esa satisfaccién que sentimos quienes hemos luchadosin tregua por construir una patria abierta a la participacién, que no excluya a nadie, quecobije por igual a pobres y a ricos, a fuertes y a débiles, a los que han sido gestores denuestra historia, cobra un especial sentido con la publicacién de nuestra Carta Magna a sietelenguas indfgenas.'},\n",
       " {'arahuaco': \"Koronbia akwey zoyari; né6wmusine nuna neyka, chawi a'zari akweya neyka, jumea'nikweya,jume a'niku' neyka, emi dikin ga'kunama kawunka'si, du zdkusi azoyananeykasin, yow; i'ngwi pin kawure'kumey, dikin gwamye angwasi, gunti azweingwasi,anka'mechu' nari zapari zoya una nunkurase'ri, azi niwe'zano: Ga'kunamu abunna zukaturi,iwa koga-juna ga'‘kunamu iky akwey zoyeykase' aseykumuya sfrigun, a'chundkumaawa'bari kwa niwe’zunin niwe'zarfkucha zeyzey niwe'zanna neki kau' nari na ni.\",\n",
       "  'esp': 'Qué equivocados estaban quienes afirmaron alguna vez que la Constitucién seria un textomuerto. La entrega oficial de esta traducci6n es el resultado de un exhaustivo e intensotrabajo con los representantes de las comunidades indfgenas, en el cual nos hemos nutridode su milenaria sabidurfa, para comprender con ellos, el secreto de su ancestral convivenciapacifica. Por eso, este texto no se conformé con convertir una palabra hispénica en otraindfgena, sino que fue més alld en su esfuerzo; agregé a las normas constitucionales, lasabia filosofia de estos pueblos, enriqueciendo el sentido de los principios constitucionales.'},\n",
       " {'arahuaco': '\"Ga\\'kunama abunna zekete iwa zane neykari, ga’‘kandmekin nari zu\\'n kwangwa ni\",i\\'ngwise\\'ri agwa\\'na na’ no. Ey uwe\\'ki eyméy winyana neykari du kawi rinre’zétikuma unana\\' nunno. Ema ga\\'kenamyu ikun re\\'zagikumana pinnase\\' jwa\\'sungwasi iwamiwe\\'wekumuyari, iku achuzuhasana kutwinusi zoyanajinasin du kawi ga\\'kunamu re\\'tasi,',\n",
       "  'esp': 'Por lo tanto, no vacilo en afirmar que este texto encarna el espiritu que animé la labor delos Constituyentes: tenemos derecho a vivir en un pais que como éste, sea amplio, tolerantey lo suficientemente democrético, para que todos tengamos un lugar bajo el sol deColombia.'},\n",
       " {'arahuaco': \"ingiti unchuhey, zoyanari gunti emari a'chuiakumana ni.\",\n",
       "  'esp': 'Me asiste la certeza de que con la conclusién de este esfuerzo, Ustedes reciben lasherramientas necesarias para emprender la construcci6n de un nuevo y mejor futuro.'},\n",
       " {'arahuaco': \"Uyéy anchuiey azorie'ri, ikuhase' unkupanu' nari zweykwa ga'kuname winuka'nikwayaneyka; niwiri ingiti riwi, eyméy gwasi ni niwigunchori zweinniwingwa nari, fkuzeykunsamy kutukunun kwakumana neyka, unkeriwi azoyana ni. Ey awame' ema ga'kunamaa'chuhakumanari, ga'keuname bunachy sirigun a'nikwuya ikuka i'ngweti i'‘ngweti ikanunkuz4gikumey azoyana zz'n, neki na’ na no. Bunachun a'nikwaya unkuwusa awa awiri,eya kawunka'kumey azweingwa nari, fkuzey kunsamy si riga'ta'na ni. Eyméy awiga'kaname abunna zukata umin zachun zaka'cho'kumana ni.\",\n",
       "  'esp': 'CESAR GAVIRIA TRUJILLO'},\n",
       " {'arahuaco': \"Ey uweri ema ga‘kuname a'kumana neykari, gwamu guga zukuta du unde'bonungwa narizagur6 agagu'na neykari, re'tasi azoyana uyéy anugwese' winunkuncho' una neyka zu'nemari a'nikwen nuga na’ nunno. Ikuha'ri, Emi ka'jome riwun nanuydy nari, pinna-junaga‘kunamu ino'si, sakun ku me'zari a'mechama migunsi, awiri i'ngwi pin dikinkawure'kumey zweyniwingwa nari enanuydy zweykwey niwikununa ni; gunti wina'zarizu'n, emi Koronbia pinnase' Bunkwa Kukwi niwichwi kukwéy niwikenanangwa uwarizu'n ga'kuname umiin a'zuna ndnuaya abiti rinre'gowna.\",\n",
       "  'esp': 'CARTA DEL SENOR EMBAJADOR DE ESPANA EN COLOMBIA'},\n",
       " {'arahuaco': \"Ema ga’kunamu re'masi neykase’ ana'we ukumanasin, miwiri umén diwaén zakusi\",\n",
       "  'esp': 'oO aGuaber 7) ade de Espa Ww'},\n",
       " {'arahuaco': \"zweinpanumiwingwa kujuna uwa neyka, miwise'ri ipana-awin. Eymi awa ni, na'zunin.\",\n",
       "  'esp': 'Es para mi especial satisfacci6n presentar esta publicacién de la Traduccién de laConstitucién de la Reptiblica de Colombia a las lenguas indigenas, en la que Espajiaofrecié su decidido aporte a través de la Sociedad Estatal Quinto Centenario, como uno delos proyectos mas importantes de 1.992.'},\n",
       " {'arahuaco': 'CESAR GAVIRIA TRUJILLO',\n",
       "  'esp': 'Desde la Constitucién de 1.991 hemos compartido el esfuerzo del Gobiernocolombiano por impulsar el reconocimiento de los derechos y soberania de lasComunidades Indigenas del pais, hecho este que marca un precedente altamentesignificativo en América Latina. En esa linea la Embajada de Espafia est4 realizando unimportante esfuerzo por apoyar cualquier iniciativa que contribuya al desarrollo deproyectos en Comunidades Indigenas del pais.'},\n",
       " {'arahuaco': \"Ikuzey sakuku umén a'zuna zuga'kuname\",\n",
       "  'esp': 'Siempre hemos pensado que el apoyo a la cultura autéctona en Iberoaméricaresponde no s6lo a factores de solidaridad hist6rica, de preservaci6n del Medio Ambiente,o de integracién cultural, sino también al obligado respeto que se debe tener porpoblaciones que estén haciendo de su subsistencia cultural un reto no exento dedificultades y problemas estructurales.'},\n",
       " {'arahuaco': 'Nabusimuke, Febrero timase’ 1994 kugise’.',\n",
       "  'esp': 'Esta publicacién que en definitiva acerca el texto fundamental de Colombia a laslenguas de las propias Comunidades, nos parece un elemento fundamental parareconquistar los valores comunes de una cultura sin fronteras ni razas.'},\n",
       " {'arahuaco': 'Ema wa\\'nun, Constitucién abiti re\\'bori kachuiakumaye\\'ri, niwi-gobierno niwikeye\\'ri:\"Constitucién- se\\' a\\'nikwuya ikun unkuz4gisa awkwa mandi, miwise\\'ri kwa ki izanunno\".“Eyméy nanundi, umén eyméy gwasi ki agwakunno niwe\\'zun ki awanno\", izann nusi,kwa a\\'gwa una ni.',\n",
       "  'esp': 'Espero y deseo que iniciativas como estas consoliden formulas de entendimiento, y'},\n",
       " {'arahuaco': \"Ey uwame' uya nikamu uzweingwasi i'ngwi agaguka una ni; uya'ba i'ngwi abogadokatwinusi, igundmusi zweingwasi.\",\n",
       "  'esp': 'nos acerquen atin més en los valores que todos compartimos de identidad, progreso ydesarrollo.'},\n",
       " {'arahuaco': \"Ey une’ki pin a'nikwayukin ikun ankazagikumu' nari, ingumin niwika'mukanukwéy neykaagaguka ukumana ni. Ey uwe'ri, eyma juna neykari, niwi unkwey, zapari,zweinniwingweykazey narijwa'sama gun niwikendi, kartiya unbona uneykarigugunka'gwa awen keywu du nanu' nanno. Amiga'kunamua sfrigun gun a'nikwandi umneyméy gwasi ki agwako uwa' ndnuko.\",\n",
       "  'esp': 'NULLS'},\n",
       " {'arahuaco': \"Sakuku winnanun nugeykase’ gwakun, zachun unkuwusi zwein keywu, uyéy a'gwauneykari, gobierno- se'ri uyéy kinki niwikenchuhasi zweykwa, keyniwingwasi. Iwawifaruf a'chonun nuga, unkuriwi winzwein nugeykase' nentn, aya unkuwusigwi zoyamukau' nunno.\",\n",
       "  'esp': 'Carmelo Angulo Barturen'},\n",
       " {'arahuaco': \"Ema wa'nun kugise’ Sabana Crespo awiri Jewrwa, aya unkuwas¢ykumey, eyméy nanundiey a'gwaku' nunno izari, kartiya a'chundkuma gun uwa neykari, uyéy kinki unkeriwiawnangwa niwe'zanun keywu du nanu’ nunno. A'chwun nusi, ey gwa'kwin.\",\n",
       "  'esp': 'CARTA DEL CABILDO GOBERNADOR ARHUACO *'},\n",
       " {'arahuaco': \"Ema Kartiya gawi azoyana si ikeka nanekin a'kumana\",\n",
       "  'esp': 'Nabusimuke, mes de Febrero del afio 1994.'},\n",
       " {'arahuaco': 'Ema kartiya Presidencia-se\\' awun gwa\\'sana. Ema wanun, ga\\'kunamy abunna zukutaa’chuitakumaye’, sakuku Presidencia zanuse’, iku aseykumuya sirigun keywu a\\'chuha awaajunana, gwa\\'na na ni. Ey una nari Universidad de los Andes siku, diwén diwan ikunaséykumey zoya, izatasi a’chuhdkumey zoyeku \"Centro Colombiano de Estudios deLenguas Aborfgenes\" zane guna unka\\'sana. Uyajinasin undimasdy, ga\\'kuname koga-junaiku akwey zoyase\\' aseykumuya a\\'chuiiakumengwasi rifagagu\\'na. Uyari: Sibundoy(Putumayo) zanu mowga-juna: Kams4, Ingano; Cauca zanu mowga-juna: Guambiano,Paéz; Vaupés zanu, i\\'ngwi-juna: Cubeo; Sierra Nevada zanu, i\\'ngwi-juna: niwizey ikun;awiri Guajira zany, i‘ngwi-juna: Wayu.',\n",
       "  'esp': 'Dias atrds, cuando se concluy6 la elaboracién de la nueva Constitucién Politica, elgobierno puso en nuestra consideracién su intencién de traducir la nueva carta a la lenguaarhuaca . Nosotros vefamos que de ser traducida, tal vez la podiamos asimilar mejor, por locual se respondié que sf.'},\n",
       " {'arahuaco': 'Niwizey aseykumuya a\\'chuiengwari, umin niwingundmusi azoyana neykari: JonLandaburu, \"Centro Colombiano de Estudios de Lenguas Aborigenes”\", eymeku sakukuunvin a\\'zanan nuga, nikama koga neyka winipana una neykase\\'ri, ga’ unkéy rigunsi guntiazweingwasi niwingun4musi zoyana; Guillermo Padilla, gwame guga si riwianaga‘kunamu \"constitucidn-se\\' \" a\\'nikwuya niwikare\\'wechi zoyana; ey awiri, Sabana Crespo,Jugaka, Isurwa, “curso” zékusi azoyaneku, sakuku niwingunamasana. Iwa, ga‘kunamare\\'zagikumuyari, ikan a\\'kumey azoyana: José Marfa Crespo, Miguel Torres, Juan BautistaRamos, Emeterio Arroyo, awiri Rubiel Zalabata, nari a\\'chufiakumana ni.',\n",
       "  'esp': 'Para ese trabajo se escogieron varias personas, entre las que estarfa un abogado para prestarasesorfa. Sin embargo no se procedié a traducir toda la Constitucién sino que seseleccionaron aquellos apartes de mayor interés para nosotros. De hecho lo que alli serecoge, es lo que nosotros necesitamos conocer para la lucha y la defensa de la cultura. Poreso, al ser publicada esta cartilla, debemos estudiarla, ya que estando en nuestra propialengua podemos comprender mejor los elementos que nos da la Constitucién.'},\n",
       " {'arahuaco': 'Ema papériri mdykenu re\\'nikweya ni. Katukunun re\\'nikwayun, ga‘kuname ikunre\\'zagikumana, ma\\'keywa uga “artfculo” ndnuaya, pinnase’ riwizkwéy nuna ne\\'ki sakuku-+inase’ umiin ka\\'mukariza ni; Eyma\\'bari, g.ij.z. eyméy gwasi ey guga ni uminmikuwanukwéy nanungwasi, i\\'ngwiri ing zaka\\' unka\\'chd\\'kumey ga\\'kunamu ija ukumanani. Uya ga’‘kunamu umn ney a’kumana ni. Mu\\'ba re\\'nikwuyun, g.i.j.z. ma\\'‘keywa ugand4nukin, bunachun a\\'nikwaya ni. Mayba\\' re\\'nikwayan, “articulo\" i‘ngwi uga maykunekutow ndnukin dykunu agagu\\'na neykari, ga\\'‘kunamuz ikuka re\\'sa awi i\\'ngweti i\\'ngwetizakunka\\'cho\\'kumana nanuyari, gumusinu awiuyajinase’ umiin ka\\'mukariza ni. Ga\\'kunamaburuna eyma eyma nanun nuga ni; uya ga‘kunamu ikuka asdnuga, vya ga’‘kunamy tukinzoya ni; eymari, ga‘kanamu guruna eyméy za’kinuga neykasin unpdnuya ni; gunti kurdme\\'zanisi zweingwasi a\\'mukariza ni. Gunti uwari, eymari a’kumayun.',\n",
       "  'esp': 'En lo que concierne a nuestras autoridades, ellos deben asimilar bien lo que alli fuecontemplado, para poder exigir al gobierno su cumplimiento. Los nuevos lideres que estansurgiendo y los estudiantes, deben igualmente ir conociendo dichos elementos.'},\n",
       " {'arahuaco': \"Ey eweri, ga'kunamu emi a'nikwun nuga, yow, ingiti ingiti unchuhey iku'n a'‘kumeyazoyana ni. Ey awe neki eyki du kukusukwéy nariza ni, ey niwe'zanunki, kugi niwinzanikagun aweri a'chuhukwa kawame’, akin zu'n kuchuitukwa nisin. Niwi kinkiri iwa keywa ikunPpaperi a'samu, yamu, riwiun nikura nanu' nunno; awiri gwama guga sf ayeygwi, iwarikutukunun uya ga'kunama no'kwun nikura ni. Ey aweri, iwa a'kumana neykari, sigemowge pariri, eymi eymi re'zdtikuma una ni, a'chukwéy nanungwa ne awanki, iwaazweinnuga'bari, ema du ya awundi kurd me'zanisi zweingwasi ingu kindi mingundmasaawiza ni.\",\n",
       "  'esp': 'El afio anterior en las regiones de Sabana Crespo y Jewrwa, al informarse sobre eldesarrollo de esta traduccién se aprecié su conveniencia e importancia. Ahora al apareceresta cartilla que representa el resultado de ese trabajo, se espera que haya de nuestra parteverdadero interés en conocerla a profundidad.'},\n",
       " {'arahuaco': 'Ga’kunamu \"constitucién-se\" a\\'nikwuyari, ikun 4ykunu zakanka\\'cho\\'sukwa, i\\'munuriga\\'kunama neki migunchona’ku\\' nunna ni, kwa ku\\' name’ ne nariza nundi. Ey ewe\\'kiga\\'kunamu i\\'ngwiri, iwari abiti enkuncho\\'kumana ey a\\'nikwuya ni. Eymari uyéy kwdkumaawengwa ni yukwari, iwa kindi migunku\\' na’ nénuko. Tukindi, unta\\'sukwey nanundiunta\\'sa, na’ nundi uyéy unchusa; awkwey gunti na ni. Ey uwe\\'ki ema paperi towre\\'punkwuyari, riwia awnungwa me\\'zari yow ya awan keywu, eymi du kawin, eymi dukau\\' ni, me\\'zan au\\' nanuko.',\n",
       "  'esp': 'Este mensaje no tiene otro objeto més que presentar las ideas anteriormente expuestas.'},\n",
       " {'arahuaco': '“Ikan niwikeykumundi umin niwikuwariza ni\", gwakukwa name’; awiri ika akwey zoydy,ga\\'kunama ikuse\\' aseykumuya bunachuzeysin, mowga -juna riw{f azweinnugame\\';ga\\'kunamu \"Constitucién-se\\'\" a\\'nikwaya ikun a\\'kuma awundi du nariza ni a\\'chwi zu\\'n,uyéy a\\'chuiukwa nikamu ipana awiri, sinama ma\\'keywa agagu\\'na neykasin, uyaga\\'kunamu ikun re\\'zdgikumey zoyanarwa ni. Ey eweri, uyéy a\\'chuidkuma gun nanundi, yakinki awan du na\\' nanno, za\\'n na\\'zunin.',\n",
       "  'esp': 'BIENVENIDO ARROYOCabildo Gobernador'},\n",
       " {'arahuaco': 'NUN ASERIKi UNEY ZALABATA ZA‘KINUKWA EY MIWIKEYWIN.Santa fé de Bogotd, 1993 i‘ngwi uga timase’.',\n",
       "  'esp': 'UNA PALABRA ACERCA DE LA ELABORACIONDE ESTA CARTILLA*'},\n",
       " {'arahuaco': \"Ikun aseykumuya, kogajuna agagu'na sirigun ga'kunamere'zagisukwa, rigunsi gunti, ga' unkey, engunamusi azweingwa nari,sakuku a'chunakumana ze#ga'kuname*\",\n",
       "  'esp': 'La elaboracion de esta cartilla surge de una iniciativa de la Presidencia de la Republicacuando, después de la Asamblea Nacional Constituyente, se manifesté el deseo de traducirla nueva Constitucién Politica de Colombia a las lenguas indigenas. Entonces para ellosolicitaron colaboracién al Centro Colombiano de Estudios de Lenguas Aborigenes de laUniversidad de los Andes (CCELA) donde se adelantan estudios sobre diferentes lenguasindigenas del pais. Luego de varias conversaciones se escogieron siete lenguas que son: DeSibundoy (Putumayo) dos lenguas: el Kamsé4, el Ingano; del Cauca, dos lenguas: elGuambiano, el Paéz; del Vaupés una lengua: el Cubeo; De la Sierra Nevada, una lengua:nuestra lengua Ikwn; y de la Guajira, una lengua: el Wayi.'},\n",
       " {'arahuaco': 'Ema wa\\'nen, (1991 kugi kuchori), Koronbia sakuku umiin a\\'zuna neykasin ga\\'kunamaunchuiiey zoya-jinase\\'ri, emdy Universidad de los Andes si, niwi Centro Colombiano deEstudios de Lenguas Aborfgenes zanu nénkura, ikea niwikukana uye\\'ri, \"Ga\\'kanamaabunna zakute abiti neykari, ikan aseykumyya sirigun unkure\\'zagisukwa, ey awkwéymiwikunananno\", keywu niwe\\'sikumayun.',\n",
       "  'esp': 'Para elaborar el trabajo en nuestra lengua nos colaboraron especialmente: Jon Landaburu,director del Centro Colombiano de Estudios de Lenguas Aborigenes quien coordin6 lostrabajos en las siete lenguas y nos proporcioné los elementos necesarios; GuillermoPadilla, jurista que nos ayud6 a comprender los textos constitucionales; y, en SabanaCrespo, Jugaka e Isurwa, lugares donde se llevaron a cabo las sesiones de trabajo, noscolaboraron las autoridades. Como traductores participaron los sefiores: José MariaCrespo, Miguel Torres, Juan Bautista Ramos, Emeterio Arroyo y Rubiel Zalabata.'},\n",
       " {'arahuaco': 'Niwiri inga mowgé niwe\\'zare\\'ki, \"ey awkwéy niwikunariza ni\" keywu a\\'gwana ni. Emiri ,i\\'ngwi uga kugi, unvin neki, iken aseykumaya sirigun izatasi zwein nu\\'ninkura name’, emiriwiyajina, awiuya-jina, awiri uyéy izatasi zwein nugeykasin yow; fkuzey ga’kunamakinkiri, a\\'zana gunti na ni, kindi ey niwe\\'zunna ni. Emi chuzari uweyka zaka\\'chd\\'sukwa,ina sf neki wasaykwa, kwa manunka me\\'zari uwa neyka zaka\\'chd\\'sukwa, ey guntiga\\'kunamu winukunanen nuga ni, eygwi niwe\\'zunna. Iwa ga‘kunamu ikuka i\\'ngwetii\\'ngweti a\\'chukwa nundi, azuwa zana kawa, akutw zana kawa, azey azey winukunanunnuga gwakun, sumugwi winukundnuya ni, eygwi niwigunkwana ni. Ey vwe\\'ki ga\\'‘kunamaConstitucidn- se’ a\\'‘nikwuya, i\\'ngwiunari gwame guga si riwianase’ (abogdduse’) zu\\'njwa\\'saya ni; awiri bunache winarufwydy, ikuha winnenanuydy ga\\'kunameankuncho\\'kumana neykari, ike sfrigun neki ku\\' nanunno; diwén gun dnugwewinuka\\'nikwandi. Ey awame\\' ga\\'kuname Constitucién- se\\' a\\'nikwaya ikun aseykumuya siankure\\'zagisukwa, du kawi izataka awun gundi ga\\'kuname mika\\'cho\\' ndnuko. Ey anuwe\\'neki i\\'munuri, gugin neki yu\\' ndnukwa ni, na’ nendi diwén neki gwaékukwey, mikunikaawkwey niga ni. Gunti a\\'chwun nusi ey niwe\\'zunna ni.',\n",
       "  'esp': 'La cartilla consta de tres partes: La primera contiene la traduccién de los cuarenta articulosseleccionados, la cual, si bien puede ser aprendida por todos, puede servir especialmente alas autoridades. En algunos casos para comprender mejor el contenido de los articulos seagrego una explicacién que aparece en letras mas pequefias. La segunda parte contiene loscuarenta articulos en castellano y demds textos escritos en ikun en la primera parte; latercera parte, explica cada una de las palabras contenidas en los trece artfculos que sesacaron por aparte; ella puede ser de utilidad sobre todo para los maestros. Esta ultima seescribié con el deseo de que sea util para ir adquiriendo claridad en la identificacién de loselementos gramaticales que acompaiian las diferentes clases de palabras, en nuestralengua.'},\n",
       " {'arahuaco': \"Ey awame'’ i'ngwise'kin, ikun bunachun, mowga-juna dsuya neykase’, uya ga'kunamere'zagiza awiza neki na’ nanenno. Eymiri, abogado mikyjunagwi, sakuku kwa mamega'kunamu du -jwa'suyase’ mikujunagwi, mowga-juna asayama agunkwuya eygwi, ikanaseykumuya sirigun riwiana eygwi; ey awundi, ing zuguré neykase' aya nikama uzorizana’ manno.\",\n",
       "  'esp': 'Este texto en ikun fue construido poco a poco; y aunque sabemos que estos escritos puedenser mejorados, al término de un afio de haber iniciado este trabajo, ha sido preciso recogerlos resultados obtenidos para su respectiva publicacién. Puede afirmarse que hasta ahoraestamos aprendiendo a leer y escribir en nuestra lengua y es la primera vez que nosenfrentamos a traducir el lenguaje juridico. Por lo cual mds tarde se podran ver los errorescometidos en lo que hoy se presenta, pero de momento su lectura puede ayudar a avanzaren el conocimiento de estos temas.'},\n",
       " {'arahuaco': \"Ikun aseykumuya sirigun riwiana (lingiistas) agagu'na neykari, ikasin ritunnikumey,\",\n",
       "  'esp': 'Hemos tratado de explicar los conceptos de la Constitucién, en un iken libre deextranjerismos pero en algunos casos no encontramos las palabras adecuadas, no sabemosatin si éstas podrian o no encontrarse en nuestra lengua. En contados casos se crearonnuevas palabras o expresiones, que aparecen en este escrito. Nada nos permite saber eneste momento si tales palabras van a ser acogidas o no; si mas tarde se ve la convenienciade reemplazarlas por otras, hay libertad para hacerlo, de lo contrario podrian quedar talcual, todo es posible. Pero sdlo leyendo el presente texto con detenimiento y conintenciones de avanzar, podrdén sentir donde estan los aciertos y los defectos del trabajo.'},\n",
       " {'arahuaco': '“curso \" neki z4kusi azoyana ni. Ga\\'kunamu Constitucién -se\\' a\\'nikwuya-jwa\\'si, uyéyankuwusi, i\\'ngwi-juna unte zaka unka\\'cho\\'si, ga‘kanamy re\\'tasi, i\\'manuri ga\\'kanama ikuka',\n",
       "  'esp': 'Asumimos la responsabilidad de sacar adelante este trabajo porque suele afirmarse que \"sinos hablaran en nuestro idioma entenderfamos mejor\", porque en los territorios indfgenasse aprenden las dos lenguas (la propia y el castellano) y porque consideramos convenienteescribir en ikun el contenido de la Constitucién. Por todo lo anterior, considero que al serpublicado este trabajo, conviene en todo caso leerlo.'},\n",
       " {'arahuaco': \"abiti unka'chuhey; gunti awi, iingwi kugi umn azoyana ni.\",\n",
       "  'esp': 'RUBIEL ZALABATA TORRES.Responsable de la Traduccién'},\n",
       " {'arahuaco': 'Ga\\'kunama Constitucidn- se’ a\\'nikwuya; inuki \"derecho, ley, Estado, autoridad,ciudadania, democracia, etc.\" abogaduse\\'ri \"eyméy gwasi ey guga ni\" zaka mika\\'cho neawunki; ike rigandi diwan gun azweindi, diwaén gun ga’kuname kwundi; ikan yukwari,yame\\'ku\\' ndnukwa ni; ga\\'‘kunamu du mikuwanaki ne nukanki. Bunachun neki, birindi,ga\\'kunamu \"Estado\" kwa \"ciudadanfa” neki ku\\' nunna ni, aya ni. Birindi powru awutarizari winunkizdkusi, paperi neki a\\'si azweinpare\\', umin diwién kawi akwey, gwamu awizweykwa,4wi unni\\'si zweykwa, tana wina\\'zari zweykwa, inw si nemin, diwén kawi rigagusiey awi ga’kuname abiti unka\\'chuiey, gunti azoyana nunna, aya ni. Ey awundi ga’‘kunamu\"“democracia\" zana kwuyari, azi awi ka\\'chona una nanno. Eymi niwigunchonungwari,bunachun aseykumaya sirigun riwiana, bunachw riganeysi zanndy powru zanikunpunkwe\\'',\n",
       "  'esp': 'Santafé de Bogota, Octubre de 1993.'},\n",
       " {'arahuaco': 'pari zari zwein nuga si riwiana neykasin neki, rimaséykumey azoyana ni.',\n",
       "  'esp': 'PALABRAS DEL COORDINADOR DE LA TRADUCCIONA SIETE LENGUAS INDIGENAS'},\n",
       " {'arahuaco': 'Bunachw si warufey, awiri ike keyndrigun azi zana no uwari rimas4y, ga\\'kenama a\\'zunaa\\'tasi, ga’kunamu ikuka unkure\\'wechiri akutu kutasi, gunti awi, unkuncho\\'kumana ni.Ga\\'kaname bunachun a\\'nikwuya, ina zana; “derecho” ikandi azi zano, me\\'zasikumundi; \"taneyka\" kwa \"ritta\" zuna ni zu\\'n yu’ ndnuko. Ey uwe\\'ki bunachun kingwi \"derecho\" eyméygwasi ey guga ni, du unkuwasiri, ikun keywu zaka\\'ché\\'sukwa ga’kuname tékukwey na’nunno. Eyméy awi, “derecho” awgari, menanuydy mikundnaya neyka ey guga ni, niwiniwigunchona awin.',\n",
       "  'esp': 'Cuando, a fines de 1991, los Consejeros del Presidente de la Republica Mamaron al CentroColombiano de Estudios de Lenguas Aborfgenes de la Universidad de los Andes parapreguntar si podiamos traducir la nueva Constitucién a varias lenguas indigenas del pafs,contestamos que si, con un poco de miedo y con mucho entusiasmo a la vez. Los estudiosque desarrollabamos aqui, desde hacia mds de diez afios, nos habian mostrado a todos,estudiantes, profesores e investigadores, la profundidad, sutileza y belleza de la gramaticay del léxico de las lenguas ind{genas. La prdctica de sus textos mitolégicos, de sus cantos,de su arte de contar nos habian convencido del gran valor estético, literario y de sabiduriade sus tradiciones. Sin embargo, traducir la Constitucién, o sea, buscar los equivalentes deexpresiones y términos juridicos muy propios de la tradicién occidental a lenguasindigenas tan alejadas de esta misma tradicién, suponfa un desafio totalmente nuevo y unTiesgo alto.'},\n",
       " {'arahuaco': 'I\\'munuri, ga\\'kunamy, uraku, amiguchw, kun, ka\\'gumu,-je, kwa inu-juna ikuse\\'jwa\\'suyaneyka, uyazey ga\\'kunamy igusi, Constitucidn- se’ a\\'nikwaya “eyma zana ni\" kindi j,zaka\\'cho\\'si wazoyana ni. Kutukunun bunachy “Jey” papérise\\' unka\\'si azorie\\', eymeygwinari re\\'tasiri ga\\'kenamy ka\\'chunna ni, awga gumandi.',\n",
       "  'esp': 'El trabajo no podia ser un simple ejercicio individual de una persona que, manejando doslenguas, se sienta en su escritorio y acomete, sola, la traduccién. Por la dificultad del textocastellano por traducir, por la necesidad de buscar en las lenguas indigenas palabras y giroscon usos 0 sentidos muy poco familiares a los hablantes, era imprescindible dar un cardctercolectivo a la traducci6n y recurrir a grandes conocedores de la tradicién por un lado, a“personas-puentes\" por otro lado. Las personas-puentes iban a ser, en primer lugar,indigenas lingiiistas, formados casi todos en nuestro centro, pero también maestros,promotores de salud, lideres politicos, en general gente con un mejor conocimiento delmundo blanco ; los conocedores de la tradicién serfan segtin los casos : mamos, payés,chamanes, taitas y ancianos 0 sea lideres espirituales de las comunidades.'},\n",
       " {'arahuaco': \"Iwa, ikun agunku' neykase’, ga'kaname Constitucidn- se' a'nikwuya re'zagisukwa, eyméyrigagusi, re'tasi unkuncho'kumana ni, ey awiri ikuse'ri eyméy ga'kuname winukununa, izunawungwa nari, ikeun aseykumuya si riwiana emi kutwinusi azoyana-jinase'rl, g.ij.z. umna'mukanukwéy nanuya ikun a'nikwayari i'ngweti i'ngweti dykunu re'gawiri bunachuneygwi re'zagisa ukumana ni.\",\n",
       "  'esp': 'Durante mas de un aijio, los lingiiistas indfgenas organizaron equipos de traduccién yreuniones con las comunidades para estudiar los textos, crear o rescatar términos,someterlos a discusién. En mds de una ocasién tuvieron que volver a empezar porque lagente no entendfa. Cada dos meses se reunfan con nosotros en Bogoté dondeexamindbamos las dificultades entre todos y tratabamos de ayudar.'},\n",
       " {'arahuaco': 'Uyéy a\\'chuhakumana neykari, emi Kartiyase’ mayba\\' re\\'nikwuyun siku a\\'nikwuya ni.Uyari, iku gumusina awi zwein nugeykase\\', kwa wjwase’ neki, “azi awi ga’kunamy ikanre\\'z4gikumey wazoyana no\" agenchona awa ajunundi, kwa ummin du kukusi zweykwa,kwa amiga’kunamu wesu re\\'nisi zoyaki nukdy kawa,jwa\\'si neki zweykwa, eygwika\\'mukénuya na’ nunno.',\n",
       "  'esp': 'No solamente tuvimos, con la ayuda de los abogados, que aclarar, explicar y comentar eltexto de la Constitucién sino que, para acercar este pensamiento a culturas que no hanconocido sino hasta hace muy poco la escritura alfabética o una organizaci6n social enciudades, tuvimos que averiguar el nacimiento en el mundo occidental de muchas de estaspalabras e ideas juridicas : averiguar con fildlogos, estudiar con filésofos, comparar conantropdlogos, qué significado originario tienen palabras como “derecho, ley, Estado,autoridad, ciudadanfa, democracia, etc.\", entre las tribus indo-europeas de la Antigiiedad,entre griegos y latinos y también entre pueblos de otras tradiciones que se inventaron estaclase de nociones y palabras cuando el uso de la escritura y el acercamiento al mundo delas ciudades los impulsé a formalizar y desarrollar sus instituciones politicas, religiosas,econémicas y penales. Este trabajo y una constante discusién sobre las, muy diversas,tradiciones indigenas de Colombia nos permitieron ayudar a acufiar expresiones que nofueran simples equivalentes sino que se construyeran sobre raices fundamentales de lalengua. Los simbolos de la casa, del cuerpo, de las direcciones del césmos, de la firmeza,de la palabra sagrada como compromiso, y tantos otros, fueron asi utilizados para estenuevo uso, asf como lo fueran, en el nacimiento de la forma escrita del derecho dondequiera que apareciera.'},\n",
       " {'arahuaco': \"Constitucién- se' a'nikwaya, yow mangwa, re'zagikumu' nari, g.ij.z. ika diwién diwénakwey zoya enanuyd4y winukundnuya neyka sf wdsuya, zu'n re'zagikumana ni. Eymarig.ij.z. ma'keywa uga umn winna ni. Ey aweri, eygwi nénuya winneykari, re'zagisukwani‘nige'ri, {ngunw bori azoyana kawa, emari nanangwa na’ nunno. Ey awiri umén awkwéymikuniku' ndnuko.\",\n",
       "  'esp': 'Para que personas no hablantes de estas lenguas puedan medir el esfuerzo realizado ypuedan apreciar el pensamiento indigena, pedimos a los lingiiistas que presentardn tambiénuna traduccién directa al castellano de la traduccién en lengua indfgena de los principalesarticulos de la Constitucion. Aparece en la tercera parte de este libro. Esta parte sirvetambién a los maestros y estudiosos indigenas de las comunidades que quieran ver cémo sehizo la traduccién, con dnimo de mejorarla y de entrar mds profundamente en elfuncionamiento de su lengua.'},\n",
       " {'arahuaco': \"Iku diwén diwan aséykumey, koga-juna agagu'na sfrigan zu'n re'zagikumana ni. Uyari:Sibundoy (Putumayo) zanu mowga-juna: Kams4, Ingano; Cauca zany mowga juna:Guambiano, Paéz; Vaupés zanu, i'ngwi-juna: Cubeo; Sierra Nevada zanu, i'ngwi-juna:niwizey ikan; awiri Guajira zany, i'ngwijuna: Wayd.\",\n",
       "  'esp': 'No se tradujo toda la Constitucién. Solamente los articulos relativos a los derechosfundamentales de la persona y los que tienen que ver con los derechos de los pueblosindfgenas. As{ todo, son mas de cuarenta articulos. Creemos que se allané el camino paratraducir los otros cuando surja la necesidad.'},\n",
       " {'arahuaco': \"Emi Koronbia 65 ga'kuname diwin diwan aséykumey zoya, umn re'masi neykasewaséykumun nuga neykari, ema kogajuna agagu'na, awiri mowga mdykunu-juna eygwinanwyasin, za'n winna ni. Ujwa winneykari, i'ngwi-junari, re‘masi neykase' aseykumuyzeygwi kwuya neykasin,jwi kajuna awa neyka umén neki ku’ nunna name’, awiri ikunaseykumuya sirigun riwiana gugfn ananu' name’, iwa kindi ukumu' nari chisukwa nisin. Eyawe'ki iku wyéy uzoyagwi awa ajunuyase'ri mand awkweygwi kunanundi, zu'n niwe'zunin.\",\n",
       "  'esp': 'Solo se hizo la traduccién en siete lenguas : el Wayiinaiki de la Guajira, el Nasa Yuwe oP4ez del Cauca, el Guambiano del Cauca, el Ika 0 Arhuaco de la Sierra Nevada de SantaMarta, el Camentsa y el Inga de Sibundoy, el Cubeo del Vaupés. Estas lenguas estan entrelas mds habladas de las sesenta y cinco lenguas diferentes que existen en Colombia. Sinembargo quedaron todas las otras por fuera de este esfuerzo, algunas con muchos hablantestambién. Las limitaciones en cuanto al dinero y en cuanto a lingiiistas indfgenasdisponibles nos impidieron cubrir otras lenguas por esta vez. Esperamos que pronto sepueda dar una experiencia semejante en otras comunidades que lo deseen.'},\n",
       " {'arahuaco': \"Niwi si kinkiri, ayéy nikamu uzweykwa , igundmasi zoya uwasindi, kwa kuzinkura ni. Iwaiku kutekunun pari emi dkwuya neyka, aruney, re'tasi, ke wina'zari kwey azwein nugame’iwari ga'kuname zuneku zanu no'si, pinzundy zari awa neyka-jwa'si, zweinpana gun uwerikunsame ikufiwzeyri ayeygwi anuzweingwa nari ke ananka'kusi, chow unka'chwikawanka'si zweykwa ka'mukana awun du na’ nanno. Ey aweri zeyndrigwi ni; wawaw4pinnase’.\",\n",
       "  'esp': 'Para nosotros este trabajo fue una experiencia muy satisfactoria. Muy satisfactorio tambiénsentir la vitalidad de estos pueblos antiguos, emprendiendo nuevos caminos de'},\n",
       " {'arahuaco': 'Jon LANDABURU (CNRS)Director de] Centro Colombiano de Estudios de Lenguas Aborigenes (CCELA)',\n",
       "  'esp': 'entendimiento del mundo de hoy, que sean a la vez nuevos caminos de profundizacién desu memoria. A todos muchas gracias.'},\n",
       " {'arahuaco': 'Santafé de Bogotd, Febrero de 1994', 'esp': '—s'},\n",
       " {'arahuaco': \"B. GA'KANAMU I'NGWI JUNA ZAKA'CHO'SUYAG.I.J.Z. MA'KEYWA UGA NANUKINNANUYARI\",\n",
       "  'esp': 'Jon LANDABURU (CNRS)Director del Centro Colombiano de Estudios de Lenguas Aborigenes (CCELA)'},\n",
       " {'arahuaco': \"1. KUMA'PINRE'TANAZEY NARIKUTUKUENEN KUT ABUNNA SI\",\n",
       "  'esp': 'Santafé de Bogotd, Febrero de 1994'},\n",
       " {'arahuaco': \"G.i..z. 1. KORONBIA awgeykari, i'ngwi nanukin na ni.Ey uwame' gwams guga umn a'zuna i’ngwi z¥'n kwuyani. I'ngwi nanunki, ka'gyum# kuma'pinre'tanase' re'sana,ankuzori awkweyka_ kinkiri dykunu dyk unurinre'gukukwéy winukununa ni. Akin kweyzorikureykase’ ga’kynam# unka'chuhakumana umna'zuna; inski awkwéy ni, nanu' ni, gwa; ey awiri diwéndiwén kunsamz kwuye'ki chow dikin unka'chwiniwizana’ nunno. Ema vyéy uzoya awkweykari, iny nendn neawunki, a'zuna gunti nénkura, unisi, unkeriguzunasiuzoyun keywu, vyéy awkwey nariza na’ nuno.\",\n",
       "  'esp': 'a oe re = ae ~ . > ENN ES SERS'},\n",
       " {'arahuaco': 'G.ij.z. neykari, ga\\'kunamu ingu gari neyka, ikuka ndnukin ko\\'ko re‘gawi zu\\'neyméy a’kumana ni. Ga\\'kunamy i\\'ngwi-juna zaka\\'chd\\'suya, gwasi ey zuna ni.Bunachundi \"articulo\" aya ni.',\n",
       "  'esp': 'B. CUARENTA ARTICULOS DE LACONSTITUCION SELECCIONADOS PARA SERTRADUCIDOS'},\n",
       " {'arahuaco': 'Gwame guga umin a\\'zuna i\\'ngwi za\\'n kwuya ni, gugeykari; ga\\'kanamekatukunun kutu abunna ey awga ni. Bunachundi \"Constitucién Politica” awga ni.',\n",
       "  'esp': '1. ARTICULOS RELATIVOS A LOS PRINCIPIOSFUNDAMENTALES DEL ESTADO *'},\n",
       " {'arahuaco': 'KUMA\\'PINRE\\'TANA . Emari, ga\\'kuname sumu zaka\\'cho\\'sakwa nunna ne\\'ki,koko re\\'gawi waseykumana ni. INCORA, INDERENA, SENA, IDEMA, PNR,- eymari ga\\'kunamy sumu gunti zuna ne\\'ki, ko\\'ko re\\'bunna nuna ni. INCORAri:“Instituto Colombiano para la Reforma Agraria\" gwakukin nari, akin zu\\'njwa\\'wnka‘kumana ni. Eymeygwi nari KUMA\\'PINRE\\'TANA: Kumu A‘nikwuyaPinnazey nari bunachuse’ Re\\'rita\\'na, zana ni. Uyari zuneku, rigunsi',\n",
       "  'esp': 'Articulo 1. Colombia es un Estado social de derecho, organizado en forma de Republicaunitaria, descentralizada, con autononomfa de sus entidades territoriales, democratica,participativa y pluralista, fundada en el respeto de la dignidad humana, en el trabajo y lasolidaridad de las personas que la integran y en la prevalencia del interés general.'},\n",
       " {'arahuaco': 'zweinniwingwa, pinnajunazey nari bisinun kinuga ey awga ni. Bunachandi\"Estado\" aya ni.',\n",
       "  'esp': 'Articulo 2. Son fines esenciales del Estado: servir a la comunidad, promover laprosperidad general y garantizar la efectividad de los principios, derechos y deberesconsagrados en la Constituci6n; facilitar la participacién de todos en las decisiones que losafectan y en la vida econémica, politica, administrativa y cultural de la Nacién; defender laindependencia nacional, mantener la integridad territorial y asegurar la convivenciapacffica y la vigencia de un orden justo.'},\n",
       " {'arahuaco': 'Ka\\'gamy kuma\\'pinre\\'tanase’ re\\'sana m4ykunu-juna na ni. Ingumén awatarizaneykari, \"departamento\" bunachundi awga ni; eymi pariri, awd re‘kumeyzoyeykari, \"municipio\" bunachundi awga; i‘ngwi eygwi neykari, ka’gumu ikuzeyTe’kumana, “territorio indigena” bunachundi awga ni.',\n",
       "  'esp': 'Las autoridades de la Republica estan instituidas para proteger a todas las personastesidentes en Colombia, en su vida, honra, bienes, creencias, y demas derechos ylibertades, y para asegurar el cumplimiento de los deberes sociales del Estado y de losparticulares.'},\n",
       " {'arahuaco': \"G.i.j..z. 2. Kume A'nikwsya Pinnazey Nari, i'ngwindnukin rigunsi zweykwa, Bunachuse' Re'rita'na(KUMA'PINRE'TANARI) nikams winuzori awizeyka,ema nanyn nuga ni: Akin akwey zoya ka'mukari, kujuriawuyeyka re'tasi, awiri ga’‘kynamy abunna zukutuse’ ayéykawi enaneyd4y, ga’kunamy a'nikwuya chwi zweingwasi;akwey zoydy inuki ikumey nennige'ri pinnasin rigunsizoriza ni. Koronbiase' akwey zoya, inuki winukwnarizoya, rifiagagusi zoya, diwén diwdén winnenanuydyakwey, inuki du kawi chwi wazori ungwa neyka, pinnasinrigunsigwi wazoriza ni. Niwi ka'jome riwun re‘kumuyayi'ngwi nénukin riwari, dykunu rinre'gusi azweingwa, osunrifia'chu' nari akwungwa, nansydy chow unka'chwi, gunti\",\n",
       "  'esp': 'Articulo 3. La soberania reside exclusivamente en el pueblo, del cual emana el poderptiblico. El pueblo la ejerce en forma directa o por medio de sus representantes, en lostérminos que la Constitucién establece.'},\n",
       " {'arahuaco': 'chwungwa ni.',\n",
       "  'esp': '2. ARTICULOS RELATIVOS A LOS DERECHOSDE LAS PERSONAS'},\n",
       " {'arahuaco': \"Niwi ka’ jome riwun sakuku agagusi cho'kumanari,Koronbiase' akwey zoya, rifiagwaku' nari, osun rifa'chu’nari, ing winwkunari zoya, inw si ta a'zari zoya,me'zunukin awkwa mikundneya neyka, eyma zana eygwinanwyasin, ikwey, chwi zweingwasi; awiri\",\n",
       "  'esp': 'Articulo 11. El derecho a la vida es inviolable. No habr4 pena de muerte.'},\n",
       " {'arahuaco': \"kuma’'pinre'tana, ajwajina kwey zoyasin, enanvydy\",\n",
       "  'esp': 'Articulo 12. Nadie sera sometido a desaparicién forzada, a torturas ni a tratos o penascrueles, inhumanos o degradantes.'},\n",
       " {'arahuaco': \"niwikynanywya neyka, me'zunvkin nari awkwéyniwikununa neykasin, wyéy unchuiungwasi, ka'gwa'sizweingwasi, sakuku nanwn nuga ni.\",\n",
       "  'esp': 'Articulo 13. Todas las personas nacen libres e iguales ante la ley, recibiran la mismaproteccién y trato de las autoridades y gozarén de los mismos derechos, libertades yoportunidades sin ninguna discriminacién por razones de sexo, raza, origen nacional ofamiliar, lengua, religion, opinion politica o filos6fica.'},\n",
       " {'arahuaco': \"Bisinun pinna-junazey zanekw kwuya inuki, Alcaldia, INCORA, ICBF,INCORA, ndnuya neykari Kuma'pinre'tanazey gunti na ni. Eymari re'masiakwey zoyeyka ka'mukari zweingwasi zu'n naman nuga ni. Awiri beki neki ine\",\n",
       "  'esp': 'El Estado promoverd las condiciones para que la igualdad sera real y efectiva y adoptarémedidas en favor de grupos discriminados o marginados.'},\n",
       " {'arahuaco': \"juna kajunen nu'nige'ri, wya re'tasi; zaguré akwey zoyaigund4musi ikweyzweingwasi zu'n, sakuku kuma'pinre'tanazey neykase'ri zaneky nanun nuga ni.\",\n",
       "  'esp': 'El Estado proteger4 especialmente a aquellas personas que por su condicién econémica,ffsica o mental, se encuentren en circunstancia de debilidad manifiesta y sancionaré losabusos o maltratos que contra ellas se cometan.'},\n",
       " {'arahuaco': \"G.ig..z. 3. Akin kwey zorikureyka, bema gwasi uména'zuna nanaya ni. Uyase' ume ka'nisi sakukuagagukuyari, kumu ka'si cho'kumuya ni; akin kweyzorikureykase' re'gukukwéy nanwyari re'guka, nanu'nunnige'ri sakuku cho'kumanase'’ re'gusiza ni; ga‘kuname\",\n",
       "  'esp': 'Articulo 17. Se prohiben la exclavitud, la servidumbre y la trata de seres humanos entodas sus formas.'},\n",
       " {'arahuaco': \"abunna zukutuse' gugdy kawi.\",\n",
       "  'esp': 'Articulo 18. Se garantiza la libertad de conciencia. Nadie ser4 molestado por raz6n de susconvicciones 0 creencias ni compelido a relevarlas ni obligado a actuar contra suconciencia.'},\n",
       " {'arahuaco': 'NA saree eee',\n",
       "  'esp': 'Articulo 19. Se garantiza la libertad de cultos. Toda persona tiene derecho a profesarlibremente su religi6n y a difundirla en forma individual 0 colectiva.'},\n",
       " {'arahuaco': 'Gwam4 guga unchuiiuya —>D rmGwam4 guga unchunuy: .--> Resolucién% ff --> Ordenanzav --> Acuerdo',\n",
       "  'esp': 'Todas la confesiones religiosas e iglesias son igualmente libres ante la ley.'}]"
      ]
     },
     "execution_count": 138,
     "metadata": {},
     "output_type": "execute_result"
    }
   ],
   "source": [
    "corpus_constitucion"
   ]
  },
  {
   "cell_type": "code",
   "execution_count": null,
   "metadata": {},
   "outputs": [],
   "source": []
  }
 ],
 "metadata": {
  "kernelspec": {
   "display_name": "Python 3 (ipykernel)",
   "language": "python",
   "name": "python3"
  },
  "language_info": {
   "codemirror_mode": {
    "name": "ipython",
    "version": 3
   },
   "file_extension": ".py",
   "mimetype": "text/x-python",
   "name": "python",
   "nbconvert_exporter": "python",
   "pygments_lexer": "ipython3",
   "version": "3.10.9"
  }
 },
 "nbformat": 4,
 "nbformat_minor": 4
}
