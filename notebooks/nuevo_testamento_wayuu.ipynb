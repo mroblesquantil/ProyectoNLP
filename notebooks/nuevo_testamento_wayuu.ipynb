{
 "cells": [
  {
   "cell_type": "markdown",
   "metadata": {},
   "source": [
    "# Librerías"
   ]
  },
  {
   "cell_type": "code",
   "execution_count": 88,
   "metadata": {},
   "outputs": [],
   "source": [
    "import re \n",
    "import pickle\n",
    "import numpy as np\n",
    "from glob import glob"
   ]
  },
  {
   "cell_type": "markdown",
   "metadata": {},
   "source": [
    "# Funciones útiles"
   ]
  },
  {
   "cell_type": "code",
   "execution_count": 89,
   "metadata": {},
   "outputs": [],
   "source": [
    "def limpiar_text(text: str)-> str:\n",
    "    text = text.strip()\n",
    "    text = text.replace('(','').replace(')', '')\n",
    "    text = re.sub(r'\\s+', ' ', text)\n",
    "\n",
    "    text = re.sub(r'\\s+[bcd]+\\s+', ' ', text)\n",
    "    text = re.sub(r' a ([A-Z])', r' \\1', text)\n",
    "    return text"
   ]
  },
  {
   "cell_type": "code",
   "execution_count": 90,
   "metadata": {},
   "outputs": [],
   "source": [
    "def partir_versiculos(text: str) -> list:\n",
    "    versiculos = np.array([int(i) for i in re.findall(r'\\n(\\d+)', text)])\n",
    "    versiculos = range(1, np.max(versiculos)+1)\n",
    "\n",
    "    versiculos_idioma = []\n",
    "\n",
    "    for i in versiculos[:-1]:\n",
    "        if i ==  versiculos[-1]:\n",
    "            ver = '\\n '.join(text.split('\\n' + str(i))[1:])\n",
    "        else:\n",
    "            ver = '\\n '.join(text.split('\\n' + str(i))[1:])\n",
    "            ver = ver.split('\\n' + str(i+1))[0]\n",
    "    \n",
    "        ver = limpiar_text(ver)\n",
    "        versiculos_idioma.append(ver)\n",
    "    \n",
    "    return versiculos_idioma"
   ]
  },
  {
   "cell_type": "code",
   "execution_count": 91,
   "metadata": {},
   "outputs": [],
   "source": [
    "def clean_raw_text(text):\n",
    "    text = re.sub(r'\\n (\\d+)', r'\\n\\1', text)\n",
    "    return text "
   ]
  },
  {
   "cell_type": "markdown",
   "metadata": {},
   "source": [
    "# Limpieza de los versículos que están juntos"
   ]
  },
  {
   "cell_type": "code",
   "execution_count": 92,
   "metadata": {},
   "outputs": [],
   "source": [
    "lista = [\n",
    "    ('MAT', 28, 'Mateo'),\n",
    "    ('MRK', 16, 'Marcos'),\n",
    "    ('LUK', 24, 'Lucas'),\n",
    "    ('JHN', 21, 'Juan'),\n",
    "    ('ACT', 28, 'Hechos de los apostoles'),\n",
    "    ('ROM', 16,'Roma'),\n",
    "    ('1CO', 16, 'Corintio'),\n",
    "    ('2CO', 13, 'Corintio2'),\n",
    "    ('GAL', 6, 'Galacia'),\n",
    "    ('EPH', 6, 'Efeso'),\n",
    "    ('PHP', 4, 'Filipos'),\n",
    "    ('COL', 4, 'Colosa'),\n",
    "    ('1TH', 5, 'Tesalonica'),\n",
    "    ('2TH', 3, '2Tesalonica'),\n",
    "    ('1TI', 6, 'Timoteo'),\n",
    "    ('2TI', 4, '2Timoteo'),\n",
    "    ('TIT', 3, 'Tito'),\n",
    "    ('PHM', 1, 'Filemon'),\n",
    "    ('HEB', 13, 'Hebreokana'),\n",
    "    ('JAS', 5, 'Santiago'),\n",
    "    ('1PE', 5, 'Pedro'),\n",
    "    ('2PE', 3, '2Pedro'),\n",
    "    ('1JN', 5, '1 Juan'),\n",
    "    ('2JN', 1, '2 Juan'),\n",
    "    ('3JN', 1, '3 Juan'),\n",
    "    ('JUD', 1, 'Judas'),\n",
    "    ('REV', 22, 'Apocalipsis')\n",
    "]"
   ]
  },
  {
   "cell_type": "code",
   "execution_count": 93,
   "metadata": {},
   "outputs": [],
   "source": [
    " # Buscamos los versículos que es Wayuu están pegados de la forma 1-5\n",
    "# Esto quiere decir que deben juntar todos en un solo versículo (1)\n",
    "# Y en el correspondiente de español se deben \n",
    "\n",
    "sobre_escribir = {}\n",
    "\n",
    "for cod, num, folder in lista:\n",
    "    traduccion = []\n",
    "    for i in range(1,num+1):\n",
    "        path = f'../data/biblia/{folder}/'\n",
    "\n",
    "        with open(path + f'{cod} {i} - esp.txt', 'r') as f:\n",
    "            esp = ''.join(f.readlines())\n",
    "        with open(path + f'{cod} {i} - wayuu.txt', 'r') as f:\n",
    "            wayuu = ''.join(f.readlines())\n",
    "\n",
    "        patron = r'\\n(\\d+)-\\n(\\d+)'\n",
    "        coincidencias_wayuu = re.findall(patron, wayuu)\n",
    "\n",
    "        if coincidencias_wayuu:\n",
    "            for coincidencia in coincidencias_wayuu:\n",
    "                numero1, numero2 = coincidencia\n",
    "                # Reemplazar la coincidencia por el primer número\n",
    "                wayuu = wayuu.replace(f\"{numero1}-\\n{numero2}\", str(numero1), 1)\n",
    "\n",
    "                for j in range(int(numero1) + 1, int(numero2)+1):\n",
    "                    esp = esp.replace(str(j), \"\", 1)\n",
    "\n",
    "            sobre_escribir[path + f'{cod} {i} - esp.txt'] = esp\n",
    "            sobre_escribir[path + f'{cod} {i} - wayuu.txt'] =  wayuu"
   ]
  },
  {
   "cell_type": "code",
   "execution_count": 94,
   "metadata": {},
   "outputs": [],
   "source": [
    "for k, v in sobre_escribir.items():\n",
    "    with open(k, 'w') as f:\n",
    "        f.write(v)"
   ]
  },
  {
   "cell_type": "markdown",
   "metadata": {},
   "source": [
    "# Hacer merge entre español y wayuu"
   ]
  },
  {
   "cell_type": "markdown",
   "metadata": {},
   "source": [
    "Para los que aparecen errores (no coincide el número de versículos se revisa a mano)"
   ]
  },
  {
   "cell_type": "code",
   "execution_count": 95,
   "metadata": {},
   "outputs": [],
   "source": [
    "borrar = [\n",
    "    ('../data/biblia/Mateo/MAT 6 - esp.txt', '42 y par.; Is'),\n",
    "    ('../data/biblia/Mateo/MAT 28 - esp.txt','19 y par.; Lc'),\n",
    "    ('../data/biblia/Mateo/MAT 28 - esp.txt','48; etc.; Rm'),\n",
    "    ('../data/biblia/Lucas/LUK 5 - esp.txt','36 y par.; Mc'),\n",
    "    ('../data/biblia/Lucas/LUK 5 - esp.txt','46.Curación de un paralítico'),\n",
    "    ('../data/biblia/Lucas/LUK 19 - esp.txt','55 y par.; Jn'),\n",
    "    ('../data/biblia/Lucas/LUK 19 - esp.txt','55 y par.; Jn'),\n",
    "    ('../data/biblia/Juan/JHN 13 - esp.txt', '45 y par.; Rm'),\n",
    "    ('../data/biblia/Juan/JHN 13 - esp.txt', '45 y par.; Rm'),\n",
    "    ('../data/biblia/Juan/JHN 21 - esp.txt', '24.Jesús y Pedro'),\n",
    "    ('../data/biblia/Juan/JHN 21 - esp.txt', '75 y par.; Hch'),\n",
    "    ('../data/biblia/Hechos de los apostoles/ACT 1 - esp.txt', '33.La ascensión de Jesús'),\n",
    "    ('../data/biblia/Hechos de los apostoles/ACT 1 - esp.txt', '64 y par.; Mc'),\n",
    "    ('../data/biblia/Hechos de los apostoles/ACT 1 - esp.txt', '7.Elección del sucesor de Judas'),\n",
    "    ('../data/biblia/Hechos de los apostoles/ACT 13 - esp.txt', '11 y par.; Jn'),\n",
    "    ('../data/biblia/Hechos de los apostoles/ACT 13 - esp.txt', '60 y par.; Lc'),\n",
    "    ('../data/biblia/Hechos de los apostoles/ACT 24 - esp.txt', '30.Pablo continúa en prisión'),\n",
    "    ('../data/biblia/Apocalipsis/REV 1 - esp.txt', '22.Visión de Cristo glorioso'),\n",
    "    ('../data/biblia/Apocalipsis/REV 22 - esp.txt', '25.Epílogo Estoy a punto de llegar'),\n",
    "]"
   ]
  },
  {
   "cell_type": "code",
   "execution_count": 96,
   "metadata": {},
   "outputs": [],
   "source": [
    "for path, borr in borrar:\n",
    "    with open(path, 'r') as f:\n",
    "        esp = ''.join(f.readlines())\n",
    "    esp = esp.replace(borr, '')\n",
    "\n",
    "    with open(path, 'w') as f:\n",
    "        f.write(esp)"
   ]
  },
  {
   "cell_type": "code",
   "execution_count": 97,
   "metadata": {},
   "outputs": [],
   "source": [
    "filas_borrar = [\n",
    "    ('../data/biblia/Corintio2/2CO 13 - esp.txt', [\"13\", \"14\"]),\n",
    "    ('../data/biblia/Corintio2/2CO 13 - wayuu.txt', [\"13\", \"14\"]),\n",
    "    ('../data/biblia/Hechos de los apostoles/ACT 19 - esp.txt', [\"40\", \"41\"]),\n",
    "    ('../data/biblia/Hechos de los apostoles/ACT 19 - wayuu.txt', [\"40\", \"41\"]),\n",
    "]"
   ]
  },
  {
   "cell_type": "code",
   "execution_count": 98,
   "metadata": {},
   "outputs": [],
   "source": [
    "for path, list_init in filas_borrar:\n",
    "    with open(path, 'r') as f:\n",
    "        esp = f.readlines()\n",
    "        \n",
    "    esp = ''.join([l for l in esp if not l.strip().startswith(list_init[0]) and not l.startswith(list_init[1]) ])\n",
    "\n",
    "    with open(path, 'w') as f:\n",
    "        f.write(esp)"
   ]
  },
  {
   "cell_type": "code",
   "execution_count": 99,
   "metadata": {},
   "outputs": [],
   "source": [
    "for cod, num, folder in lista:\n",
    "    traduccion = []\n",
    "    for i in range(1,num+1):\n",
    "        path = f'../data/biblia/{folder}/'\n",
    "\n",
    "        with open(path + f'{cod} {i} - esp.txt', 'r') as f:\n",
    "            esp = ''.join(f.readlines())\n",
    "        with open(path + f'{cod} {i} - wayuu.txt', 'r') as f:\n",
    "            wayuu = ''.join(f.readlines())\n",
    "\n",
    "        wayuu = clean_raw_text(wayuu)\n",
    "        esp = clean_raw_text(esp)\n",
    "\n",
    "        wayuu = partir_versiculos(wayuu)\n",
    "        esp = partir_versiculos(esp)\n",
    "\n",
    "        if len(wayuu) == len(esp):\n",
    "            for w, e in zip(wayuu, esp): \n",
    "                traduccion.append({'wayuu': w, 'esp': e})\n",
    "        else:\n",
    "            print(f'Revisar cap {i} de {cod}',  len(wayuu), len(esp))\n",
    "\n",
    "    with open(path + 'results.pickle', 'wb') as f:\n",
    "        pickle.dump(traduccion, f)"
   ]
  },
  {
   "cell_type": "markdown",
   "metadata": {},
   "source": [
    "# Revisión y limpieza de traducciones"
   ]
  },
  {
   "cell_type": "code",
   "execution_count": null,
   "metadata": {},
   "outputs": [],
   "source": []
  }
 ],
 "metadata": {
  "kernelspec": {
   "display_name": "env_bid_ja",
   "language": "python",
   "name": "python3"
  },
  "language_info": {
   "codemirror_mode": {
    "name": "ipython",
    "version": 3
   },
   "file_extension": ".py",
   "mimetype": "text/x-python",
   "name": "python",
   "nbconvert_exporter": "python",
   "pygments_lexer": "ipython3",
   "version": "3.10.4"
  }
 },
 "nbformat": 4,
 "nbformat_minor": 2
}
