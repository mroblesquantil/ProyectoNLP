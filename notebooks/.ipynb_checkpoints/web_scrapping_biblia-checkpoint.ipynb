{
 "cells": [
  {
   "cell_type": "code",
   "execution_count": 43,
   "id": "75ab0878-d61f-404c-bb4d-7217279bca28",
   "metadata": {},
   "outputs": [],
   "source": [
    "from selenium import webdriver\n",
    "from selenium.webdriver.common.keys import Keys\n",
    "from selenium.webdriver.common.by import By\n",
    "import pandas as pd\n",
    "import re\n",
    "import requests\n",
    "from bs4 import BeautifulSoup"
   ]
  },
  {
   "cell_type": "markdown",
   "id": "222bfee5-3b77-43a2-99b4-7e3eae27d8ba",
   "metadata": {},
   "source": [
    "# Codigo"
   ]
  },
  {
   "cell_type": "code",
   "execution_count": 67,
   "id": "3f1a1475-31d8-4202-9f3e-1f0b8f353e80",
   "metadata": {},
   "outputs": [],
   "source": [
    "url='https://media.ipsapps.org/arh/osa/bible/01-GEN-001.html'\n",
    "page = requests.get(url)\n",
    "soup = BeautifulSoup(page.content, 'html.parser')"
   ]
  },
  {
   "cell_type": "code",
   "execution_count": 68,
   "id": "84c50732-a4c7-45cd-bd33-5e2c574ba103",
   "metadata": {},
   "outputs": [],
   "source": [
    "sig_pag = soup.find('a', {'title': 'Next Chapter'}).get('href')\n",
    "if sig_pag == \"\":\n",
    "    i = False"
   ]
  },
  {
   "cell_type": "code",
   "execution_count": 71,
   "id": "4c174e12-3e78-42b6-993e-aabee014c3ba",
   "metadata": {},
   "outputs": [
    {
     "data": {
      "text/plain": [
       "'https://media.ipsapps.org/arh/osa/bible/01-GEN-002.html'"
      ]
     },
     "execution_count": 71,
     "metadata": {},
     "output_type": "execute_result"
    }
   ],
   "source": [
    "url='https://media.ipsapps.org/arh/osa/bible/' + sig_pag\n",
    "url"
   ]
  },
  {
   "cell_type": "code",
   "execution_count": 65,
   "id": "8c0a130c-bb9f-4e28-b15b-0a0c9f7c1367",
   "metadata": {},
   "outputs": [],
   "source": [
    "url = \"https://media.ipsapps.org/arh/osa/bible/64-3JN-001.html\"\n",
    "page = requests.get(url)\n",
    "soup = BeautifulSoup(page.content, 'html.parser')"
   ]
  },
  {
   "cell_type": "code",
   "execution_count": 66,
   "id": "c93f091e-8ab6-4529-9630-13f6ff07b880",
   "metadata": {},
   "outputs": [
    {
     "data": {
      "text/plain": [
       "''"
      ]
     },
     "execution_count": 66,
     "metadata": {},
     "output_type": "execute_result"
    }
   ],
   "source": [
    "soup.find('a', {'title': 'Next Chapter'}).get('href')"
   ]
  },
  {
   "cell_type": "code",
   "execution_count": null,
   "id": "b6529a5a-202e-43fa-94a9-c0c7a69bd981",
   "metadata": {},
   "outputs": [],
   "source": [
    "<div class=\"navigation-top\">\n",
    "  <span class=\"button\"><a href=\"\" title=\"Previous Book\">&nbsp;&lt;&lt;&nbsp;</a></span>\n",
    "  <span class=\"button\"><a href=\"\" title=\"Previous Chapter\">&nbsp;&nbsp;&lt;&nbsp;&nbsp;</a></span>\n",
    "  <span id=\"book-selector\"><a href=\"#\" onclick=\"toggleBookMenu(); return false;\">&nbsp;&nbsp;Génesi&nbsp;&nbsp;</a></span>\n",
    "<span id=\"chapter-selector\"><a href=\"#\" onclick=\"toggleChapterMenu(chapters, hasIntro, baseRef); return false;\">&nbsp;&nbsp;1&nbsp;&nbsp;</a></span>\n",
    "  <span class=\"button\"><a href=\"01-GEN-002.html\" title=\"Next Chapter\">&nbsp;&nbsp;&gt;&nbsp;&nbsp;</a></span>\n",
    "  <span class=\"button\"><a href=\"08-RUT-000.html\" title=\"Next Book\">&nbsp;&gt;&gt;&nbsp;</a></span>\n",
    "</div>"
   ]
  },
  {
   "cell_type": "code",
   "execution_count": 56,
   "id": "f78afbaf-34f0-40c8-a511-80905b44cb12",
   "metadata": {},
   "outputs": [
    {
     "name": "stdout",
     "output_type": "stream",
     "text": [
      "El valor del atributo \"href\" es: \n"
     ]
    }
   ],
   "source": [
    "# Busca el elemento <span> con la clase \"button\"\n",
    "span_element = soup.find('span', class_='button')\n",
    "\n",
    "# Verifica si se encontró el elemento\n",
    "if span_element:\n",
    "    # Busca el enlace <a> dentro del elemento <span>\n",
    "    link_element = span_element.find('a')\n",
    "\n",
    "    # Verifica si se encontró el enlace\n",
    "    if link_element:\n",
    "        # Accede al valor del atributo \"href\" del enlace\n",
    "        href_value = link_element.get('href')\n",
    "        print(f'El valor del atributo \"href\" es: {href_value}')\n",
    "    else:\n",
    "        print('No se encontró un enlace dentro del elemento <span>.')\n",
    "else:\n",
    "    print('No se encontró un elemento <span> con la clase \"button\".')"
   ]
  },
  {
   "cell_type": "code",
   "execution_count": 62,
   "id": "39571777-027c-48eb-a209-7e666273d666",
   "metadata": {},
   "outputs": [
    {
     "data": {
      "text/plain": [
       "[<span class=\"button\"><a href=\"\" title=\"Previous Book\"> &lt;&lt; </a></span>,\n",
       " <span class=\"button\"><a href=\"\" title=\"Previous Chapter\">  &lt;  </a></span>,\n",
       " <span class=\"button\"><a href=\"01-GEN-002.html\" title=\"Next Chapter\">  &gt;  </a></span>,\n",
       " <span class=\"button\"><a href=\"08-RUT-000.html\" title=\"Next Book\"> &gt;&gt; </a></span>]"
      ]
     },
     "execution_count": 62,
     "metadata": {},
     "output_type": "execute_result"
    }
   ],
   "source": [
    "soup.find_all('span', class_='button')"
   ]
  },
  {
   "cell_type": "code",
   "execution_count": 61,
   "id": "b6378852-5884-4f56-8aec-87d0348e1113",
   "metadata": {},
   "outputs": [
    {
     "ename": "AttributeError",
     "evalue": "ResultSet object has no attribute 'find'. You're probably treating a list of elements like a single element. Did you call find_all() when you meant to call find()?",
     "output_type": "error",
     "traceback": [
      "\u001b[0;31m---------------------------------------------------------------------------\u001b[0m",
      "\u001b[0;31mAttributeError\u001b[0m                            Traceback (most recent call last)",
      "Cell \u001b[0;32mIn[61], line 1\u001b[0m\n\u001b[0;32m----> 1\u001b[0m \u001b[43msoup\u001b[49m\u001b[38;5;241;43m.\u001b[39;49m\u001b[43mfind_all\u001b[49m\u001b[43m(\u001b[49m\u001b[38;5;124;43m'\u001b[39;49m\u001b[38;5;124;43mspan\u001b[39;49m\u001b[38;5;124;43m'\u001b[39;49m\u001b[43m,\u001b[49m\u001b[43m \u001b[49m\u001b[43mclass_\u001b[49m\u001b[38;5;241;43m=\u001b[39;49m\u001b[38;5;124;43m'\u001b[39;49m\u001b[38;5;124;43mbutton\u001b[39;49m\u001b[38;5;124;43m'\u001b[39;49m\u001b[43m)\u001b[49m\u001b[38;5;241;43m.\u001b[39;49m\u001b[43mfind\u001b[49m(\u001b[38;5;124m\"\u001b[39m\u001b[38;5;124ma\u001b[39m\u001b[38;5;124m\"\u001b[39m, {\u001b[38;5;124m'\u001b[39m\u001b[38;5;124mtitle\u001b[39m\u001b[38;5;124m'\u001b[39m: \u001b[38;5;124m'\u001b[39m\u001b[38;5;124mNext Chapter\u001b[39m\u001b[38;5;124m'\u001b[39m})\n",
      "File \u001b[0;32m~/anaconda3/lib/python3.10/site-packages/bs4/element.py:2289\u001b[0m, in \u001b[0;36mResultSet.__getattr__\u001b[0;34m(self, key)\u001b[0m\n\u001b[1;32m   2287\u001b[0m \u001b[38;5;28;01mdef\u001b[39;00m \u001b[38;5;21m__getattr__\u001b[39m(\u001b[38;5;28mself\u001b[39m, key):\n\u001b[1;32m   2288\u001b[0m     \u001b[38;5;124;03m\"\"\"Raise a helpful exception to explain a common code fix.\"\"\"\u001b[39;00m\n\u001b[0;32m-> 2289\u001b[0m     \u001b[38;5;28;01mraise\u001b[39;00m \u001b[38;5;167;01mAttributeError\u001b[39;00m(\n\u001b[1;32m   2290\u001b[0m         \u001b[38;5;124m\"\u001b[39m\u001b[38;5;124mResultSet object has no attribute \u001b[39m\u001b[38;5;124m'\u001b[39m\u001b[38;5;132;01m%s\u001b[39;00m\u001b[38;5;124m'\u001b[39m\u001b[38;5;124m. You\u001b[39m\u001b[38;5;124m'\u001b[39m\u001b[38;5;124mre probably treating a list of elements like a single element. Did you call find_all() when you meant to call find()?\u001b[39m\u001b[38;5;124m\"\u001b[39m \u001b[38;5;241m%\u001b[39m key\n\u001b[1;32m   2291\u001b[0m     )\n",
      "\u001b[0;31mAttributeError\u001b[0m: ResultSet object has no attribute 'find'. You're probably treating a list of elements like a single element. Did you call find_all() when you meant to call find()?"
     ]
    }
   ],
   "source": [
    "soup.find_all('span', class_='button').find(\"a\", {'title': 'Next Chapter'})"
   ]
  },
  {
   "cell_type": "code",
   "execution_count": 55,
   "id": "9ae89b58-6be0-49ec-b268-14139b9c57f6",
   "metadata": {},
   "outputs": [
    {
     "ename": "SyntaxError",
     "evalue": "invalid syntax (1643720108.py, line 1)",
     "output_type": "error",
     "traceback": [
      "\u001b[0;36m  Cell \u001b[0;32mIn[55], line 1\u001b[0;36m\u001b[0m\n\u001b[0;31m    soup.find('span', class='button')\u001b[0m\n\u001b[0m                      ^\u001b[0m\n\u001b[0;31mSyntaxError\u001b[0m\u001b[0;31m:\u001b[0m invalid syntax\n"
     ]
    }
   ],
   "source": [
    "soup.find('span', class='button')"
   ]
  },
  {
   "cell_type": "code",
   "execution_count": 53,
   "id": "2fa850e3-ebe5-4e40-8158-2040faf8372e",
   "metadata": {},
   "outputs": [],
   "source": [
    "content_div = soup.find('div', id='content')"
   ]
  },
  {
   "cell_type": "code",
   "execution_count": 54,
   "id": "f2f37cca-3463-47ef-be74-8446a21261ef",
   "metadata": {
    "collapsed": true,
    "jupyter": {
     "outputs_hidden": true
    },
    "tags": []
   },
   "outputs": [
    {
     "name": "stdout",
     "output_type": "stream",
     "text": [
      "<div id=\"content\">\n",
      "<div class=\"mt\"><span class=\"mt\">GÉNESI</span></div>\n",
      "<div class=\"b\"></div>\n",
      "<div class=\"b\"></div>\n",
      "<div class=\"s\"><div class=\"txs\" id=\"Ts1\">Kʉtʉkʉnʉn yow inʉ a'bunna wasʉya</div></div><a id=\"v1\"></a>\n",
      "<div class=\"m\">\n",
      "<div class=\"c-drop\">1</div> <div class=\"txs\" id=\"T1\"><span class=\"v\">1</span><span class=\"vsp\"> </span>Kʉtʉkʉnʉn keywʉ Niwipaw<span class=\"footnote selectable\" id=\"F-0\"><sup>a</sup></span> inʉ a'gowye'ri ku'nawa awiri ka'gʉmʉ keywʉ gowna.</div><span id=\"bookmarks1\"></span> <a id=\"v2\"></a><div class=\"txs\" id=\"T2a\"><span class=\"v\">2</span><span class=\"vsp\"> </span>Ka'gʉmʉri azi kawin awanʉkwey neki ka' ú nariri;</div> <div class=\"txs\" id=\"T2b\">ɉe aykʉnʉ zʉn zari keywʉri twí zʉn zʉnna,</div> <div class=\"txs\" id=\"T2c\">ey uye'ki Niwipaw zʉn Anugweri ɉese idʉmanʉn nu'na.</div><span id=\"bookmarks2\"></span></div><span id=\"bookmarks2\"></span><a id=\"v3\"></a>\n",
      "<div class=\"p\"><div class=\"txs\" id=\"T3a\"><span class=\"v\">3</span><span class=\"vsp\"> </span>Ey uye' nʉngwa Niwipaw keywʉ ie'ri:</div> <div class=\"txs\" id=\"T3b\">—“¡Bunsi zʉna chwizanika ú!”</div> <div class=\"txs\" id=\"T3c\">ie'ri,</div> <div class=\"txs\" id=\"T3d\">ayey keywʉ zani'na.</div><span id=\"bookmarks3\"></span></div><span id=\"bookmarks3\"></span><a id=\"v4\"></a>\n",
      "<div class=\"p\"><div class=\"txs\" id=\"T4a\"><span class=\"v\">4</span><span class=\"vsp\"> </span>Ey awi Niwipawri bunsi zʉnari du zʉnin gun a'zare'ri,</div> <div class=\"txs\" id=\"T4b\">twí zʉna'ba pari aykʉnʉ ʉnde'gawi nʉngwa,</div><span id=\"bookmarks4\"></span> <a id=\"v5\"></a><div class=\"txs\" id=\"T5a\"><span class=\"v\">5</span><span class=\"vsp\"> </span>Niwipawse'ri bunsi zʉnari “ɉwía” iwa twí zʉnari “seia” ɉwa kʉsana,</div> <div class=\"txs\" id=\"T5b\">ey awi twí ʉnzanisi bunsi ʉnchare'ri i'ɉwia keywʉ ʉnzʉnna.</div><span id=\"bookmarks5\"></span></div><span id=\"bookmarks5\"></span><a id=\"v6\"></a>\n",
      "<div class=\"p\"><div class=\"txs\" id=\"T6a\"><span class=\"v\">6</span><span class=\"vsp\"> </span>Ey awi Niwipaw keywʉ eygwi ie'ri:</div> <div class=\"txs\" id=\"T6b\">—“Ɉe dikin re'basʉngwa inʉ chwizanika ú” ie'ri ayey keywʉ zani'na.</div><span id=\"bookmarks6\"></span></div><span id=\"bookmarks6\"></span><a id=\"v7\"></a>\n",
      "<div class=\"p\"><div class=\"txs\" id=\"T7a\"><span class=\"v\">7</span><span class=\"vsp\"> </span>Ey anawi Niwipawri ɉe dikin re'basʉngwa inʉ gow uye'ri,</div> <div class=\"txs\" id=\"T7b\">ɉe ʉnde'basánari dikin azuray ʉnde'gow awiri iwa i'ngweygwi dikin ʉwa'rey ʉnde'gawiri.</div><span id=\"bookmarks7\"></span> <a id=\"v8\"></a><div class=\"txs\" id=\"T8a\"><span class=\"v\">8</span><span class=\"vsp\"> </span>Eyma gownari “ku'nawa” ɉwakwasana,</div> <div class=\"txs\" id=\"T8b\">ey anawi twí ʉnzanisi bunsi ʉnchare'ri mowga ɉwín keywʉ ʉnzʉnna.</div><span id=\"bookmarks8\"></span></div><span id=\"bookmarks8\"></span><a id=\"v9\"></a>\n",
      "<div class=\"p\"><div class=\"txs\" id=\"T9a\"><span class=\"v\">9</span><span class=\"vsp\"> </span>Ey anawi nʉngwa Niwipaw keywʉ eygwi ie'ri:</div> <div class=\"txs\" id=\"T9b\">—“Ɉe ku'nawa wa'rey nánʉn nugeykari i'ba'kin ʉnni'kumow,</div> <div class=\"txs\" id=\"T9c\">ey unige'ri ɉomʉ zʉna chwizanikʉngwasi” ie'ri,</div> <div class=\"txs\" id=\"T9d\">ayey zani'na.</div><span id=\"bookmarks9\"></span></div><span id=\"bookmarks9\"></span><a id=\"v10\"></a>\n",
      "<div class=\"p\"><div class=\"txs\" id=\"T10a\"><span class=\"v\">10</span><span class=\"vsp\"> </span>Ɉomʉriwa chwizani'nari Niwipawse'ri “ka'gʉmʉ” ɉwa kʉsana,</div> <div class=\"txs\" id=\"T10b\">iwa i'ba'kin ɉe ʉnni'kumanari “ɉiwʉ” ɉwa kʉsana,</div> <div class=\"txs\" id=\"T10c\">ey uye'ri Niwipawse'ri du zʉnin a'zari chwana.</div><span id=\"bookmarks10\"></span></div><span id=\"bookmarks10\"></span><a id=\"v11\"></a>\n",
      "<div class=\"p\"><div class=\"txs\" id=\"T11a\"><span class=\"v\">11</span><span class=\"vsp\"> </span>Ey awi Niwipaw keywʉ eygwi ie'ri:</div> <div class=\"txs\" id=\"T11b\">—“Ka'se' pari kʉn pinna ɉuna imʉga,</div> <div class=\"txs\" id=\"T11c\">awiri zaɉuna winʉkʉnari uwa a'nika ú” ie'ri,</div> <div class=\"txs\" id=\"T11d\">ayey zani'na.</div><span id=\"bookmarks11\"></span></div><span id=\"bookmarks11\"></span><a id=\"v12\"></a>\n",
      "<div class=\"p\"><div class=\"txs\" id=\"T12a\"><span class=\"v\">12</span><span class=\"vsp\"> </span>Ey uye' nʉngwa ka'se' pariri kʉn pinna ɉuna,</div> <div class=\"txs\" id=\"T12b\">ʉwa a'seynʉya,</div> <div class=\"txs\" id=\"T12c\">makʉya,</div> <div class=\"txs\" id=\"T12d\">a'nikʉya,</div> <div class=\"txs\" id=\"T12e\">awiri zaɉuna winʉkʉnari ʉwa bonʉnpariri,</div> <div class=\"txs\" id=\"T12f\">i'ngweti enʉnay kawi keywʉ chwizanikʉnpʉnna.</div> <div class=\"txs\" id=\"T12g\">Ey uye' nʉngwari Niwipawse'ri du zʉnin keywʉ a'zari chwana.</div><span id=\"bookmarks12\"></span> <a id=\"v13\"></a><div class=\"txs\" id=\"T13\"><span class=\"v\">13</span><span class=\"vsp\"> </span>Ey awi twí ʉnzanisi bunsi ʉnchare'ri máykʉnʉ ɉwín keywʉ ʉnzʉnna.</div><span id=\"bookmarks13\"></span></div><span id=\"bookmarks13\"></span><a id=\"v14\"></a>\n",
      "<div class=\"p\"><div class=\"txs\" id=\"T14-15a\"><span class=\"v\">14-15</span><span class=\"vsp\"> </span>Ey anawi Niwipaw keywʉ eygwi ie'ri:</div> <div class=\"txs\" id=\"T14-15b\">—“Ku'nawari inʉ bunsi wa'kʉya chwizanika ú,</div> <div class=\"txs\" id=\"T14-15c\">awi ka'se' wa'kanige'ri,</div> <div class=\"txs\" id=\"T14-15d\">ɉwia'ri ɉwía kinki iwa seia'ri seia kinki zanʉngwasi,</div> <div class=\"txs\" id=\"T14-15e\">awi keywʉri tima,</div> <div class=\"txs\" id=\"T14-15f\">kʉgi',</div> <div class=\"txs\" id=\"T14-15g\">ɉewʉ ɉwín,</div> <div class=\"txs\" id=\"T14-15h\">awiri tikíba ʉntakumʉya nenʉn ɉwa'sʉkwey nisi zweingwasi ie'ri” ayey zani'na.</div><span id=\"bookmarks14-15\"></span></div><span id=\"bookmarks14-15\"></span><a id=\"v16\"></a>\n",
      "<div class=\"p\"><div class=\"txs\" id=\"T16a\"><span class=\"v\">16</span><span class=\"vsp\"> </span>Niwipawri mowga inʉ bunsi wa'kʉya gowna:</div> <div class=\"txs\" id=\"T16b\">Umʉn kawari ɉwía wa'kʉngwasi,</div> <div class=\"txs\" id=\"T16c\">iwa awʉ' kawari seia wa'kʉngwasi.</div> <div class=\"txs\" id=\"T16d\">Ʉya'ba'gwíri wirako'ku gow gwi una.</div><span id=\"bookmarks16\"></span> <a id=\"v17\"></a><div class=\"txs\" id=\"T17\"><span class=\"v\">17</span><span class=\"vsp\"> </span>Ema ɉinari ku'nawa pari ka'gʉmʉse' wakʉngwasi Niwipawse'ri kwasana.</div><span id=\"bookmarks17\"></span> <a id=\"v18\"></a><div class=\"txs\" id=\"T18a\"><span class=\"v\">18</span><span class=\"vsp\"> </span>I'ngwiri ɉwía iwa i'ngweygwiri seia re'gukʉn nukʉngwasi gowna,</div> <div class=\"txs\" id=\"T18b\">bunsi zʉnari twí zʉna'ba pari aykʉnʉ ʉnde'gow una.</div> <div class=\"txs\" id=\"T18c\">Eymí anuye'ri Niwipawse'ri dukʉchʉ kawin a'zari chwana.</div><span id=\"bookmarks18\"></span> <a id=\"v19\"></a><div class=\"txs\" id=\"T19\"><span class=\"v\">19</span><span class=\"vsp\"> </span>Eymí anawi gunti twí ʉnzanisi bunsi ʉnchare'ri ma'keywa ɉwín keywʉ ʉnzʉnna.</div><span id=\"bookmarks19\"></span></div><span id=\"bookmarks19\"></span><a id=\"v20\"></a>\n",
      "<div class=\"p\"><div class=\"txs\" id=\"T20a\"><span class=\"v\">20</span><span class=\"vsp\"> </span>Ey awi Niwipaw keywʉ eygwi ie'ri:</div> <div class=\"txs\" id=\"T20b\">—“Ɉese zanʉ ana'nuga pinna ɉuna sʉmʉ re'nikow.</div> <div class=\"txs\" id=\"T20c\">Na'ba sisio warin durúnuya ɉina sʉmʉ re'nika ú”.</div><span id=\"bookmarks20\"></span></div><span id=\"bookmarks20\"></span><a id=\"v21\"></a>\n",
      "<div class=\"p\"><div class=\"txs\" id=\"T21\"><span class=\"v\">21</span><span class=\"vsp\"> </span>Ey awi Niwipawri ɉiwʉse' pari ana'nuga awʉnte' kawa gawiri pinna ɉuna ɉese kukwey nánʉya awi pinna ɉuna sisio warin durúnuya gowye'ri dukʉchʉ kawin a'zʉnna.</div><span id=\"bookmarks21\"></span></div><span id=\"bookmarks21\"></span><a id=\"v22\"></a>\n",
      "<div class=\"p\"><div class=\"txs\" id=\"T22a\"><span class=\"v\">22</span><span class=\"vsp\"> </span>Ey anawi Niwipawse' ga'kʉnamʉ duna<span class=\"footnote selectable\" id=\"F-1\"><sup>b</sup></span> a'wesi eymí gwasi waseyna:</div> <div class=\"txs\" id=\"T22b\">—“Ana'nuga ɉese kʉnari awʉngwa awiri sisio ɉina sʉmʉ ka'gʉmʉse' re'nika awʉngwa ni” yana.</div><span id=\"bookmarks22\"></span></div><span id=\"bookmarks22\"></span><a id=\"v23\"></a>\n",
      "<div class=\"p\"><div class=\"txs\" id=\"T23\"><span class=\"v\">23</span><span class=\"vsp\"> </span>Eymí anuye'ri twí ʉnzanisi bunsi ʉnchare'ri asewa ɉwía keywʉ ʉnzʉnna.</div><span id=\"bookmarks23\"></span></div><span id=\"bookmarks23\"></span><a id=\"v24\"></a>\n",
      "<div class=\"p\"><div class=\"txs\" id=\"T24a\"><span class=\"v\">24</span><span class=\"vsp\"> </span>Ey awi Niwipaw keywʉ eygwi ie'ri:</div> <div class=\"txs\" id=\"T24b\">—“Ka'se' pari ana'nuga pinna ɉuna chwizanika ú,</div> <div class=\"txs\" id=\"T24c\">ana'nuga ikʉsin ʉnkʉnari awʉngwa ana'nuga kʉnkʉnʉsin ʉnkʉnari awʉngwa,</div> <div class=\"txs\" id=\"T24d\">ka'se' kʉnari awʉngwa,</div> <div class=\"txs\" id=\"T24e\">ka'se' wʉreri nʉya ɉinasin awiri brú nekʉkin” ie'ri ayey zani'na.</div><span id=\"bookmarks24\"></span></div><span id=\"bookmarks24\"></span><a id=\"v25\"></a>\n",
      "<div class=\"p\"><div class=\"txs\" id=\"T25\"><span class=\"v\">25</span><span class=\"vsp\"> </span>Ey anawi Niwipawri pinna ɉuna ana'nuga ʉngawi ʉnchwizʉnhasie'ri du kawin a'zari chwana.</div><span id=\"bookmarks25\"></span></div><span id=\"bookmarks25\"></span><a id=\"v26\"></a>\n",
      "<div class=\"p\"><div class=\"txs\" id=\"T26a\"><span class=\"v\">26</span><span class=\"vsp\"> </span>Ey anuye' nʉngwa Niwipaw keywʉ eygwi ie'ri:</div> <div class=\"txs\" id=\"T26b\">—“Iwari ikʉ niwi zana kawa gow ukura,</div> <div class=\"txs\" id=\"T26c\">wakʉ pinna ɉuna ɉese kʉnʉna,</div> <div class=\"txs\" id=\"T26d\">sisio warin durúnuya ɉina,</div> <div class=\"txs\" id=\"T26e\">ikʉsin ʉnkʉnari awʉngwa,</div> <div class=\"txs\" id=\"T26f\">kʉnkʉnʉsin ʉnkʉnari awʉngwa,</div> <div class=\"txs\" id=\"T26g\">ka'se' kʉnari awʉngwa,</div> <div class=\"txs\" id=\"T26h\">ka'se' wʉreri nʉya ɉina awiri brú nekʉkin kʉre'gukʉngwa nari gow ukura” yana.</div><span id=\"bookmarks26\"></span></div><span id=\"bookmarks26\"></span><a id=\"v27\"></a>\n",
      "<div class=\"p\"><div class=\"txs\" id=\"T27\"><span class=\"v\">27</span><span class=\"vsp\"> </span>Ey anawi Niwipaw ikʉ gowye'ri a zana kawi cheyrwa awiri a'mia gowna.</div><span id=\"bookmarks27\"></span></div><span id=\"bookmarks27\"></span><a id=\"v28\"></a>\n",
      "<div class=\"p\"><div class=\"txs\" id=\"T28a\"><span class=\"v\">28</span><span class=\"vsp\"> </span>Ey anunaɉu nʉngwa Niwipawse'ri ga'kʉnamʉ duna a'wesiri:</div> <div class=\"txs\" id=\"T28b\">—“Sʉmʉ re'nika awi ka'gʉmʉse' ko' zakusa awi keywʉri wakʉ pinna ɉuna ɉese kʉnʉna,</div> <div class=\"txs\" id=\"T28c\">sisio warin durúnuya,</div> <div class=\"txs\" id=\"T28d\">awiri ka'se' wʉrenʉya kʉre'gusi akwʉngwa ni” winʉkʉyana.</div><span id=\"bookmarks28\"></span></div><span id=\"bookmarks28\"></span><a id=\"v29\"></a>\n",
      "<div class=\"p\"><div class=\"txs\" id=\"T29a\"><span class=\"v\">29</span><span class=\"vsp\"> </span>Ey awi keywʉ Niwipawse' eygwi winʉkʉya'bari:</div> <div class=\"txs\" id=\"T29b\">—“Miwiri pin ka'gʉmʉse' kʉn zaɉuna a'seynʉya ɉina,</div> <div class=\"txs\" id=\"T29c\">na'ba kʉn mʉga ɉina gʉkwey gunti miwi kʉnʉngwa nari chusiwin.</div><span id=\"bookmarks29\"></span> <a id=\"v30\"></a><div class=\"txs\" id=\"T30a\"><span class=\"v\">30</span><span class=\"vsp\"> </span>Ʉweki ana'nuga kʉnkʉnʉn zanʉ ɉina,</div> <div class=\"txs\" id=\"T30b\">na'ba ka'se' kʉnanʉya ɉina,</div> <div class=\"txs\" id=\"T30c\">awiri sisio warin durúnuya ɉinase' nʉngwa kanʉ chʉkiruna zʉn wigʉngwa winʉkʉchusiwin” ie'ri ayey nánʉngwa nari chukumana.</div><span id=\"bookmarks30\"></span></div><span id=\"bookmarks30\"></span><a id=\"v31\"></a>\n",
      "<div class=\"p\"><div class=\"txs\" id=\"T31a\"><span class=\"v\">31</span><span class=\"vsp\"> </span>Eymí anawi Niwipawri yow inʉ ʉngawi ʉnchwʉn nuse'ri dukʉchʉ gunti kawin a'zari chwana.</div> <div class=\"txs\" id=\"T31b\">Ey anuye'ri twí ʉnzanisi bunsi ʉnchare'ri chinhwa ɉwía keywʉ ʉnzʉnna.</div><span id=\"bookmarks31\"></span></div>\n",
      "</div>\n"
     ]
    }
   ],
   "source": [
    "print(content_div)"
   ]
  },
  {
   "cell_type": "code",
   "execution_count": null,
   "id": "3beb6439-c413-4906-a81f-86bf1724fc06",
   "metadata": {},
   "outputs": [],
   "source": [
    "<div id=\"content\">\n",
    "\n",
    "<div class=\"mt\">\n",
    "    <span class=\"mt\">GÉNESI</span>\n",
    "</div>\n",
    "\n",
    "<div class=\"b\"></div>\n",
    "<div class=\"b\"></div>\n",
    "\n",
    "<div class=\"s\">\n",
    "    <div id=\"Ts1\" class=\"txs\" data-start=\"3.88\">Kʉtʉkʉnʉn yow inʉ a'bunna wasʉya<div style=\"display: none;\"></div></div></div><a id=\"v1\"></a>\n",
    "        <div class=\"m\">\n",
    "<div class=\"c-drop\">1</div> <div id=\"T1\" class=\"txs\" data-start=\"8.04\"><span class=\"v\">1</span><span class=\"vsp\">&nbsp;</span>Kʉtʉkʉnʉn keywʉ Niwipaw<span class=\"footnote selectable tooltipstered\" id=\"F-0\"><sup>a</sup></span> inʉ a'gowye'ri ku'nawa awiri ka'gʉmʉ keywʉ gowna.<div style=\"display: none;\"></div></div><span id=\"bookmarks1\"></span> <a id=\"v2\"></a><div id=\"T2a\" class=\"txs\" data-start=\"14.02\"><span class=\"v\">2</span><span class=\"vsp\">&nbsp;</span>Ka'gʉmʉri azi kawin awanʉkwey neki ka' ú nariri;<div style=\"display: none;\"></div></div> <div id=\"T2b\" class=\"txs\" data-start=\"17.9\">ɉe aykʉnʉ zʉn zari keywʉri twí zʉn zʉnna,<div style=\"display: none;\"></div></div> <div id=\"T2c\" class=\"txs\" data-start=\"21.56\">ey uye'ki Niwipaw zʉn Anugweri ɉese idʉmanʉn nu'na.<div style=\"display: none;\"></div></div><span id=\"bookmarks2\"></span></div><span id=\"bookmarks2\"></span><a id=\"v3\"></a>\n",
    "<div class=\"p\"><div id=\"T3a\" class=\"txs\" data-start=\"26.32\"><span class=\"v\">3</span><span class=\"vsp\">&nbsp;</span>Ey uye' nʉngwa Niwipaw keywʉ ie'ri:<div style=\"display: none;\"></div></div> <div id=\"T3b\" class=\"txs\" data-start=\"29.26\">—“¡Bunsi zʉna chwizanika ú!”<div style=\"display: none;\"></div></div> <div id=\"T3c\" class=\"txs\" data-start=\"31.36\">ie'ri,<div style=\"display: none;\"></div></div> <div id=\"T3d\" class=\"txs\" data-start=\"32.16\">ayey keywʉ zani'na.<div style=\"display: none;\"></div></div><span id=\"bookmarks3\"></span></div><span id=\"bookmarks3\"></span><a id=\"v4\"></a>\n",
    "<div class=\"p\"><div id=\"T4a\" class=\"txs\" data-start=\"33.82\"><span class=\"v\">4</span><span class=\"vsp\">&nbsp;</span>Ey awi Niwipawri bunsi zʉnari du zʉnin gun a'zare'ri,<div style=\"display: none;\"></div></div> <div id=\"T4b\" class=\"txs\" data-start=\"38.44\">twí zʉna'ba pari aykʉnʉ ʉnde'gawi nʉngwa,<div style=\"display: none;\"></div></div><span id=\"bookmarks4\"></span> <a id=\"v5\"></a><div id=\"T5a\" class=\"txs\" data-start=\"41.4\"><span class=\"v\">5</span><span class=\"vsp\">&nbsp;</span>Niwipawse'ri bunsi zʉnari “ɉwía” iwa twí zʉnari “seia” ɉwa kʉsana,<div style=\"display: none;\"></div></div> <div id=\"T5b\" class=\"txs\" data-start=\"46.12\">ey awi twí ʉnzanisi bunsi ʉnchare'ri i'ɉwia keywʉ ʉnzʉnna.<div style=\"display: none;\"></div></div><span id=\"bookmarks5\"></span></div><span id=\"bookmarks5\"></span><a id=\"v6\"></a>\n",
    "<div class=\"p\"><div id=\"T6a\" class=\"txs\" data-start=\"50.54\"><span class=\"v\">6</span><span class=\"vsp\">&nbsp;</span>Ey awi Niwipaw keywʉ eygwi ie'ri:<div style=\"display: none;\"></div></div> <div id=\"T6b\" class=\"txs\" data-start=\"53.46\">—“Ɉe dikin re'basʉngwa inʉ chwizanika ú” ie'ri ayey keywʉ zani'na.<div style=\"display: none;\"></div></div><span id=\"bookmarks6\"></span></div><span id=\"bookmarks6\"></span><a id=\"v7\"></a>\n",
    "<div class=\"p\"><div id=\"T7a\" class=\"txs\" data-start=\"58.68\"><span class=\"v\">7</span><span class=\"vsp\">&nbsp;</span>Ey anawi Niwipawri ɉe dikin re'basʉngwa inʉ gow uye'ri,<div style=\"display: none;\"></div></div> <div id=\"T7b\" class=\"txs\" data-start=\"63.74\">ɉe ʉnde'basánari dikin azuray ʉnde'gow awiri iwa i'ngweygwi dikin ʉwa'rey ʉnde'gawiri.<div style=\"display: none;\"></div></div><span id=\"bookmarks7\"></span> <a id=\"v8\"></a><div id=\"T8a\" class=\"txs\" data-start=\"70.98\"><span class=\"v\">8</span><span class=\"vsp\">&nbsp;</span>Eyma gownari “ku'nawa” ɉwakwasana,<div style=\"display: none;\"></div></div> <div id=\"T8b\" class=\"txs\" data-start=\"73.86\">ey anawi twí ʉnzanisi bunsi ʉnchare'ri mowga ɉwín keywʉ ʉnzʉnna.<div style=\"display: none;\"></div></div><span id=\"bookmarks8\"></span></div><span id=\"bookmarks8\"></span><a id=\"v9\"></a>\n",
    "<div class=\"p\"><div id=\"T9a\" class=\"txs\" data-start=\"78.2\"><span class=\"v\">9</span><span class=\"vsp\">&nbsp;</span>Ey anawi nʉngwa Niwipaw keywʉ eygwi ie'ri:<div style=\"display: none;\"></div></div> <div id=\"T9b\" class=\"txs\" data-start=\"81.16\">—“Ɉe ku'nawa wa'rey nánʉn nugeykari i'ba'kin ʉnni'kumow,<div style=\"display: none;\"></div></div> <div id=\"T9c\" class=\"txs\" data-start=\"85.88\">ey unige'ri ɉomʉ zʉna chwizanikʉngwasi” ie'ri,<div style=\"display: none;\"></div></div> <div id=\"T9d\" class=\"txs\" data-start=\"89.36\">ayey zani'na.<div style=\"display: none;\"></div></div><span id=\"bookmarks9\"></span></div><span id=\"bookmarks9\"></span><a id=\"v10\"></a>\n",
    "<div class=\"p\"><div id=\"T10a\" class=\"txs\" data-start=\"90.62\"><span class=\"v\">10</span><span class=\"vsp\">&nbsp;</span>Ɉomʉriwa chwizani'nari Niwipawse'ri “ka'gʉmʉ” ɉwa kʉsana,<div style=\"display: none;\"></div></div> <div id=\"T10b\" class=\"txs\" data-start=\"95.64\">iwa i'ba'kin ɉe ʉnni'kumanari “ɉiwʉ” ɉwa kʉsana,<div style=\"display: none;\"></div></div> <div id=\"T10c\" class=\"txs\" data-start=\"99.3\">ey uye'ri Niwipawse'ri du zʉnin a'zari chwana.<div style=\"display: none;\"></div></div><span id=\"bookmarks10\"></span></div><span id=\"bookmarks10\"></span><a id=\"v11\"></a>\n",
    "<div class=\"p\"><div id=\"T11a\" class=\"txs\" data-start=\"103.7\"><span class=\"v\">11</span><span class=\"vsp\">&nbsp;</span>Ey awi Niwipaw keywʉ eygwi ie'ri:<div style=\"display: none;\"></div></div> <div id=\"T11b\" class=\"txs\" data-start=\"106.7\">—“Ka'se' pari kʉn pinna ɉuna imʉga,<div style=\"display: none;\"></div></div> <div id=\"T11c\" class=\"txs\" data-start=\"110.04\">awiri zaɉuna winʉkʉnari uwa a'nika ú” ie'ri,<div style=\"display: none;\"></div></div> <div id=\"T11d\" class=\"txs\" data-start=\"114.04\">ayey zani'na.<div style=\"display: none;\"></div></div><span id=\"bookmarks11\"></span></div><span id=\"bookmarks11\"></span><a id=\"v12\"></a>\n",
    "<div class=\"p\"><div id=\"T12a\" class=\"txs\" data-start=\"115.66\"><span class=\"v\">12</span><span class=\"vsp\">&nbsp;</span>Ey uye' nʉngwa ka'se' pariri kʉn pinna ɉuna,<div style=\"display: none;\"></div></div> <div id=\"T12b\" class=\"txs\" data-start=\"119.4\">ʉwa a'seynʉya,<div style=\"display: none;\"></div></div> <div id=\"T12c\" class=\"txs\" data-start=\"120.36\">makʉya,<div style=\"display: none;\"></div></div> <div id=\"T12d\" class=\"txs\" data-start=\"120.96\">a'nikʉya,<div style=\"display: none;\"></div></div> <div id=\"T12e\" class=\"txs\" data-start=\"121.6\">awiri zaɉuna winʉkʉnari ʉwa bonʉnpariri,<div style=\"display: none;\"></div></div> <div id=\"T12f\" class=\"txs\" data-start=\"125.26\">i'ngweti enʉnay kawi keywʉ chwizanikʉnpʉnna.<div style=\"display: none;\"></div></div> <div id=\"T12g\" class=\"txs\" data-start=\"129.02\">Ey uye' nʉngwari Niwipawse'ri du zʉnin keywʉ a'zari chwana.<div style=\"display: none;\"></div></div><span id=\"bookmarks12\"></span> <a id=\"v13\"></a><div id=\"T13\" class=\"txs\" data-start=\"133.46\"><span class=\"v\">13</span><span class=\"vsp\">&nbsp;</span>Ey awi twí ʉnzanisi bunsi ʉnchare'ri máykʉnʉ ɉwín keywʉ ʉnzʉnna.<div style=\"display: none;\"></div></div><span id=\"bookmarks13\"></span></div><span id=\"bookmarks13\"></span><a id=\"v14\"></a>\n",
    "<div class=\"p\"><div id=\"T14-15a\" class=\"txs\" data-start=\"138.28\"><span class=\"v\">14-15</span><span class=\"vsp\">&nbsp;</span>Ey anawi Niwipaw keywʉ eygwi ie'ri:<div style=\"display: none;\"></div></div> <div id=\"T14-15b\" class=\"txs\" data-start=\"140.8\">—“Ku'nawari inʉ bunsi wa'kʉya chwizanika ú,<div style=\"display: none;\"></div></div> <div id=\"T14-15c\" class=\"txs\" data-start=\"144.5\">awi ka'se' wa'kanige'ri,<div style=\"display: none;\"></div></div> <div id=\"T14-15d\" class=\"txs\" data-start=\"147.36\">ɉwia'ri ɉwía kinki iwa seia'ri seia kinki zanʉngwasi,<div style=\"display: none;\"></div></div> <div id=\"T14-15e\" class=\"txs\" data-start=\"151.36\">awi keywʉri tima,<div style=\"display: none;\"></div></div> <div id=\"T14-15f\" class=\"txs\" data-start=\"153.48\">kʉgi',<div style=\"display: none;\"></div></div> <div id=\"T14-15g\" class=\"txs\" data-start=\"154.44\">ɉewʉ ɉwín,<div style=\"display: none;\"></div></div> <div id=\"T14-15h\" class=\"txs\" data-start=\"155.08\">awiri tikíba ʉntakumʉya nenʉn ɉwa'sʉkwey nisi zweingwasi ie'ri” ayey zani'na.<div style=\"display: none;\"></div></div><span id=\"bookmarks14-15\"></span></div><span id=\"bookmarks14-15\"></span><a id=\"v16\"></a>\n",
    "<div class=\"p\"><div id=\"T16a\" class=\"txs\" data-start=\"162.44\"><span class=\"v\">16</span><span class=\"vsp\">&nbsp;</span>Niwipawri mowga inʉ bunsi wa'kʉya gowna:<div style=\"display: none;\"></div></div> <div id=\"T16b\" class=\"txs\" data-start=\"166.4\">Umʉn kawari ɉwía wa'kʉngwasi,<div style=\"display: none;\"></div></div> <div id=\"T16c\" class=\"txs\" data-start=\"168.7\">iwa awʉ' kawari seia wa'kʉngwasi.<div style=\"display: none;\"></div></div> <div id=\"T16d\" class=\"txs\" data-start=\"171.64\">Ʉya'ba'gwíri wirako'ku gow gwi una.<div style=\"display: none;\"></div></div><span id=\"bookmarks16\"></span> <a id=\"v17\"></a><div id=\"T17\" class=\"txs\" data-start=\"176.7\"><span class=\"v\">17</span><span class=\"vsp\">&nbsp;</span>Ema ɉinari ku'nawa pari ka'gʉmʉse' wakʉngwasi Niwipawse'ri kwasana.<div style=\"display: none;\"></div></div><span id=\"bookmarks17\"></span> <a id=\"v18\"></a><div id=\"T18a\" class=\"txs\" data-start=\"182.5\"><span class=\"v\">18</span><span class=\"vsp\">&nbsp;</span>I'ngwiri ɉwía iwa i'ngweygwiri seia re'gukʉn nukʉngwasi gowna,<div style=\"display: none;\"></div></div> <div id=\"T18b\" class=\"txs\" data-start=\"187.42\">bunsi zʉnari twí zʉna'ba pari aykʉnʉ ʉnde'gow una.<div style=\"display: none;\"></div></div> <div id=\"T18c\" class=\"txs\" data-start=\"191.8\">Eymí anuye'ri Niwipawse'ri dukʉchʉ kawin a'zari chwana.<div style=\"display: none;\"></div></div><span id=\"bookmarks18\"></span> <a id=\"v19\"></a><div id=\"T19\" class=\"txs\" data-start=\"196.54\"><span class=\"v\">19</span><span class=\"vsp\">&nbsp;</span>Eymí anawi gunti twí ʉnzanisi bunsi ʉnchare'ri ma'keywa ɉwín keywʉ ʉnzʉnna.<div style=\"display: none;\"></div></div><span id=\"bookmarks19\"></span></div><span id=\"bookmarks19\"></span><a id=\"v20\"></a>\n",
    "<div class=\"p\"><div id=\"T20a\" class=\"txs\" data-start=\"201.88\"><span class=\"v\">20</span><span class=\"vsp\">&nbsp;</span>Ey awi Niwipaw keywʉ eygwi ie'ri:<div style=\"display: none;\"></div></div> <div id=\"T20b\" class=\"txs\" data-start=\"204.8\">—“Ɉese zanʉ ana'nuga pinna ɉuna sʉmʉ re'nikow.<div style=\"display: none;\"></div></div> <div id=\"T20c\" class=\"txs\" data-start=\"208.96\">Na'ba sisio warin durúnuya ɉina sʉmʉ re'nika ú”.<div style=\"display: none;\"></div></div><span id=\"bookmarks20\"></span></div><span id=\"bookmarks20\"></span><a id=\"v21\"></a>\n",
    "<div class=\"p\"><div id=\"T21\" class=\"txs\" data-start=\"213\"><span class=\"v\">21</span><span class=\"vsp\">&nbsp;</span>Ey awi Niwipawri ɉiwʉse' pari ana'nuga awʉnte' kawa gawiri pinna ɉuna ɉese kukwey nánʉya awi pinna ɉuna sisio warin durúnuya gowye'ri dukʉchʉ kawin a'zʉnna.<div style=\"display: none;\"></div></div><span id=\"bookmarks21\"></span></div><span id=\"bookmarks21\"></span><a id=\"v22\"></a>\n",
    "<div class=\"p\"><div id=\"T22a\" class=\"txs\" data-start=\"226.88\"><span class=\"v\">22</span><span class=\"vsp\">&nbsp;</span>Ey anawi Niwipawse' ga'kʉnamʉ duna<span class=\"footnote selectable tooltipstered\" id=\"F-1\"><sup>b</sup></span> a'wesi eymí gwasi waseyna:<div style=\"display: none;\"></div></div> <div id=\"T22b\" class=\"txs\" data-start=\"232.5\">—“Ana'nuga ɉese kʉnari awʉngwa awiri sisio ɉina sʉmʉ ka'gʉmʉse' re'nika awʉngwa ni” yana.<div style=\"display: none;\"></div></div><span id=\"bookmarks22\"></span></div><span id=\"bookmarks22\"></span><a id=\"v23\"></a>\n",
    "<div class=\"p\"><div id=\"T23\" class=\"txs\" data-start=\"239.76\"><span class=\"v\">23</span><span class=\"vsp\">&nbsp;</span>Eymí anuye'ri twí ʉnzanisi bunsi ʉnchare'ri asewa ɉwía keywʉ ʉnzʉnna.<div style=\"display: none;\"></div></div><span id=\"bookmarks23\"></span></div><span id=\"bookmarks23\"></span><a id=\"v24\"></a>\n",
    "<div class=\"p\"><div id=\"T24a\" class=\"txs\" data-start=\"244.76\"><span class=\"v\">24</span><span class=\"vsp\">&nbsp;</span>Ey awi Niwipaw keywʉ eygwi ie'ri:<div style=\"display: none;\"></div></div> <div id=\"T24b\" class=\"txs\" data-start=\"247.5\">—“Ka'se' pari ana'nuga pinna ɉuna chwizanika ú,<div style=\"display: none;\"></div></div> <div id=\"T24c\" class=\"txs\" data-start=\"251.02\">ana'nuga ikʉsin ʉnkʉnari awʉngwa ana'nuga kʉnkʉnʉsin ʉnkʉnari awʉngwa,<div style=\"display: none;\"></div></div> <div id=\"T24d\" class=\"txs\" data-start=\"256.9\">ka'se' kʉnari awʉngwa,<div style=\"display: none;\"></div></div> <div id=\"T24e\" class=\"txs\" data-start=\"258.56\">ka'se' wʉreri nʉya ɉinasin awiri brú nekʉkin” ie'ri ayey zani'na.<div style=\"display: none;\"></div></div><span id=\"bookmarks24\"></span></div><span id=\"bookmarks24\"></span><a id=\"v25\"></a>\n",
    "<div class=\"p\"><div id=\"T25\" class=\"txs\" data-start=\"263.86\"><span class=\"v\">25</span><span class=\"vsp\">&nbsp;</span>Ey anawi Niwipawri pinna ɉuna ana'nuga ʉngawi ʉnchwizʉnhasie'ri du kawin a'zari chwana.<div style=\"display: none;\"></div></div><span id=\"bookmarks25\"></span></div><span id=\"bookmarks25\"></span><a id=\"v26\"></a>\n",
    "<div class=\"p\"><div id=\"T26a\" class=\"txs\" data-start=\"271.28\"><span class=\"v\">26</span><span class=\"vsp\">&nbsp;</span>Ey anuye' nʉngwa Niwipaw keywʉ eygwi ie'ri:<div style=\"display: none;\"></div></div> <div id=\"T26b\" class=\"txs\" data-start=\"274.14\">—“Iwari ikʉ niwi zana kawa gow ukura,<div style=\"display: none;\"></div></div> <div id=\"T26c\" class=\"txs\" data-start=\"277.46\">wakʉ pinna ɉuna ɉese kʉnʉna,<div style=\"display: none;\"></div></div> <div id=\"T26d\" class=\"txs\" data-start=\"280.12\">sisio warin durúnuya ɉina,<div style=\"display: none;\"></div></div> <div id=\"T26e\" class=\"txs\" data-start=\"282.08\">ikʉsin ʉnkʉnari awʉngwa,<div style=\"display: none;\"></div></div> <div id=\"T26f\" class=\"txs\" data-start=\"284.08\">kʉnkʉnʉsin ʉnkʉnari awʉngwa,<div style=\"display: none;\"></div></div> <div id=\"T26g\" class=\"txs\" data-start=\"286.26\">ka'se' kʉnari awʉngwa,<div style=\"display: none;\"></div></div> <div id=\"T26h\" class=\"txs\" data-start=\"288.08\">ka'se' wʉreri nʉya ɉina awiri brú nekʉkin kʉre'gukʉngwa nari gow ukura” yana.<div style=\"display: none;\"></div></div><span id=\"bookmarks26\"></span></div><span id=\"bookmarks26\"></span><a id=\"v27\"></a>\n",
    "<div class=\"p\"><div id=\"T27\" class=\"txs\" data-start=\"293.4\"><span class=\"v\">27</span><span class=\"vsp\">&nbsp;</span>Ey anawi Niwipaw ikʉ gowye'ri a zana kawi cheyrwa awiri a'mia gowna.<div style=\"display: none;\"></div></div><span id=\"bookmarks27\"></span></div><span id=\"bookmarks27\"></span><a id=\"v28\"></a>\n",
    "<div class=\"p\"><div id=\"T28a\" class=\"txs\" data-start=\"299.72\"><span class=\"v\">28</span><span class=\"vsp\">&nbsp;</span>Ey anunaɉu nʉngwa Niwipawse'ri ga'kʉnamʉ duna a'wesiri:<div style=\"display: none;\"></div></div> <div id=\"T28b\" class=\"txs\" data-start=\"304.54\">—“Sʉmʉ re'nika awi ka'gʉmʉse' ko' zakusa awi keywʉri wakʉ pinna ɉuna ɉese kʉnʉna,<div style=\"display: none;\"></div></div> <div id=\"T28c\" class=\"txs\" data-start=\"311.28\">sisio warin durúnuya,<div style=\"display: none;\"></div></div> <div id=\"T28d\" class=\"txs\" data-start=\"313.08\">awiri ka'se' wʉrenʉya kʉre'gusi akwʉngwa ni” winʉkʉyana.<div style=\"display: none;\"></div></div><span id=\"bookmarks28\"></span></div><span id=\"bookmarks28\"></span><a id=\"v29\"></a>\n",
    "<div class=\"p\"><div id=\"T29a\" class=\"txs\" data-start=\"317.52\"><span class=\"v\">29</span><span class=\"vsp\">&nbsp;</span>Ey awi keywʉ Niwipawse' eygwi winʉkʉya'bari:<div style=\"display: none;\"></div></div> <div id=\"T29b\" class=\"txs\" data-start=\"321.08\">—“Miwiri pin ka'gʉmʉse' kʉn zaɉuna a'seynʉya ɉina,<div style=\"display: none;\"></div></div> <div id=\"T29c\" class=\"txs\" data-start=\"325.2\">na'ba kʉn mʉga ɉina gʉkwey gunti miwi kʉnʉngwa nari chusiwin.<div style=\"display: none;\"></div></div><span id=\"bookmarks29\"></span> <a id=\"v30\"></a><div id=\"T30a\" class=\"txs\" data-start=\"330.86\"><span class=\"v\">30</span><span class=\"vsp\">&nbsp;</span>Ʉweki ana'nuga kʉnkʉnʉn zanʉ ɉina,<div style=\"display: none;\"></div></div> <div id=\"T30b\" class=\"txs\" data-start=\"334.26\">na'ba ka'se' kʉnanʉya ɉina,<div style=\"display: none;\"></div></div> <div id=\"T30c\" class=\"txs\" data-start=\"337.16\">awiri sisio warin durúnuya ɉinase' nʉngwa kanʉ chʉkiruna zʉn wigʉngwa winʉkʉchusiwin” ie'ri ayey nánʉngwa nari chukumana.<div style=\"display: none;\"></div></div><span id=\"bookmarks30\"></span></div><span id=\"bookmarks30\"></span><a id=\"v31\"></a>\n",
    "<div class=\"p\"><div id=\"T31a\" class=\"txs\" data-start=\"346.5\"><span class=\"v\">31</span><span class=\"vsp\">&nbsp;</span>Eymí anawi Niwipawri yow inʉ ʉngawi ʉnchwʉn nuse'ri dukʉchʉ gunti kawin a'zari chwana.<div style=\"display: none;\"></div></div> <div id=\"T31b\" class=\"txs\" data-start=\"351.4\">Ey anuye'ri twí ʉnzanisi bunsi ʉnchare'ri chinhwa ɉwía keywʉ ʉnzʉnna.<div style=\"display: none;\"></div></div><span id=\"bookmarks31\"></span></div>\n",
    "</div>"
   ]
  },
  {
   "cell_type": "code",
   "execution_count": null,
   "id": "c84234d0-307d-4115-8f92-af9bc69e67f7",
   "metadata": {},
   "outputs": [],
   "source": []
  },
  {
   "cell_type": "code",
   "execution_count": null,
   "id": "48954490-b58a-4890-84f7-1ed9d1ce0526",
   "metadata": {},
   "outputs": [],
   "source": []
  },
  {
   "cell_type": "code",
   "execution_count": null,
   "id": "19e6d712-ab78-4cff-a956-651bc149233d",
   "metadata": {},
   "outputs": [],
   "source": []
  },
  {
   "cell_type": "code",
   "execution_count": null,
   "id": "4963cfd8-4d6c-4f8e-b880-06b5ef5f7f94",
   "metadata": {},
   "outputs": [],
   "source": []
  },
  {
   "cell_type": "code",
   "execution_count": null,
   "id": "69a3a30f-bcf6-4d12-bdaf-246b7d6cbef7",
   "metadata": {},
   "outputs": [],
   "source": []
  },
  {
   "cell_type": "code",
   "execution_count": null,
   "id": "e5531ee5-0728-40c0-a9d0-65441f41e1c3",
   "metadata": {},
   "outputs": [],
   "source": []
  },
  {
   "cell_type": "code",
   "execution_count": null,
   "id": "f609117d-fe4c-4e04-8de1-3fe083c16c5b",
   "metadata": {},
   "outputs": [],
   "source": []
  },
  {
   "cell_type": "code",
   "execution_count": null,
   "id": "ba265f4f-9b11-41bf-bd67-87d7c04404ed",
   "metadata": {},
   "outputs": [],
   "source": []
  },
  {
   "cell_type": "code",
   "execution_count": null,
   "id": "224da54f-92e7-4b4c-b0fe-e62b484666cb",
   "metadata": {},
   "outputs": [],
   "source": [
    "https://www.fdpm-co.org/es/nuestros-servicios/traducci%C3%B3n-b%C3%ADblica/biblia-iku/visor-biblia-iku"
   ]
  },
  {
   "cell_type": "code",
   "execution_count": null,
   "id": "74d22d35-f9e9-432d-81ec-fca62ae3b1bf",
   "metadata": {},
   "outputs": [],
   "source": [
    "<span class=\"button\"><a href=\"01-GEN-002.html\" title=\"Next Chapter\">&nbsp;&nbsp;&gt;&nbsp;&nbsp;</a></span>"
   ]
  },
  {
   "cell_type": "code",
   "execution_count": null,
   "id": "3afc321b-5886-4cd2-9f13-669e43644f42",
   "metadata": {},
   "outputs": [],
   "source": [
    "<button class=\"cookiesjsr-btn important allowAll\">Sí, estoy de acuerdo</button>"
   ]
  },
  {
   "cell_type": "code",
   "execution_count": 44,
   "id": "18e03ccb-e665-4029-b198-6d274cca30a5",
   "metadata": {},
   "outputs": [
    {
     "name": "stderr",
     "output_type": "stream",
     "text": [
      "/var/folders/g_/_m7bsjzn7w18df6zd_93n1sh0000gn/T/ipykernel_57657/2811815543.py:1: DeprecationWarning: executable_path has been deprecated, please pass in a Service object\n",
      "  driver = webdriver.Chrome('/Applications/chromedriver')\n"
     ]
    }
   ],
   "source": [
    "driver = webdriver.Chrome('/Applications/chromedriver')\n",
    "# constantes internas\n",
    "driver.get(\"https://www.fdpm-co.org/es/nuestros-servicios/traducci%C3%B3n-b%C3%ADblica/biblia-iku/visor-biblia-iku\")"
   ]
  },
  {
   "cell_type": "code",
   "execution_count": 46,
   "id": "01ef5112-5cf4-4de1-a701-b8e9d0bd6fee",
   "metadata": {},
   "outputs": [],
   "source": [
    "driver.find_element(\"xpath\",\"//button[@class='cookiesjsr-btn important allowAll']\").click()"
   ]
  },
  {
   "cell_type": "code",
   "execution_count": 51,
   "id": "3353a7c1-9963-419f-903d-c612a8d28642",
   "metadata": {
    "collapsed": true,
    "jupyter": {
     "outputs_hidden": true
    },
    "tags": []
   },
   "outputs": [
    {
     "ename": "NoSuchElementException",
     "evalue": "Message: no such element: Unable to locate element: {\"method\":\"xpath\",\"selector\":\"//a[@href='01-GEN-002.html']\"}\n  (Session info: chrome=117.0.5938.149)\nStacktrace:\n0   chromedriver                        0x000000010dea8638 chromedriver + 5002808\n1   chromedriver                        0x000000010de9fa53 chromedriver + 4966995\n2   chromedriver                        0x000000010da50a57 chromedriver + 449111\n3   chromedriver                        0x000000010da96d05 chromedriver + 736517\n4   chromedriver                        0x000000010da96ec1 chromedriver + 736961\n5   chromedriver                        0x000000010dadaf04 chromedriver + 1015556\n6   chromedriver                        0x000000010dabd41d chromedriver + 893981\n7   chromedriver                        0x000000010dad8391 chromedriver + 1004433\n8   chromedriver                        0x000000010dabd1c3 chromedriver + 893379\n9   chromedriver                        0x000000010da88df9 chromedriver + 679417\n10  chromedriver                        0x000000010da89fde chromedriver + 683998\n11  chromedriver                        0x000000010de652d9 chromedriver + 4727513\n12  chromedriver                        0x000000010de6a2de chromedriver + 4747998\n13  chromedriver                        0x000000010de282c9 chromedriver + 4477641\n14  chromedriver                        0x000000010de6b02d chromedriver + 4751405\n15  chromedriver                        0x000000010de3e0ec chromedriver + 4567276\n16  chromedriver                        0x000000010de887f8 chromedriver + 4872184\n17  chromedriver                        0x000000010de889b7 chromedriver + 4872631\n18  chromedriver                        0x000000010de98a1f chromedriver + 4938271\n19  libsystem_pthread.dylib             0x00007ff8046b24e1 _pthread_start + 125\n20  libsystem_pthread.dylib             0x00007ff8046adf6b thread_start + 15\n",
     "output_type": "error",
     "traceback": [
      "\u001b[0;31m---------------------------------------------------------------------------\u001b[0m",
      "\u001b[0;31mNoSuchElementException\u001b[0m                    Traceback (most recent call last)",
      "Cell \u001b[0;32mIn[51], line 1\u001b[0m\n\u001b[0;32m----> 1\u001b[0m \u001b[43mdriver\u001b[49m\u001b[38;5;241;43m.\u001b[39;49m\u001b[43mfind_element\u001b[49m\u001b[43m(\u001b[49m\u001b[38;5;124;43m\"\u001b[39;49m\u001b[38;5;124;43mxpath\u001b[39;49m\u001b[38;5;124;43m\"\u001b[39;49m\u001b[43m,\u001b[49m\u001b[38;5;124;43m\"\u001b[39;49m\u001b[38;5;124;43m//a[@href=\u001b[39;49m\u001b[38;5;124;43m'\u001b[39;49m\u001b[38;5;124;43m01-GEN-002.html\u001b[39;49m\u001b[38;5;124;43m'\u001b[39;49m\u001b[38;5;124;43m]\u001b[39;49m\u001b[38;5;124;43m\"\u001b[39;49m\u001b[43m)\u001b[49m\n",
      "File \u001b[0;32m~/anaconda3/lib/python3.10/site-packages/selenium/webdriver/remote/webdriver.py:831\u001b[0m, in \u001b[0;36mWebDriver.find_element\u001b[0;34m(self, by, value)\u001b[0m\n\u001b[1;32m    828\u001b[0m     by \u001b[38;5;241m=\u001b[39m By\u001b[38;5;241m.\u001b[39mCSS_SELECTOR\n\u001b[1;32m    829\u001b[0m     value \u001b[38;5;241m=\u001b[39m \u001b[38;5;124mf\u001b[39m\u001b[38;5;124m'\u001b[39m\u001b[38;5;124m[name=\u001b[39m\u001b[38;5;124m\"\u001b[39m\u001b[38;5;132;01m{\u001b[39;00mvalue\u001b[38;5;132;01m}\u001b[39;00m\u001b[38;5;124m\"\u001b[39m\u001b[38;5;124m]\u001b[39m\u001b[38;5;124m'\u001b[39m\n\u001b[0;32m--> 831\u001b[0m \u001b[38;5;28;01mreturn\u001b[39;00m \u001b[38;5;28;43mself\u001b[39;49m\u001b[38;5;241;43m.\u001b[39;49m\u001b[43mexecute\u001b[49m\u001b[43m(\u001b[49m\u001b[43mCommand\u001b[49m\u001b[38;5;241;43m.\u001b[39;49m\u001b[43mFIND_ELEMENT\u001b[49m\u001b[43m,\u001b[49m\u001b[43m \u001b[49m\u001b[43m{\u001b[49m\u001b[38;5;124;43m\"\u001b[39;49m\u001b[38;5;124;43musing\u001b[39;49m\u001b[38;5;124;43m\"\u001b[39;49m\u001b[43m:\u001b[49m\u001b[43m \u001b[49m\u001b[43mby\u001b[49m\u001b[43m,\u001b[49m\u001b[43m \u001b[49m\u001b[38;5;124;43m\"\u001b[39;49m\u001b[38;5;124;43mvalue\u001b[39;49m\u001b[38;5;124;43m\"\u001b[39;49m\u001b[43m:\u001b[49m\u001b[43m \u001b[49m\u001b[43mvalue\u001b[49m\u001b[43m}\u001b[49m\u001b[43m)\u001b[49m[\u001b[38;5;124m\"\u001b[39m\u001b[38;5;124mvalue\u001b[39m\u001b[38;5;124m\"\u001b[39m]\n",
      "File \u001b[0;32m~/anaconda3/lib/python3.10/site-packages/selenium/webdriver/remote/webdriver.py:440\u001b[0m, in \u001b[0;36mWebDriver.execute\u001b[0;34m(self, driver_command, params)\u001b[0m\n\u001b[1;32m    438\u001b[0m response \u001b[38;5;241m=\u001b[39m \u001b[38;5;28mself\u001b[39m\u001b[38;5;241m.\u001b[39mcommand_executor\u001b[38;5;241m.\u001b[39mexecute(driver_command, params)\n\u001b[1;32m    439\u001b[0m \u001b[38;5;28;01mif\u001b[39;00m response:\n\u001b[0;32m--> 440\u001b[0m     \u001b[38;5;28;43mself\u001b[39;49m\u001b[38;5;241;43m.\u001b[39;49m\u001b[43merror_handler\u001b[49m\u001b[38;5;241;43m.\u001b[39;49m\u001b[43mcheck_response\u001b[49m\u001b[43m(\u001b[49m\u001b[43mresponse\u001b[49m\u001b[43m)\u001b[49m\n\u001b[1;32m    441\u001b[0m     response[\u001b[38;5;124m\"\u001b[39m\u001b[38;5;124mvalue\u001b[39m\u001b[38;5;124m\"\u001b[39m] \u001b[38;5;241m=\u001b[39m \u001b[38;5;28mself\u001b[39m\u001b[38;5;241m.\u001b[39m_unwrap_value(response\u001b[38;5;241m.\u001b[39mget(\u001b[38;5;124m\"\u001b[39m\u001b[38;5;124mvalue\u001b[39m\u001b[38;5;124m\"\u001b[39m, \u001b[38;5;28;01mNone\u001b[39;00m))\n\u001b[1;32m    442\u001b[0m     \u001b[38;5;28;01mreturn\u001b[39;00m response\n",
      "File \u001b[0;32m~/anaconda3/lib/python3.10/site-packages/selenium/webdriver/remote/errorhandler.py:245\u001b[0m, in \u001b[0;36mErrorHandler.check_response\u001b[0;34m(self, response)\u001b[0m\n\u001b[1;32m    243\u001b[0m         alert_text \u001b[38;5;241m=\u001b[39m value[\u001b[38;5;124m\"\u001b[39m\u001b[38;5;124malert\u001b[39m\u001b[38;5;124m\"\u001b[39m]\u001b[38;5;241m.\u001b[39mget(\u001b[38;5;124m\"\u001b[39m\u001b[38;5;124mtext\u001b[39m\u001b[38;5;124m\"\u001b[39m)\n\u001b[1;32m    244\u001b[0m     \u001b[38;5;28;01mraise\u001b[39;00m exception_class(message, screen, stacktrace, alert_text)  \u001b[38;5;66;03m# type: ignore[call-arg]  # mypy is not smart enough here\u001b[39;00m\n\u001b[0;32m--> 245\u001b[0m \u001b[38;5;28;01mraise\u001b[39;00m exception_class(message, screen, stacktrace)\n",
      "\u001b[0;31mNoSuchElementException\u001b[0m: Message: no such element: Unable to locate element: {\"method\":\"xpath\",\"selector\":\"//a[@href='01-GEN-002.html']\"}\n  (Session info: chrome=117.0.5938.149)\nStacktrace:\n0   chromedriver                        0x000000010dea8638 chromedriver + 5002808\n1   chromedriver                        0x000000010de9fa53 chromedriver + 4966995\n2   chromedriver                        0x000000010da50a57 chromedriver + 449111\n3   chromedriver                        0x000000010da96d05 chromedriver + 736517\n4   chromedriver                        0x000000010da96ec1 chromedriver + 736961\n5   chromedriver                        0x000000010dadaf04 chromedriver + 1015556\n6   chromedriver                        0x000000010dabd41d chromedriver + 893981\n7   chromedriver                        0x000000010dad8391 chromedriver + 1004433\n8   chromedriver                        0x000000010dabd1c3 chromedriver + 893379\n9   chromedriver                        0x000000010da88df9 chromedriver + 679417\n10  chromedriver                        0x000000010da89fde chromedriver + 683998\n11  chromedriver                        0x000000010de652d9 chromedriver + 4727513\n12  chromedriver                        0x000000010de6a2de chromedriver + 4747998\n13  chromedriver                        0x000000010de282c9 chromedriver + 4477641\n14  chromedriver                        0x000000010de6b02d chromedriver + 4751405\n15  chromedriver                        0x000000010de3e0ec chromedriver + 4567276\n16  chromedriver                        0x000000010de887f8 chromedriver + 4872184\n17  chromedriver                        0x000000010de889b7 chromedriver + 4872631\n18  chromedriver                        0x000000010de98a1f chromedriver + 4938271\n19  libsystem_pthread.dylib             0x00007ff8046b24e1 _pthread_start + 125\n20  libsystem_pthread.dylib             0x00007ff8046adf6b thread_start + 15\n"
     ]
    }
   ],
   "source": [
    "driver.find_element(\"xpath\",\"//a[@href='01-GEN-002.html']\")"
   ]
  },
  {
   "cell_type": "code",
   "execution_count": 48,
   "id": "56a91bfc-01af-4a80-975a-36db890b2c81",
   "metadata": {
    "collapsed": true,
    "jupyter": {
     "outputs_hidden": true
    },
    "tags": []
   },
   "outputs": [
    {
     "ename": "NoSuchElementException",
     "evalue": "Message: no such element: Unable to locate element: {\"method\":\"xpath\",\"selector\":\"//span[@class='button']\"}\n  (Session info: chrome=117.0.5938.149)\nStacktrace:\n0   chromedriver                        0x000000010dea8638 chromedriver + 5002808\n1   chromedriver                        0x000000010de9fa53 chromedriver + 4966995\n2   chromedriver                        0x000000010da50a57 chromedriver + 449111\n3   chromedriver                        0x000000010da96d05 chromedriver + 736517\n4   chromedriver                        0x000000010da96ec1 chromedriver + 736961\n5   chromedriver                        0x000000010dadaf04 chromedriver + 1015556\n6   chromedriver                        0x000000010dabd41d chromedriver + 893981\n7   chromedriver                        0x000000010dad8391 chromedriver + 1004433\n8   chromedriver                        0x000000010dabd1c3 chromedriver + 893379\n9   chromedriver                        0x000000010da88df9 chromedriver + 679417\n10  chromedriver                        0x000000010da89fde chromedriver + 683998\n11  chromedriver                        0x000000010de652d9 chromedriver + 4727513\n12  chromedriver                        0x000000010de6a2de chromedriver + 4747998\n13  chromedriver                        0x000000010de282c9 chromedriver + 4477641\n14  chromedriver                        0x000000010de6b02d chromedriver + 4751405\n15  chromedriver                        0x000000010de3e0ec chromedriver + 4567276\n16  chromedriver                        0x000000010de887f8 chromedriver + 4872184\n17  chromedriver                        0x000000010de889b7 chromedriver + 4872631\n18  chromedriver                        0x000000010de98a1f chromedriver + 4938271\n19  libsystem_pthread.dylib             0x00007ff8046b24e1 _pthread_start + 125\n20  libsystem_pthread.dylib             0x00007ff8046adf6b thread_start + 15\n",
     "output_type": "error",
     "traceback": [
      "\u001b[0;31m---------------------------------------------------------------------------\u001b[0m",
      "\u001b[0;31mNoSuchElementException\u001b[0m                    Traceback (most recent call last)",
      "Cell \u001b[0;32mIn[48], line 1\u001b[0m\n\u001b[0;32m----> 1\u001b[0m \u001b[43mdriver\u001b[49m\u001b[38;5;241;43m.\u001b[39;49m\u001b[43mfind_element\u001b[49m\u001b[43m(\u001b[49m\u001b[38;5;124;43m\"\u001b[39;49m\u001b[38;5;124;43mxpath\u001b[39;49m\u001b[38;5;124;43m\"\u001b[39;49m\u001b[43m,\u001b[49m\u001b[38;5;124;43m\"\u001b[39;49m\u001b[38;5;124;43m//span[@class=\u001b[39;49m\u001b[38;5;124;43m'\u001b[39;49m\u001b[38;5;124;43mbutton\u001b[39;49m\u001b[38;5;124;43m'\u001b[39;49m\u001b[38;5;124;43m]\u001b[39;49m\u001b[38;5;124;43m\"\u001b[39;49m\u001b[43m)\u001b[49m\n",
      "File \u001b[0;32m~/anaconda3/lib/python3.10/site-packages/selenium/webdriver/remote/webdriver.py:831\u001b[0m, in \u001b[0;36mWebDriver.find_element\u001b[0;34m(self, by, value)\u001b[0m\n\u001b[1;32m    828\u001b[0m     by \u001b[38;5;241m=\u001b[39m By\u001b[38;5;241m.\u001b[39mCSS_SELECTOR\n\u001b[1;32m    829\u001b[0m     value \u001b[38;5;241m=\u001b[39m \u001b[38;5;124mf\u001b[39m\u001b[38;5;124m'\u001b[39m\u001b[38;5;124m[name=\u001b[39m\u001b[38;5;124m\"\u001b[39m\u001b[38;5;132;01m{\u001b[39;00mvalue\u001b[38;5;132;01m}\u001b[39;00m\u001b[38;5;124m\"\u001b[39m\u001b[38;5;124m]\u001b[39m\u001b[38;5;124m'\u001b[39m\n\u001b[0;32m--> 831\u001b[0m \u001b[38;5;28;01mreturn\u001b[39;00m \u001b[38;5;28;43mself\u001b[39;49m\u001b[38;5;241;43m.\u001b[39;49m\u001b[43mexecute\u001b[49m\u001b[43m(\u001b[49m\u001b[43mCommand\u001b[49m\u001b[38;5;241;43m.\u001b[39;49m\u001b[43mFIND_ELEMENT\u001b[49m\u001b[43m,\u001b[49m\u001b[43m \u001b[49m\u001b[43m{\u001b[49m\u001b[38;5;124;43m\"\u001b[39;49m\u001b[38;5;124;43musing\u001b[39;49m\u001b[38;5;124;43m\"\u001b[39;49m\u001b[43m:\u001b[49m\u001b[43m \u001b[49m\u001b[43mby\u001b[49m\u001b[43m,\u001b[49m\u001b[43m \u001b[49m\u001b[38;5;124;43m\"\u001b[39;49m\u001b[38;5;124;43mvalue\u001b[39;49m\u001b[38;5;124;43m\"\u001b[39;49m\u001b[43m:\u001b[49m\u001b[43m \u001b[49m\u001b[43mvalue\u001b[49m\u001b[43m}\u001b[49m\u001b[43m)\u001b[49m[\u001b[38;5;124m\"\u001b[39m\u001b[38;5;124mvalue\u001b[39m\u001b[38;5;124m\"\u001b[39m]\n",
      "File \u001b[0;32m~/anaconda3/lib/python3.10/site-packages/selenium/webdriver/remote/webdriver.py:440\u001b[0m, in \u001b[0;36mWebDriver.execute\u001b[0;34m(self, driver_command, params)\u001b[0m\n\u001b[1;32m    438\u001b[0m response \u001b[38;5;241m=\u001b[39m \u001b[38;5;28mself\u001b[39m\u001b[38;5;241m.\u001b[39mcommand_executor\u001b[38;5;241m.\u001b[39mexecute(driver_command, params)\n\u001b[1;32m    439\u001b[0m \u001b[38;5;28;01mif\u001b[39;00m response:\n\u001b[0;32m--> 440\u001b[0m     \u001b[38;5;28;43mself\u001b[39;49m\u001b[38;5;241;43m.\u001b[39;49m\u001b[43merror_handler\u001b[49m\u001b[38;5;241;43m.\u001b[39;49m\u001b[43mcheck_response\u001b[49m\u001b[43m(\u001b[49m\u001b[43mresponse\u001b[49m\u001b[43m)\u001b[49m\n\u001b[1;32m    441\u001b[0m     response[\u001b[38;5;124m\"\u001b[39m\u001b[38;5;124mvalue\u001b[39m\u001b[38;5;124m\"\u001b[39m] \u001b[38;5;241m=\u001b[39m \u001b[38;5;28mself\u001b[39m\u001b[38;5;241m.\u001b[39m_unwrap_value(response\u001b[38;5;241m.\u001b[39mget(\u001b[38;5;124m\"\u001b[39m\u001b[38;5;124mvalue\u001b[39m\u001b[38;5;124m\"\u001b[39m, \u001b[38;5;28;01mNone\u001b[39;00m))\n\u001b[1;32m    442\u001b[0m     \u001b[38;5;28;01mreturn\u001b[39;00m response\n",
      "File \u001b[0;32m~/anaconda3/lib/python3.10/site-packages/selenium/webdriver/remote/errorhandler.py:245\u001b[0m, in \u001b[0;36mErrorHandler.check_response\u001b[0;34m(self, response)\u001b[0m\n\u001b[1;32m    243\u001b[0m         alert_text \u001b[38;5;241m=\u001b[39m value[\u001b[38;5;124m\"\u001b[39m\u001b[38;5;124malert\u001b[39m\u001b[38;5;124m\"\u001b[39m]\u001b[38;5;241m.\u001b[39mget(\u001b[38;5;124m\"\u001b[39m\u001b[38;5;124mtext\u001b[39m\u001b[38;5;124m\"\u001b[39m)\n\u001b[1;32m    244\u001b[0m     \u001b[38;5;28;01mraise\u001b[39;00m exception_class(message, screen, stacktrace, alert_text)  \u001b[38;5;66;03m# type: ignore[call-arg]  # mypy is not smart enough here\u001b[39;00m\n\u001b[0;32m--> 245\u001b[0m \u001b[38;5;28;01mraise\u001b[39;00m exception_class(message, screen, stacktrace)\n",
      "\u001b[0;31mNoSuchElementException\u001b[0m: Message: no such element: Unable to locate element: {\"method\":\"xpath\",\"selector\":\"//span[@class='button']\"}\n  (Session info: chrome=117.0.5938.149)\nStacktrace:\n0   chromedriver                        0x000000010dea8638 chromedriver + 5002808\n1   chromedriver                        0x000000010de9fa53 chromedriver + 4966995\n2   chromedriver                        0x000000010da50a57 chromedriver + 449111\n3   chromedriver                        0x000000010da96d05 chromedriver + 736517\n4   chromedriver                        0x000000010da96ec1 chromedriver + 736961\n5   chromedriver                        0x000000010dadaf04 chromedriver + 1015556\n6   chromedriver                        0x000000010dabd41d chromedriver + 893981\n7   chromedriver                        0x000000010dad8391 chromedriver + 1004433\n8   chromedriver                        0x000000010dabd1c3 chromedriver + 893379\n9   chromedriver                        0x000000010da88df9 chromedriver + 679417\n10  chromedriver                        0x000000010da89fde chromedriver + 683998\n11  chromedriver                        0x000000010de652d9 chromedriver + 4727513\n12  chromedriver                        0x000000010de6a2de chromedriver + 4747998\n13  chromedriver                        0x000000010de282c9 chromedriver + 4477641\n14  chromedriver                        0x000000010de6b02d chromedriver + 4751405\n15  chromedriver                        0x000000010de3e0ec chromedriver + 4567276\n16  chromedriver                        0x000000010de887f8 chromedriver + 4872184\n17  chromedriver                        0x000000010de889b7 chromedriver + 4872631\n18  chromedriver                        0x000000010de98a1f chromedriver + 4938271\n19  libsystem_pthread.dylib             0x00007ff8046b24e1 _pthread_start + 125\n20  libsystem_pthread.dylib             0x00007ff8046adf6b thread_start + 15\n"
     ]
    }
   ],
   "source": [
    "driver.find_element(\"xpath\",\"//span[@class='button']\")"
   ]
  },
  {
   "cell_type": "code",
   "execution_count": 47,
   "id": "4abf8ff4-0de0-4715-a8ad-d0ddf91f34ea",
   "metadata": {
    "collapsed": true,
    "jupyter": {
     "outputs_hidden": true
    },
    "tags": []
   },
   "outputs": [
    {
     "ename": "NoSuchElementException",
     "evalue": "Message: no such element: Unable to locate element: {\"method\":\"xpath\",\"selector\":\"//span[text()='&nbsp;&nbsp;&gt;&nbsp;&nbsp;']\"}\n  (Session info: chrome=117.0.5938.149)\nStacktrace:\n0   chromedriver                        0x000000010dea8638 chromedriver + 5002808\n1   chromedriver                        0x000000010de9fa53 chromedriver + 4966995\n2   chromedriver                        0x000000010da50a57 chromedriver + 449111\n3   chromedriver                        0x000000010da96d05 chromedriver + 736517\n4   chromedriver                        0x000000010da96ec1 chromedriver + 736961\n5   chromedriver                        0x000000010dadaf04 chromedriver + 1015556\n6   chromedriver                        0x000000010dabd41d chromedriver + 893981\n7   chromedriver                        0x000000010dad8391 chromedriver + 1004433\n8   chromedriver                        0x000000010dabd1c3 chromedriver + 893379\n9   chromedriver                        0x000000010da88df9 chromedriver + 679417\n10  chromedriver                        0x000000010da89fde chromedriver + 683998\n11  chromedriver                        0x000000010de652d9 chromedriver + 4727513\n12  chromedriver                        0x000000010de6a2de chromedriver + 4747998\n13  chromedriver                        0x000000010de282c9 chromedriver + 4477641\n14  chromedriver                        0x000000010de6b02d chromedriver + 4751405\n15  chromedriver                        0x000000010de3e0ec chromedriver + 4567276\n16  chromedriver                        0x000000010de887f8 chromedriver + 4872184\n17  chromedriver                        0x000000010de889b7 chromedriver + 4872631\n18  chromedriver                        0x000000010de98a1f chromedriver + 4938271\n19  libsystem_pthread.dylib             0x00007ff8046b24e1 _pthread_start + 125\n20  libsystem_pthread.dylib             0x00007ff8046adf6b thread_start + 15\n",
     "output_type": "error",
     "traceback": [
      "\u001b[0;31m---------------------------------------------------------------------------\u001b[0m",
      "\u001b[0;31mNoSuchElementException\u001b[0m                    Traceback (most recent call last)",
      "Cell \u001b[0;32mIn[47], line 1\u001b[0m\n\u001b[0;32m----> 1\u001b[0m element \u001b[38;5;241m=\u001b[39m \u001b[43mdriver\u001b[49m\u001b[38;5;241;43m.\u001b[39;49m\u001b[43mfind_element\u001b[49m\u001b[43m(\u001b[49m\u001b[38;5;124;43m\"\u001b[39;49m\u001b[38;5;124;43mxpath\u001b[39;49m\u001b[38;5;124;43m\"\u001b[39;49m\u001b[43m,\u001b[49m\u001b[38;5;124;43m\"\u001b[39;49m\u001b[38;5;124;43m//span[text()=\u001b[39;49m\u001b[38;5;124;43m'\u001b[39;49m\u001b[38;5;124;43m&nbsp;&nbsp;&gt;&nbsp;&nbsp;\u001b[39;49m\u001b[38;5;124;43m'\u001b[39;49m\u001b[38;5;124;43m]\u001b[39;49m\u001b[38;5;124;43m\"\u001b[39;49m\u001b[43m)\u001b[49m\n",
      "File \u001b[0;32m~/anaconda3/lib/python3.10/site-packages/selenium/webdriver/remote/webdriver.py:831\u001b[0m, in \u001b[0;36mWebDriver.find_element\u001b[0;34m(self, by, value)\u001b[0m\n\u001b[1;32m    828\u001b[0m     by \u001b[38;5;241m=\u001b[39m By\u001b[38;5;241m.\u001b[39mCSS_SELECTOR\n\u001b[1;32m    829\u001b[0m     value \u001b[38;5;241m=\u001b[39m \u001b[38;5;124mf\u001b[39m\u001b[38;5;124m'\u001b[39m\u001b[38;5;124m[name=\u001b[39m\u001b[38;5;124m\"\u001b[39m\u001b[38;5;132;01m{\u001b[39;00mvalue\u001b[38;5;132;01m}\u001b[39;00m\u001b[38;5;124m\"\u001b[39m\u001b[38;5;124m]\u001b[39m\u001b[38;5;124m'\u001b[39m\n\u001b[0;32m--> 831\u001b[0m \u001b[38;5;28;01mreturn\u001b[39;00m \u001b[38;5;28;43mself\u001b[39;49m\u001b[38;5;241;43m.\u001b[39;49m\u001b[43mexecute\u001b[49m\u001b[43m(\u001b[49m\u001b[43mCommand\u001b[49m\u001b[38;5;241;43m.\u001b[39;49m\u001b[43mFIND_ELEMENT\u001b[49m\u001b[43m,\u001b[49m\u001b[43m \u001b[49m\u001b[43m{\u001b[49m\u001b[38;5;124;43m\"\u001b[39;49m\u001b[38;5;124;43musing\u001b[39;49m\u001b[38;5;124;43m\"\u001b[39;49m\u001b[43m:\u001b[49m\u001b[43m \u001b[49m\u001b[43mby\u001b[49m\u001b[43m,\u001b[49m\u001b[43m \u001b[49m\u001b[38;5;124;43m\"\u001b[39;49m\u001b[38;5;124;43mvalue\u001b[39;49m\u001b[38;5;124;43m\"\u001b[39;49m\u001b[43m:\u001b[49m\u001b[43m \u001b[49m\u001b[43mvalue\u001b[49m\u001b[43m}\u001b[49m\u001b[43m)\u001b[49m[\u001b[38;5;124m\"\u001b[39m\u001b[38;5;124mvalue\u001b[39m\u001b[38;5;124m\"\u001b[39m]\n",
      "File \u001b[0;32m~/anaconda3/lib/python3.10/site-packages/selenium/webdriver/remote/webdriver.py:440\u001b[0m, in \u001b[0;36mWebDriver.execute\u001b[0;34m(self, driver_command, params)\u001b[0m\n\u001b[1;32m    438\u001b[0m response \u001b[38;5;241m=\u001b[39m \u001b[38;5;28mself\u001b[39m\u001b[38;5;241m.\u001b[39mcommand_executor\u001b[38;5;241m.\u001b[39mexecute(driver_command, params)\n\u001b[1;32m    439\u001b[0m \u001b[38;5;28;01mif\u001b[39;00m response:\n\u001b[0;32m--> 440\u001b[0m     \u001b[38;5;28;43mself\u001b[39;49m\u001b[38;5;241;43m.\u001b[39;49m\u001b[43merror_handler\u001b[49m\u001b[38;5;241;43m.\u001b[39;49m\u001b[43mcheck_response\u001b[49m\u001b[43m(\u001b[49m\u001b[43mresponse\u001b[49m\u001b[43m)\u001b[49m\n\u001b[1;32m    441\u001b[0m     response[\u001b[38;5;124m\"\u001b[39m\u001b[38;5;124mvalue\u001b[39m\u001b[38;5;124m\"\u001b[39m] \u001b[38;5;241m=\u001b[39m \u001b[38;5;28mself\u001b[39m\u001b[38;5;241m.\u001b[39m_unwrap_value(response\u001b[38;5;241m.\u001b[39mget(\u001b[38;5;124m\"\u001b[39m\u001b[38;5;124mvalue\u001b[39m\u001b[38;5;124m\"\u001b[39m, \u001b[38;5;28;01mNone\u001b[39;00m))\n\u001b[1;32m    442\u001b[0m     \u001b[38;5;28;01mreturn\u001b[39;00m response\n",
      "File \u001b[0;32m~/anaconda3/lib/python3.10/site-packages/selenium/webdriver/remote/errorhandler.py:245\u001b[0m, in \u001b[0;36mErrorHandler.check_response\u001b[0;34m(self, response)\u001b[0m\n\u001b[1;32m    243\u001b[0m         alert_text \u001b[38;5;241m=\u001b[39m value[\u001b[38;5;124m\"\u001b[39m\u001b[38;5;124malert\u001b[39m\u001b[38;5;124m\"\u001b[39m]\u001b[38;5;241m.\u001b[39mget(\u001b[38;5;124m\"\u001b[39m\u001b[38;5;124mtext\u001b[39m\u001b[38;5;124m\"\u001b[39m)\n\u001b[1;32m    244\u001b[0m     \u001b[38;5;28;01mraise\u001b[39;00m exception_class(message, screen, stacktrace, alert_text)  \u001b[38;5;66;03m# type: ignore[call-arg]  # mypy is not smart enough here\u001b[39;00m\n\u001b[0;32m--> 245\u001b[0m \u001b[38;5;28;01mraise\u001b[39;00m exception_class(message, screen, stacktrace)\n",
      "\u001b[0;31mNoSuchElementException\u001b[0m: Message: no such element: Unable to locate element: {\"method\":\"xpath\",\"selector\":\"//span[text()='&nbsp;&nbsp;&gt;&nbsp;&nbsp;']\"}\n  (Session info: chrome=117.0.5938.149)\nStacktrace:\n0   chromedriver                        0x000000010dea8638 chromedriver + 5002808\n1   chromedriver                        0x000000010de9fa53 chromedriver + 4966995\n2   chromedriver                        0x000000010da50a57 chromedriver + 449111\n3   chromedriver                        0x000000010da96d05 chromedriver + 736517\n4   chromedriver                        0x000000010da96ec1 chromedriver + 736961\n5   chromedriver                        0x000000010dadaf04 chromedriver + 1015556\n6   chromedriver                        0x000000010dabd41d chromedriver + 893981\n7   chromedriver                        0x000000010dad8391 chromedriver + 1004433\n8   chromedriver                        0x000000010dabd1c3 chromedriver + 893379\n9   chromedriver                        0x000000010da88df9 chromedriver + 679417\n10  chromedriver                        0x000000010da89fde chromedriver + 683998\n11  chromedriver                        0x000000010de652d9 chromedriver + 4727513\n12  chromedriver                        0x000000010de6a2de chromedriver + 4747998\n13  chromedriver                        0x000000010de282c9 chromedriver + 4477641\n14  chromedriver                        0x000000010de6b02d chromedriver + 4751405\n15  chromedriver                        0x000000010de3e0ec chromedriver + 4567276\n16  chromedriver                        0x000000010de887f8 chromedriver + 4872184\n17  chromedriver                        0x000000010de889b7 chromedriver + 4872631\n18  chromedriver                        0x000000010de98a1f chromedriver + 4938271\n19  libsystem_pthread.dylib             0x00007ff8046b24e1 _pthread_start + 125\n20  libsystem_pthread.dylib             0x00007ff8046adf6b thread_start + 15\n"
     ]
    }
   ],
   "source": [
    "element = driver.find_element(\"xpath\",\"//span[text()='&nbsp;&nbsp;&gt;&nbsp;&nbsp;']\")\n"
   ]
  },
  {
   "cell_type": "code",
   "execution_count": 40,
   "id": "c5ee5336-5abf-441e-8bbe-691b7185d5f5",
   "metadata": {
    "collapsed": true,
    "jupyter": {
     "outputs_hidden": true
    },
    "tags": []
   },
   "outputs": [
    {
     "ename": "InvalidSelectorException",
     "evalue": "Message: invalid selector: Unable to locate an element with the xpath expression //span[tittle()='Next Chapter'] because of the following error:\nSyntaxError: Failed to execute 'evaluate' on 'Document': The string '//span[tittle()='Next Chapter']' is not a valid XPath expression.\n  (Session info: chrome=117.0.5938.149)\nStacktrace:\n0   chromedriver                        0x0000000106dc5638 chromedriver + 5002808\n1   chromedriver                        0x0000000106dbca53 chromedriver + 4966995\n2   chromedriver                        0x000000010696da57 chromedriver + 449111\n3   chromedriver                        0x0000000106972d90 chromedriver + 470416\n4   chromedriver                        0x0000000106974f74 chromedriver + 479092\n5   chromedriver                        0x00000001069750bc chromedriver + 479420\n6   chromedriver                        0x00000001069b3ad5 chromedriver + 735957\n7   chromedriver                        0x00000001069b3ec1 chromedriver + 736961\n8   chromedriver                        0x00000001069f7f04 chromedriver + 1015556\n9   chromedriver                        0x00000001069da41d chromedriver + 893981\n10  chromedriver                        0x00000001069f5391 chromedriver + 1004433\n11  chromedriver                        0x00000001069da1c3 chromedriver + 893379\n12  chromedriver                        0x00000001069a5df9 chromedriver + 679417\n13  chromedriver                        0x00000001069a6fde chromedriver + 683998\n14  chromedriver                        0x0000000106d822d9 chromedriver + 4727513\n15  chromedriver                        0x0000000106d872de chromedriver + 4747998\n16  chromedriver                        0x0000000106d452c9 chromedriver + 4477641\n17  chromedriver                        0x0000000106d8802d chromedriver + 4751405\n18  chromedriver                        0x0000000106d5b0ec chromedriver + 4567276\n19  chromedriver                        0x0000000106da57f8 chromedriver + 4872184\n20  chromedriver                        0x0000000106da59b7 chromedriver + 4872631\n21  chromedriver                        0x0000000106db5a1f chromedriver + 4938271\n22  libsystem_pthread.dylib             0x00007ff8046b24e1 _pthread_start + 125\n23  libsystem_pthread.dylib             0x00007ff8046adf6b thread_start + 15\n",
     "output_type": "error",
     "traceback": [
      "\u001b[0;31m---------------------------------------------------------------------------\u001b[0m",
      "\u001b[0;31mInvalidSelectorException\u001b[0m                  Traceback (most recent call last)",
      "Cell \u001b[0;32mIn[40], line 1\u001b[0m\n\u001b[0;32m----> 1\u001b[0m element \u001b[38;5;241m=\u001b[39m \u001b[43mdriver\u001b[49m\u001b[38;5;241;43m.\u001b[39;49m\u001b[43mfind_element\u001b[49m\u001b[43m(\u001b[49m\u001b[38;5;124;43m\"\u001b[39;49m\u001b[38;5;124;43mxpath\u001b[39;49m\u001b[38;5;124;43m\"\u001b[39;49m\u001b[43m,\u001b[49m\u001b[38;5;124;43m\"\u001b[39;49m\u001b[38;5;124;43m//span[tittle()=\u001b[39;49m\u001b[38;5;124;43m'\u001b[39;49m\u001b[38;5;124;43mNext Chapter\u001b[39;49m\u001b[38;5;124;43m'\u001b[39;49m\u001b[38;5;124;43m]\u001b[39;49m\u001b[38;5;124;43m\"\u001b[39;49m\u001b[43m)\u001b[49m\n",
      "File \u001b[0;32m~/anaconda3/lib/python3.10/site-packages/selenium/webdriver/remote/webdriver.py:831\u001b[0m, in \u001b[0;36mWebDriver.find_element\u001b[0;34m(self, by, value)\u001b[0m\n\u001b[1;32m    828\u001b[0m     by \u001b[38;5;241m=\u001b[39m By\u001b[38;5;241m.\u001b[39mCSS_SELECTOR\n\u001b[1;32m    829\u001b[0m     value \u001b[38;5;241m=\u001b[39m \u001b[38;5;124mf\u001b[39m\u001b[38;5;124m'\u001b[39m\u001b[38;5;124m[name=\u001b[39m\u001b[38;5;124m\"\u001b[39m\u001b[38;5;132;01m{\u001b[39;00mvalue\u001b[38;5;132;01m}\u001b[39;00m\u001b[38;5;124m\"\u001b[39m\u001b[38;5;124m]\u001b[39m\u001b[38;5;124m'\u001b[39m\n\u001b[0;32m--> 831\u001b[0m \u001b[38;5;28;01mreturn\u001b[39;00m \u001b[38;5;28;43mself\u001b[39;49m\u001b[38;5;241;43m.\u001b[39;49m\u001b[43mexecute\u001b[49m\u001b[43m(\u001b[49m\u001b[43mCommand\u001b[49m\u001b[38;5;241;43m.\u001b[39;49m\u001b[43mFIND_ELEMENT\u001b[49m\u001b[43m,\u001b[49m\u001b[43m \u001b[49m\u001b[43m{\u001b[49m\u001b[38;5;124;43m\"\u001b[39;49m\u001b[38;5;124;43musing\u001b[39;49m\u001b[38;5;124;43m\"\u001b[39;49m\u001b[43m:\u001b[49m\u001b[43m \u001b[49m\u001b[43mby\u001b[49m\u001b[43m,\u001b[49m\u001b[43m \u001b[49m\u001b[38;5;124;43m\"\u001b[39;49m\u001b[38;5;124;43mvalue\u001b[39;49m\u001b[38;5;124;43m\"\u001b[39;49m\u001b[43m:\u001b[49m\u001b[43m \u001b[49m\u001b[43mvalue\u001b[49m\u001b[43m}\u001b[49m\u001b[43m)\u001b[49m[\u001b[38;5;124m\"\u001b[39m\u001b[38;5;124mvalue\u001b[39m\u001b[38;5;124m\"\u001b[39m]\n",
      "File \u001b[0;32m~/anaconda3/lib/python3.10/site-packages/selenium/webdriver/remote/webdriver.py:440\u001b[0m, in \u001b[0;36mWebDriver.execute\u001b[0;34m(self, driver_command, params)\u001b[0m\n\u001b[1;32m    438\u001b[0m response \u001b[38;5;241m=\u001b[39m \u001b[38;5;28mself\u001b[39m\u001b[38;5;241m.\u001b[39mcommand_executor\u001b[38;5;241m.\u001b[39mexecute(driver_command, params)\n\u001b[1;32m    439\u001b[0m \u001b[38;5;28;01mif\u001b[39;00m response:\n\u001b[0;32m--> 440\u001b[0m     \u001b[38;5;28;43mself\u001b[39;49m\u001b[38;5;241;43m.\u001b[39;49m\u001b[43merror_handler\u001b[49m\u001b[38;5;241;43m.\u001b[39;49m\u001b[43mcheck_response\u001b[49m\u001b[43m(\u001b[49m\u001b[43mresponse\u001b[49m\u001b[43m)\u001b[49m\n\u001b[1;32m    441\u001b[0m     response[\u001b[38;5;124m\"\u001b[39m\u001b[38;5;124mvalue\u001b[39m\u001b[38;5;124m\"\u001b[39m] \u001b[38;5;241m=\u001b[39m \u001b[38;5;28mself\u001b[39m\u001b[38;5;241m.\u001b[39m_unwrap_value(response\u001b[38;5;241m.\u001b[39mget(\u001b[38;5;124m\"\u001b[39m\u001b[38;5;124mvalue\u001b[39m\u001b[38;5;124m\"\u001b[39m, \u001b[38;5;28;01mNone\u001b[39;00m))\n\u001b[1;32m    442\u001b[0m     \u001b[38;5;28;01mreturn\u001b[39;00m response\n",
      "File \u001b[0;32m~/anaconda3/lib/python3.10/site-packages/selenium/webdriver/remote/errorhandler.py:245\u001b[0m, in \u001b[0;36mErrorHandler.check_response\u001b[0;34m(self, response)\u001b[0m\n\u001b[1;32m    243\u001b[0m         alert_text \u001b[38;5;241m=\u001b[39m value[\u001b[38;5;124m\"\u001b[39m\u001b[38;5;124malert\u001b[39m\u001b[38;5;124m\"\u001b[39m]\u001b[38;5;241m.\u001b[39mget(\u001b[38;5;124m\"\u001b[39m\u001b[38;5;124mtext\u001b[39m\u001b[38;5;124m\"\u001b[39m)\n\u001b[1;32m    244\u001b[0m     \u001b[38;5;28;01mraise\u001b[39;00m exception_class(message, screen, stacktrace, alert_text)  \u001b[38;5;66;03m# type: ignore[call-arg]  # mypy is not smart enough here\u001b[39;00m\n\u001b[0;32m--> 245\u001b[0m \u001b[38;5;28;01mraise\u001b[39;00m exception_class(message, screen, stacktrace)\n",
      "\u001b[0;31mInvalidSelectorException\u001b[0m: Message: invalid selector: Unable to locate an element with the xpath expression //span[tittle()='Next Chapter'] because of the following error:\nSyntaxError: Failed to execute 'evaluate' on 'Document': The string '//span[tittle()='Next Chapter']' is not a valid XPath expression.\n  (Session info: chrome=117.0.5938.149)\nStacktrace:\n0   chromedriver                        0x0000000106dc5638 chromedriver + 5002808\n1   chromedriver                        0x0000000106dbca53 chromedriver + 4966995\n2   chromedriver                        0x000000010696da57 chromedriver + 449111\n3   chromedriver                        0x0000000106972d90 chromedriver + 470416\n4   chromedriver                        0x0000000106974f74 chromedriver + 479092\n5   chromedriver                        0x00000001069750bc chromedriver + 479420\n6   chromedriver                        0x00000001069b3ad5 chromedriver + 735957\n7   chromedriver                        0x00000001069b3ec1 chromedriver + 736961\n8   chromedriver                        0x00000001069f7f04 chromedriver + 1015556\n9   chromedriver                        0x00000001069da41d chromedriver + 893981\n10  chromedriver                        0x00000001069f5391 chromedriver + 1004433\n11  chromedriver                        0x00000001069da1c3 chromedriver + 893379\n12  chromedriver                        0x00000001069a5df9 chromedriver + 679417\n13  chromedriver                        0x00000001069a6fde chromedriver + 683998\n14  chromedriver                        0x0000000106d822d9 chromedriver + 4727513\n15  chromedriver                        0x0000000106d872de chromedriver + 4747998\n16  chromedriver                        0x0000000106d452c9 chromedriver + 4477641\n17  chromedriver                        0x0000000106d8802d chromedriver + 4751405\n18  chromedriver                        0x0000000106d5b0ec chromedriver + 4567276\n19  chromedriver                        0x0000000106da57f8 chromedriver + 4872184\n20  chromedriver                        0x0000000106da59b7 chromedriver + 4872631\n21  chromedriver                        0x0000000106db5a1f chromedriver + 4938271\n22  libsystem_pthread.dylib             0x00007ff8046b24e1 _pthread_start + 125\n23  libsystem_pthread.dylib             0x00007ff8046adf6b thread_start + 15\n"
     ]
    }
   ],
   "source": [
    "element = driver.find_element(\"xpath\",\"//span[tittle()='Next Chapter']\")"
   ]
  },
  {
   "cell_type": "code",
   "execution_count": 34,
   "id": "4d354fe1-b335-453b-bf19-271f41be11ee",
   "metadata": {
    "collapsed": true,
    "jupyter": {
     "outputs_hidden": true
    },
    "tags": []
   },
   "outputs": [
    {
     "ename": "NoSuchElementException",
     "evalue": "Message: no such element: Unable to locate element: {\"method\":\"css selector\",\"selector\":\".button\"}\n  (Session info: chrome=117.0.5938.149)\nStacktrace:\n0   chromedriver                        0x0000000106dc5638 chromedriver + 5002808\n1   chromedriver                        0x0000000106dbca53 chromedriver + 4966995\n2   chromedriver                        0x000000010696da57 chromedriver + 449111\n3   chromedriver                        0x00000001069b3d05 chromedriver + 736517\n4   chromedriver                        0x00000001069b3ec1 chromedriver + 736961\n5   chromedriver                        0x00000001069f7f04 chromedriver + 1015556\n6   chromedriver                        0x00000001069da41d chromedriver + 893981\n7   chromedriver                        0x00000001069f5391 chromedriver + 1004433\n8   chromedriver                        0x00000001069da1c3 chromedriver + 893379\n9   chromedriver                        0x00000001069a5df9 chromedriver + 679417\n10  chromedriver                        0x00000001069a6fde chromedriver + 683998\n11  chromedriver                        0x0000000106d822d9 chromedriver + 4727513\n12  chromedriver                        0x0000000106d872de chromedriver + 4747998\n13  chromedriver                        0x0000000106d452c9 chromedriver + 4477641\n14  chromedriver                        0x0000000106d8802d chromedriver + 4751405\n15  chromedriver                        0x0000000106d5b0ec chromedriver + 4567276\n16  chromedriver                        0x0000000106da57f8 chromedriver + 4872184\n17  chromedriver                        0x0000000106da59b7 chromedriver + 4872631\n18  chromedriver                        0x0000000106db5a1f chromedriver + 4938271\n19  libsystem_pthread.dylib             0x00007ff8046b24e1 _pthread_start + 125\n20  libsystem_pthread.dylib             0x00007ff8046adf6b thread_start + 15\n",
     "output_type": "error",
     "traceback": [
      "\u001b[0;31m---------------------------------------------------------------------------\u001b[0m",
      "\u001b[0;31mNoSuchElementException\u001b[0m                    Traceback (most recent call last)",
      "Cell \u001b[0;32mIn[34], line 1\u001b[0m\n\u001b[0;32m----> 1\u001b[0m element \u001b[38;5;241m=\u001b[39m \u001b[43mdriver\u001b[49m\u001b[38;5;241;43m.\u001b[39;49m\u001b[43mfind_element\u001b[49m\u001b[43m(\u001b[49m\u001b[43mBy\u001b[49m\u001b[38;5;241;43m.\u001b[39;49m\u001b[43mCLASS_NAME\u001b[49m\u001b[43m,\u001b[49m\u001b[43m \u001b[49m\u001b[38;5;124;43m'\u001b[39;49m\u001b[38;5;124;43mbutton\u001b[39;49m\u001b[38;5;124;43m'\u001b[39;49m\u001b[43m)\u001b[49m\n\u001b[1;32m      2\u001b[0m element\u001b[38;5;241m.\u001b[39mclick()\n",
      "File \u001b[0;32m~/anaconda3/lib/python3.10/site-packages/selenium/webdriver/remote/webdriver.py:831\u001b[0m, in \u001b[0;36mWebDriver.find_element\u001b[0;34m(self, by, value)\u001b[0m\n\u001b[1;32m    828\u001b[0m     by \u001b[38;5;241m=\u001b[39m By\u001b[38;5;241m.\u001b[39mCSS_SELECTOR\n\u001b[1;32m    829\u001b[0m     value \u001b[38;5;241m=\u001b[39m \u001b[38;5;124mf\u001b[39m\u001b[38;5;124m'\u001b[39m\u001b[38;5;124m[name=\u001b[39m\u001b[38;5;124m\"\u001b[39m\u001b[38;5;132;01m{\u001b[39;00mvalue\u001b[38;5;132;01m}\u001b[39;00m\u001b[38;5;124m\"\u001b[39m\u001b[38;5;124m]\u001b[39m\u001b[38;5;124m'\u001b[39m\n\u001b[0;32m--> 831\u001b[0m \u001b[38;5;28;01mreturn\u001b[39;00m \u001b[38;5;28;43mself\u001b[39;49m\u001b[38;5;241;43m.\u001b[39;49m\u001b[43mexecute\u001b[49m\u001b[43m(\u001b[49m\u001b[43mCommand\u001b[49m\u001b[38;5;241;43m.\u001b[39;49m\u001b[43mFIND_ELEMENT\u001b[49m\u001b[43m,\u001b[49m\u001b[43m \u001b[49m\u001b[43m{\u001b[49m\u001b[38;5;124;43m\"\u001b[39;49m\u001b[38;5;124;43musing\u001b[39;49m\u001b[38;5;124;43m\"\u001b[39;49m\u001b[43m:\u001b[49m\u001b[43m \u001b[49m\u001b[43mby\u001b[49m\u001b[43m,\u001b[49m\u001b[43m \u001b[49m\u001b[38;5;124;43m\"\u001b[39;49m\u001b[38;5;124;43mvalue\u001b[39;49m\u001b[38;5;124;43m\"\u001b[39;49m\u001b[43m:\u001b[49m\u001b[43m \u001b[49m\u001b[43mvalue\u001b[49m\u001b[43m}\u001b[49m\u001b[43m)\u001b[49m[\u001b[38;5;124m\"\u001b[39m\u001b[38;5;124mvalue\u001b[39m\u001b[38;5;124m\"\u001b[39m]\n",
      "File \u001b[0;32m~/anaconda3/lib/python3.10/site-packages/selenium/webdriver/remote/webdriver.py:440\u001b[0m, in \u001b[0;36mWebDriver.execute\u001b[0;34m(self, driver_command, params)\u001b[0m\n\u001b[1;32m    438\u001b[0m response \u001b[38;5;241m=\u001b[39m \u001b[38;5;28mself\u001b[39m\u001b[38;5;241m.\u001b[39mcommand_executor\u001b[38;5;241m.\u001b[39mexecute(driver_command, params)\n\u001b[1;32m    439\u001b[0m \u001b[38;5;28;01mif\u001b[39;00m response:\n\u001b[0;32m--> 440\u001b[0m     \u001b[38;5;28;43mself\u001b[39;49m\u001b[38;5;241;43m.\u001b[39;49m\u001b[43merror_handler\u001b[49m\u001b[38;5;241;43m.\u001b[39;49m\u001b[43mcheck_response\u001b[49m\u001b[43m(\u001b[49m\u001b[43mresponse\u001b[49m\u001b[43m)\u001b[49m\n\u001b[1;32m    441\u001b[0m     response[\u001b[38;5;124m\"\u001b[39m\u001b[38;5;124mvalue\u001b[39m\u001b[38;5;124m\"\u001b[39m] \u001b[38;5;241m=\u001b[39m \u001b[38;5;28mself\u001b[39m\u001b[38;5;241m.\u001b[39m_unwrap_value(response\u001b[38;5;241m.\u001b[39mget(\u001b[38;5;124m\"\u001b[39m\u001b[38;5;124mvalue\u001b[39m\u001b[38;5;124m\"\u001b[39m, \u001b[38;5;28;01mNone\u001b[39;00m))\n\u001b[1;32m    442\u001b[0m     \u001b[38;5;28;01mreturn\u001b[39;00m response\n",
      "File \u001b[0;32m~/anaconda3/lib/python3.10/site-packages/selenium/webdriver/remote/errorhandler.py:245\u001b[0m, in \u001b[0;36mErrorHandler.check_response\u001b[0;34m(self, response)\u001b[0m\n\u001b[1;32m    243\u001b[0m         alert_text \u001b[38;5;241m=\u001b[39m value[\u001b[38;5;124m\"\u001b[39m\u001b[38;5;124malert\u001b[39m\u001b[38;5;124m\"\u001b[39m]\u001b[38;5;241m.\u001b[39mget(\u001b[38;5;124m\"\u001b[39m\u001b[38;5;124mtext\u001b[39m\u001b[38;5;124m\"\u001b[39m)\n\u001b[1;32m    244\u001b[0m     \u001b[38;5;28;01mraise\u001b[39;00m exception_class(message, screen, stacktrace, alert_text)  \u001b[38;5;66;03m# type: ignore[call-arg]  # mypy is not smart enough here\u001b[39;00m\n\u001b[0;32m--> 245\u001b[0m \u001b[38;5;28;01mraise\u001b[39;00m exception_class(message, screen, stacktrace)\n",
      "\u001b[0;31mNoSuchElementException\u001b[0m: Message: no such element: Unable to locate element: {\"method\":\"css selector\",\"selector\":\".button\"}\n  (Session info: chrome=117.0.5938.149)\nStacktrace:\n0   chromedriver                        0x0000000106dc5638 chromedriver + 5002808\n1   chromedriver                        0x0000000106dbca53 chromedriver + 4966995\n2   chromedriver                        0x000000010696da57 chromedriver + 449111\n3   chromedriver                        0x00000001069b3d05 chromedriver + 736517\n4   chromedriver                        0x00000001069b3ec1 chromedriver + 736961\n5   chromedriver                        0x00000001069f7f04 chromedriver + 1015556\n6   chromedriver                        0x00000001069da41d chromedriver + 893981\n7   chromedriver                        0x00000001069f5391 chromedriver + 1004433\n8   chromedriver                        0x00000001069da1c3 chromedriver + 893379\n9   chromedriver                        0x00000001069a5df9 chromedriver + 679417\n10  chromedriver                        0x00000001069a6fde chromedriver + 683998\n11  chromedriver                        0x0000000106d822d9 chromedriver + 4727513\n12  chromedriver                        0x0000000106d872de chromedriver + 4747998\n13  chromedriver                        0x0000000106d452c9 chromedriver + 4477641\n14  chromedriver                        0x0000000106d8802d chromedriver + 4751405\n15  chromedriver                        0x0000000106d5b0ec chromedriver + 4567276\n16  chromedriver                        0x0000000106da57f8 chromedriver + 4872184\n17  chromedriver                        0x0000000106da59b7 chromedriver + 4872631\n18  chromedriver                        0x0000000106db5a1f chromedriver + 4938271\n19  libsystem_pthread.dylib             0x00007ff8046b24e1 _pthread_start + 125\n20  libsystem_pthread.dylib             0x00007ff8046adf6b thread_start + 15\n"
     ]
    }
   ],
   "source": [
    "element = driver.find_element(By.CLASS_NAME, 'button')\n",
    "element.click()"
   ]
  },
  {
   "cell_type": "code",
   "execution_count": null,
   "id": "124c5f8c-7e6c-45e4-b335-8745ef49551e",
   "metadata": {},
   "outputs": [],
   "source": [
    "<a href=\"01-GEN-002.html\" title=\"Next Chapter\">&nbsp;&nbsp;&gt;&nbsp;&nbsp;</a>"
   ]
  },
  {
   "cell_type": "code",
   "execution_count": null,
   "id": "f900b5f7-abd5-47e1-9f9e-1d61529e1584",
   "metadata": {},
   "outputs": [],
   "source": [
    "<span class=\"button\"><a href=\"01-GEN-002.html\" title=\"Next Chapter\">&nbsp;&nbsp;&gt;&nbsp;&nbsp;</a></span>"
   ]
  }
 ],
 "metadata": {
  "kernelspec": {
   "display_name": "Python 3 (ipykernel)",
   "language": "python",
   "name": "python3"
  },
  "language_info": {
   "codemirror_mode": {
    "name": "ipython",
    "version": 3
   },
   "file_extension": ".py",
   "mimetype": "text/x-python",
   "name": "python",
   "nbconvert_exporter": "python",
   "pygments_lexer": "ipython3",
   "version": "3.10.9"
  }
 },
 "nbformat": 4,
 "nbformat_minor": 5
}
