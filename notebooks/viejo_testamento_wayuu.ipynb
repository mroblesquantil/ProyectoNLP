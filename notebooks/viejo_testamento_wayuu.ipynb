{
 "cells": [
  {
   "cell_type": "markdown",
   "metadata": {},
   "source": [
    "# Librería"
   ]
  },
  {
   "cell_type": "code",
   "execution_count": 151,
   "metadata": {},
   "outputs": [],
   "source": [
    "import re \n",
    "import pickle\n",
    "import numpy as np\n",
    "from glob import glob"
   ]
  },
  {
   "cell_type": "markdown",
   "metadata": {},
   "source": [
    "# Limpieza de textos"
   ]
  },
  {
   "cell_type": "markdown",
   "metadata": {},
   "source": [
    "## Limpieza números wayuu"
   ]
  },
  {
   "cell_type": "code",
   "execution_count": 152,
   "metadata": {},
   "outputs": [],
   "source": [
    "numeros = {'147': 'po’loo shikii, pienchi shikii akaraishimüin',\n",
    "           '130': 'po’loo shikii, apünüinmüin shikii',\n",
    "           '500': 'ja’raitua po’looin shikii',\n",
    "           '207': 'piantua po’looin shikii akaraishimüin',\n",
    "           '209': 'piantua po’looin shikii mekie’etasalümüin',\n",
    "           '200': 'piantua po’looin shikii',\n",
    "           '119': 'po’loo shikii, po’loo mekie’etasalümüin',\n",
    "           '403': 'pienchitua po’looin shikii apünüinmüin',\n",
    "           '318': 'apünüintua po’looin shikii, po’loo mekiisalümüin',\n",
    "           '400': 'pienchitua po’looin shikii',\n",
    "           '1000': 'miirü',\n",
    "           '950': 'mekie’etasattua po’looin shikii, ja’raimüin shikii',\n",
    "           '601': 'aipiruatua po’looin shikii waneeshimüin',\n",
    "           '175': 'po’loo shikii, akaraishi shikii ja’ralimüin',\n",
    "           '969': 'mekie’etasattua po’looin shikii, aipirua shikii mekie’etasalümüin', \n",
    "           '300': 'apünüintua po’looin shikii',\n",
    "           '430': 'pienchitua po’looin shikii, apünüinmüin shikii',\n",
    "           '180': 'po’loo shikii, mekiisalümüin shikii',\n",
    "           '962': 'mekie’etasattua po’looin shikii, aipirua shikii piamamüin',\n",
    "           '350': 'apünüintua po’looin shikii, ja’raimüin shikii',\n",
    "           '205': 'piantua po’looin shikii ja’ralimüin',\n",
    "           '100': 'po’loo shikii',\n",
    "           '930': 'mekie’etasattua po’looin shikii, apünüinmüin shikii',\n",
    "           '600': 'aipiruatua po’looin shikii',\n",
    "           '912': 'mekie’etasattua po’looin shikii, po’loo piamamüin',\n",
    "           '910': 'mekie’etasattua po’looin shikii, po’loomüin',\n",
    "           '905': 'mekie’etasattua po’looin shikii ja’ralimüin',\n",
    "           '895': 'mekiisattua po’looin shikii, mekie’etasalü shikii ja’ralimüin',\n",
    "           '840': 'mekiisattua po’looin shikii, pienchimüin shikii',\n",
    "           '150': 'po’loo shikii, ja’raimüin shikii',\n",
    "           '830': 'mekiisattua po’looin shikii, apünüinmüin shikii',\n",
    "           '815': 'mekiisattua po’looin shikii, po’loo ja’ralimüin',\n",
    "           '127': 'po’loo shikii, piama shikii akaraishimüin',\n",
    "           '807': 'mekiisattua po’looin shikii akaraishimüin',\n",
    "           '800': 'mekiisattua po’looin shikii',\n",
    "           '782': 'akaraishitua po’looin shikii, mekiisalü shikii piamamüin', \n",
    "           '110': 'po’loo shikii, po’loomüin',\n",
    "           '140': 'po’loo shikii, pienchimüin shikii',\n",
    "           '120': 'po’loo shikii, piamamüin shikii',\n",
    "           '777': 'akaraishitua po’looin shikii, akaraishi shikii akaraishimüin',\n",
    "           '595': 'ja’raitua po’looin shikii, mekie’etasalü shikii ja’ralimüin',\n",
    "           '365': 'apünüintua po’looin shikii, aipirua shikii ja’ralimüin',\n",
    "           '187': 'po’loo shikii, mekiisalü shikii akaraishimüin',\n",
    "           '182': 'po’loo shikii, mekiisalü shikii piamamüin',\n",
    "           '162': 'po’loo shikii, aipirua shikii piamamüin',\n",
    "           '105': 'po’loo shikii ja’ralimüin',\n",
    "           '137': 'po’loo shikii, apünüin shikii akaraishimüin'}\n",
    "\n",
    "patron_eliminar = r'\\d+:\\d+-\\d+'\n",
    "\n",
    "for f in glob('../data/biblia/Genesis/*wayuu.txt'):\n",
    "    with open(f, 'r') as file:\n",
    "        text = ''.join(file.readlines())\n",
    "    \n",
    "    text = re.sub(patron_eliminar, '', text)\n",
    "    for n, c in numeros.items():\n",
    "        text = text.replace(n, c)\n",
    "\n",
    "    with open(f, 'w') as file:\n",
    "        file.write(text)"
   ]
  },
  {
   "cell_type": "code",
   "execution_count": 153,
   "metadata": {},
   "outputs": [
    {
     "name": "stdout",
     "output_type": "stream",
     "text": [
      "Numeros que no aparecen ../data/biblia/Genesis\\GEN 2 - esp.txt: \n",
      "-- 12\n",
      "Numeros que no aparecen ../data/biblia/Genesis\\GEN 24 - esp.txt: \n",
      "-- 29\n"
     ]
    }
   ],
   "source": [
    "fn = glob('../data/biblia/Genesis/*.txt')\n",
    "\n",
    "for f in fn:\n",
    "    with open(f, 'r') as file:\n",
    "        text = ''.join(file.readlines())\n",
    "    \n",
    "    numero_versiculos = np.array([int(i) for i in re.findall(r'(\\d+)', text)])\n",
    "    numero_versiculos_esperados = range(1, np.max(numero_versiculos)+1)\n",
    "\n",
    "    l = []\n",
    "    for n in numero_versiculos_esperados:\n",
    "        if not n in numero_versiculos:  l.append(n)\n",
    "    \n",
    "    if len(l) > 0:\n",
    "        print(f'Numeros que no aparecen {f}: \\n-- {np.max(l)}')\n",
    "    \n",
    "    demas = set(numero_versiculos) - set(numero_versiculos_esperados)\n",
    "    if len(demas) > 0: \n",
    "        print(f'Números raros: {f} \\n-- {demas}')"
   ]
  },
  {
   "cell_type": "code",
   "execution_count": 154,
   "metadata": {},
   "outputs": [],
   "source": [
    "fn = glob('../data/biblia/Genesis/*esp.txt')\n",
    "\n",
    "for f in fn:\n",
    "    with open(f, 'r') as file:\n",
    "        text = file.readlines()\n",
    "\n",
    "    text = [l[1:] if l[0] == ' ' else l for l in text]\n",
    "\n",
    "    with open(f, 'w') as file:\n",
    "        file.write(''.join(text))"
   ]
  },
  {
   "cell_type": "markdown",
   "metadata": {},
   "source": [
    "## Limpieza versículos pegados - Español "
   ]
  },
  {
   "cell_type": "code",
   "execution_count": 158,
   "metadata": {},
   "outputs": [
    {
     "name": "stdout",
     "output_type": "stream",
     "text": [
      "Modificación de archivo ../data/biblia/Genesis\\GEN 2 - wayuu.txt\n",
      "Modificación de archivo ../data/biblia/Genesis\\GEN 24 - wayuu.txt\n"
     ]
    }
   ],
   "source": [
    "fn = glob('../data/biblia/Genesis/*esp.txt')\n",
    "\n",
    "for f in fn:\n",
    "    with open(f, 'r') as file:\n",
    "        text_esp = ''.join(file.readlines())\n",
    "    numero_versiculos = np.array([int(i) for i in re.findall(r'(\\d+)', text_esp)])\n",
    "    numero_versiculos_esperados = range(1, np.max(numero_versiculos)+1)\n",
    "\n",
    "    l = []\n",
    "    for n in numero_versiculos_esperados:\n",
    "        if not n in numero_versiculos:  l.append(n)\n",
    "\n",
    "    if len(l) > 0:\n",
    "        f = f.replace('esp', 'wayuu')\n",
    "        with open(f, 'r') as file:\n",
    "            text_wayuu = file.readlines()\n",
    "\n",
    "        new_wayuu = []\n",
    "        for line in text_wayuu:\n",
    "            for n in l:\n",
    "                if not line.startswith(str(n)):\n",
    "                    new_wayuu.append(line)\n",
    "\n",
    "        with open(f, 'w') as file:\n",
    "            file.write(''.join(new_wayuu))\n",
    "\n",
    "        print(f'Modificación de archivo {f}')"
   ]
  },
  {
   "cell_type": "markdown",
   "metadata": {},
   "source": [
    "## Limpieza versículos pegados - Wayuu"
   ]
  },
  {
   "cell_type": "code",
   "execution_count": 159,
   "metadata": {},
   "outputs": [],
   "source": [
    "# Si no aparece el versículo en wayuu, se borra el número en español \n",
    "# eso significa que el anterior versículo tiene la información de ambos y se combinan\n",
    "\n",
    "fn = glob('../data/biblia/Genesis/*wayuu.txt')\n",
    "\n",
    "for f in fn:\n",
    "    with open(f, 'r') as file:\n",
    "        wayuu = file.readlines()\n",
    "    with open(f.replace('wayuu', 'esp'), 'r') as file:\n",
    "        esp = ''.join(file.readlines())\n",
    "\n",
    "    versiculos_quitar = []\n",
    "    wayuu_clean = []\n",
    "    for line in wayuu:\n",
    "        q = re.findall(r'(\\d+)  —', line)\n",
    "        if len(q) > 0:  versiculos_quitar += q\n",
    "        else: wayuu_clean.append(line)\n",
    "    wayuu_clean = ''.join(wayuu_clean)\n",
    "\n",
    "    for q in versiculos_quitar: esp = esp.replace(q, '', 1) \n",
    "\n",
    "    with open(f, 'w') as file:\n",
    "        file.write(wayuu_clean)\n",
    "    with open(f.replace('wayuu', 'esp'), 'w') as file:\n",
    "        file.write(esp)"
   ]
  },
  {
   "cell_type": "markdown",
   "metadata": {},
   "source": [
    "# Merge entre español y wayuu"
   ]
  },
  {
   "cell_type": "code",
   "execution_count": 160,
   "metadata": {},
   "outputs": [],
   "source": [
    "def limpiar_text(text: str)-> str:\n",
    "    text = text.strip()\n",
    "    text = text.replace('(','').replace(')', '')\n",
    "    text = re.sub(r'\\s+', ' ', text)\n",
    "\n",
    "    text = re.sub(r'\\s+[bcd]+\\s+', ' ', text)\n",
    "    text = re.sub(r' a ([A-Z])', r' \\1', text)\n",
    "    return text"
   ]
  },
  {
   "cell_type": "code",
   "execution_count": 161,
   "metadata": {},
   "outputs": [],
   "source": [
    "def partir_versiculos(text: str) -> list:\n",
    "    versiculos = np.array([int(i) for i in re.findall(r'\\n(\\d+)', text)])\n",
    "    versiculos = range(1, np.max(versiculos)+1)\n",
    "\n",
    "    versiculos_idioma = []\n",
    "\n",
    "    for i in versiculos[:-1]:\n",
    "        if i ==  versiculos[-1]:\n",
    "            ver = '\\n '.join(text.split('\\n' + str(i))[1:])\n",
    "        else:\n",
    "            ver = '\\n '.join(text.split('\\n' + str(i))[1:])\n",
    "            ver = ver.split('\\n' + str(i+1))[0]\n",
    "    \n",
    "        ver = limpiar_text(ver)\n",
    "        versiculos_idioma.append(ver)\n",
    "    \n",
    "    return versiculos_idioma"
   ]
  },
  {
   "cell_type": "code",
   "execution_count": 163,
   "metadata": {},
   "outputs": [],
   "source": [
    "path = '../data/biblia/Genesis/'\n",
    "\n",
    "traduccion = []\n",
    "for i in range(1,51):\n",
    "    with open(path + f'GEN {i} - esp.txt', 'r') as f:\n",
    "        esp = ''.join(f.readlines())\n",
    "    with open(path + f'GEN {i} - wayuu.txt', 'r') as f:\n",
    "        wayuu = ''.join(f.readlines())\n",
    "\n",
    "    wayuu = partir_versiculos(wayuu)\n",
    "    esp = partir_versiculos(esp)\n",
    "\n",
    "    if len(wayuu) == len(esp):\n",
    "        for w, e in zip(wayuu, esp): \n",
    "            traduccion.append({'wayuu': w, 'esp': e})\n",
    "    else:\n",
    "        print(f'Revisar cap {i} de GEN',  len(wayuu), len(esp))\n",
    "\n",
    "with open(path + 'results.pickle', 'wb') as f:\n",
    "    pickle.dump(traduccion, f)"
   ]
  }
 ],
 "metadata": {
  "kernelspec": {
   "display_name": "env_bid_ja",
   "language": "python",
   "name": "python3"
  },
  "language_info": {
   "codemirror_mode": {
    "name": "ipython",
    "version": 3
   },
   "file_extension": ".py",
   "mimetype": "text/x-python",
   "name": "python",
   "nbconvert_exporter": "python",
   "pygments_lexer": "ipython3",
   "version": "3.10.4"
  }
 },
 "nbformat": 4,
 "nbformat_minor": 2
}
