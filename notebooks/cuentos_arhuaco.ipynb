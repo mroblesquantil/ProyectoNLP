{
 "cells": [
  {
   "cell_type": "markdown",
   "metadata": {},
   "source": [
    "# Librerías"
   ]
  },
  {
   "cell_type": "code",
   "execution_count": 89,
   "metadata": {},
   "outputs": [],
   "source": [
    "import PyPDF2\n",
    "import pandas as pd\n",
    "import re"
   ]
  },
  {
   "cell_type": "markdown",
   "metadata": {},
   "source": [
    "# Texto procesado"
   ]
  },
  {
   "cell_type": "code",
   "execution_count": 1,
   "metadata": {},
   "outputs": [],
   "source": [
    "with open('../data/cuentos/Cantos_Traducidos_Sierra_Arhuaco.txt', 'r') as f:\n",
    "    cuentos_txt = ''.join(f.readlines())"
   ]
  },
  {
   "cell_type": "code",
   "execution_count": 2,
   "metadata": {},
   "outputs": [
    {
     "data": {
      "text/plain": [
       "19"
      ]
     },
     "execution_count": 2,
     "metadata": {},
     "output_type": "execute_result"
    }
   ],
   "source": [
    "cuentos = cuentos_txt.split('----------\\n')[1:]\n",
    "len(cuentos)"
   ]
  },
  {
   "cell_type": "code",
   "execution_count": 3,
   "metadata": {},
   "outputs": [],
   "source": [
    "traducciones = []\n",
    "\n",
    "for cuento in cuentos:\n",
    "    partes = cuento.split('\\n')\n",
    "\n",
    "    # Titulos\n",
    "    titulo_esp = partes[0][3:]\n",
    "    titulo_arh = partes[1][3:]\n",
    "\n",
    "    traducciones.append({'esp': titulo_esp, 'arh': titulo_arh})\n",
    "\n",
    "    partes = '\\n'.join(partes[2:])\n",
    "    partes = partes.split('\\n\\n')[:-1]\n",
    "\n",
    "    cuento_arh = ' '.join(partes[0].split('\\n')).strip()\n",
    "    cuento_esp = ' '.join(partes[1].split('\\n')).strip()\n",
    "\n",
    "    if len(cuento_arh.split('.')) == len(cuento_esp.split('.')):\n",
    "        partes_cuento_arh = cuento_arh.split('.')\n",
    "        partes_cuento_esp = cuento_esp.split('.')\n",
    "        for a, e in zip(partes_cuento_arh, partes_cuento_esp):\n",
    "            a = a.strip()\n",
    "            e = e.strip()\n",
    "            traducciones.append({'esp': e, 'arh': a})\n",
    "\n",
    "    else:\n",
    "        traducciones.append({'esp': cuento_esp, 'arh': cuento_arh})\n"
   ]
  },
  {
   "cell_type": "code",
   "execution_count": null,
   "metadata": {},
   "outputs": [],
   "source": [
    "df = pd.DataFrame(traducciones)\n",
    "df = df[df.esp!='']"
   ]
  },
  {
   "cell_type": "code",
   "execution_count": null,
   "metadata": {},
   "outputs": [],
   "source": [
    "df.to_csv('../data/cuentos/result.csv', index = None)"
   ]
  },
  {
   "cell_type": "markdown",
   "metadata": {},
   "source": [
    "# Lectura de datos"
   ]
  },
  {
   "cell_type": "code",
   "execution_count": 2,
   "metadata": {},
   "outputs": [],
   "source": [
    "# Abre el archivo PDF en modo lectura binaria\n",
    "with open('../data/cuentos/Cantos_Traducidos_Sierra_Arhuaco.pdf', 'rb') as pdf_file:\n",
    "    # Crea un objeto PdfFileReader\n",
    "    pdf_reader = PyPDF2.PdfFileReader(pdf_file)\n",
    "    texto_del_pdf = ''\n",
    "\n",
    "    # Las primeras 19 páginas no nos interesan\n",
    "    paginas = []\n",
    "    for pagina in range(18, pdf_reader.numPages):\n",
    "        pagina_actual = pdf_reader.getPage(pagina)\n",
    "        paginas.append(pagina_actual.extractText())"
   ]
  },
  {
   "cell_type": "markdown",
   "metadata": {},
   "source": [
    "# Poema Hoja seca"
   ]
  },
  {
   "cell_type": "code",
   "execution_count": 3,
   "metadata": {},
   "outputs": [],
   "source": [
    "# Poema en Arhuaco \n",
    "titulo_arhuaco = 'Kun zachu jomu'.lower()\n",
    "poema_arhuaco = ' '.join(paginas[0].split('Hoja')[0].split('\\n')[1:])\n",
    "poema_arhuaco = re.sub(r'\\s+', ' ', poema_arhuaco).strip()\n",
    "poema_arhuaco = poema_arhuaco.lower()"
   ]
  },
  {
   "cell_type": "code",
   "execution_count": 4,
   "metadata": {},
   "outputs": [],
   "source": [
    "# Poema español\n",
    "titulo_esp = 'Hoja seca'.lower()\n",
    "poema_esp = titulo_esp + paginas[0].split('Hoja seca')[2:][0]\n",
    "poema_esp = poema_esp.split('AUTORA')[0]\n",
    "poema_esp = re.sub(r'\\s+', ' ', poema_esp).strip()\n",
    "poema_esp = poema_esp.lower()"
   ]
  },
  {
   "cell_type": "code",
   "execution_count": 5,
   "metadata": {},
   "outputs": [],
   "source": [
    "poema_hoja_seca = {'titulo_esp': titulo_esp,\n",
    "                   'titulo_ar': titulo_arhuaco,\n",
    "                   'poema_esp': poema_esp,\n",
    "                   'poema_ar': poema_arhuaco}"
   ]
  },
  {
   "cell_type": "markdown",
   "metadata": {},
   "source": [
    "# Poema pajarito pintor"
   ]
  },
  {
   "cell_type": "code",
   "execution_count": 6,
   "metadata": {},
   "outputs": [],
   "source": [
    "# Poema español\n",
    "titulo_esp = 'El pajarito pintor'.lower()\n",
    "poema_esp = '\\n'.join(paginas[1].split('Sisio')[0].split('\\n')[2:])\n",
    "poema_esp = re.sub(r'\\s+', ' ', poema_esp).strip()\n",
    "poema_esp = poema_esp.lower()"
   ]
  },
  {
   "cell_type": "code",
   "execution_count": 7,
   "metadata": {},
   "outputs": [],
   "source": [
    "# Poema en Arhuaco \n",
    "titulo_arhuaco = 'Sisio inu  guwa nu nna'.lower()\n",
    "poema_arhuaco = paginas[1].split('Sisio inu  guwa nu nna')[1].split('AUTORA')[0]\n",
    "poema_arhuaco = re.sub(r'\\s+', ' ', poema_arhuaco).strip()\n",
    "poema_arhuaco = poema_arhuaco.lower()"
   ]
  },
  {
   "cell_type": "code",
   "execution_count": 8,
   "metadata": {},
   "outputs": [],
   "source": [
    "poema_pajarito_pintor = {'titulo_esp': titulo_esp,\n",
    "                   'titulo_ar': titulo_arhuaco,\n",
    "                   'poema_esp': poema_esp,\n",
    "                   'poema_ar': poema_arhuaco}"
   ]
  },
  {
   "cell_type": "markdown",
   "metadata": {},
   "source": [
    "# Poema el sol"
   ]
  },
  {
   "cell_type": "code",
   "execution_count": 9,
   "metadata": {},
   "outputs": [],
   "source": [
    "# Poema español\n",
    "titulo_esp = 'El Sol'.lower()\n",
    "poema_esp = '\\n'.join(paginas[4].split('El Sol')[1].split('\\n')[1:]).split('AUTORA')[0]\n",
    "poema_esp = re.sub(r'\\s+', ' ', poema_esp).strip()\n",
    "poema_esp = poema_esp.lower()"
   ]
  },
  {
   "cell_type": "code",
   "execution_count": 10,
   "metadata": {},
   "outputs": [],
   "source": [
    "# Poema en Arhuaco \n",
    "titulo_arhuaco = 'Kaku  Bunkwakukwi'.lower()\n",
    "poema_arhuaco = paginas[4].split('El Sol')[0].split('Kaku  Bunkwakukwi')[1]\n",
    "poema_arhuaco = re.sub(r'\\s+', ' ', poema_arhuaco).strip()\n",
    "poema_arhuaco = poema_arhuaco.lower()"
   ]
  },
  {
   "cell_type": "code",
   "execution_count": 11,
   "metadata": {},
   "outputs": [],
   "source": [
    "poema_el_sol = {'titulo_esp': titulo_esp,\n",
    "                   'titulo_ar': titulo_arhuaco,\n",
    "                   'poema_esp': poema_esp,\n",
    "                   'poema_ar': poema_arhuaco}"
   ]
  },
  {
   "cell_type": "markdown",
   "metadata": {},
   "source": [
    "# Poema vestido de paloma"
   ]
  },
  {
   "cell_type": "code",
   "execution_count": 12,
   "metadata": {},
   "outputs": [],
   "source": [
    "# Poema español\n",
    "titulo_esp = 'Vestido de paloma'.lower()\n",
    "poema_esp = '\\n'.join(paginas[6].split('Vestido de paloma')[1].split('\\n')[1:])\n",
    "poema_esp = re.sub(r'\\s+', ' ', poema_esp).strip()\n",
    "poema_esp = poema_esp.lower()"
   ]
  },
  {
   "cell_type": "code",
   "execution_count": 13,
   "metadata": {},
   "outputs": [],
   "source": [
    "# Poema arhuaco\n",
    "titulo_arhuaco = 'Paroma zumuku'.lower()\n",
    "poema_arhuaco = titulo_arhuaco.join(paginas[5].split('Paroma zu muku')[1:]).split('AUTORA')[0]\n",
    "poema_arhuaco = re.sub(r'\\s+', ' ', poema_arhuaco).strip()\n",
    "poema_arhuaco = poema_arhuaco.lower()"
   ]
  },
  {
   "cell_type": "code",
   "execution_count": 14,
   "metadata": {},
   "outputs": [],
   "source": [
    "poema_vestido_de_paloma = {'titulo_esp': titulo_esp,\n",
    "                   'titulo_ar': titulo_arhuaco,\n",
    "                   'poema_esp': poema_esp,\n",
    "                   'poema_ar': poema_arhuaco}"
   ]
  },
  {
   "cell_type": "markdown",
   "metadata": {},
   "source": [
    "# Poema sol amigo"
   ]
  },
  {
   "cell_type": "code",
   "execution_count": 15,
   "metadata": {},
   "outputs": [],
   "source": [
    "# Poema español\n",
    "titulo_esp = 'Sol amigo'.lower()\n",
    "poema_esp = '\\n'.join(paginas[8].split('Sol amigo')[1].split('\\n')[1:]).split('Nunjúnku')[0]\n",
    "poema_esp = re.sub(r'\\s+', ' ', poema_esp).strip()\n",
    "poema_esp = poema_esp.lower()"
   ]
  },
  {
   "cell_type": "code",
   "execution_count": 16,
   "metadata": {},
   "outputs": [],
   "source": [
    "# Poema arhuaco\n",
    "titulo_arhuaco = 'Nunjúnku nu  Bunkwakukwi'.lower()\n",
    "poema_arhuaco = titulo_arhuaco.join(paginas[8].split('Nunjúnku nu  Bunkwakukwi')[1:]).split('AUTOR')[0]\n",
    "poema_arhuaco = re.sub(r'\\s+', ' ', poema_arhuaco).strip()\n",
    "poema_arhuaco = poema_arhuaco.lower()"
   ]
  },
  {
   "cell_type": "code",
   "execution_count": 17,
   "metadata": {},
   "outputs": [],
   "source": [
    "poema_sol_amigo = {'titulo_esp': titulo_esp,\n",
    "                   'titulo_ar': titulo_arhuaco,\n",
    "                   'poema_esp': poema_esp,\n",
    "                   'poema_ar': poema_arhuaco}"
   ]
  },
  {
   "cell_type": "markdown",
   "metadata": {},
   "source": [
    "# Poema Oh naturaleza"
   ]
  },
  {
   "cell_type": "code",
   "execution_count": 18,
   "metadata": {},
   "outputs": [],
   "source": [
    "# Poema español\n",
    "titulo_esp = '¡Oh, naturaleza!'.lower()\n",
    "poema_esp = titulo_esp + ' ' + paginas[10].split('¡Oh, naturaleza!')[2]\n",
    "poema_esp = re.sub(r'\\s+', ' ', poema_esp).strip()\n",
    "poema_esp = poema_esp.lower()"
   ]
  },
  {
   "cell_type": "code",
   "execution_count": 19,
   "metadata": {},
   "outputs": [],
   "source": [
    "# Poema arhuaco\n",
    "titulo_arhuaco = 'Ka’se Chwu zuneyka'.lower()\n",
    "poema_arhuaco = ' '.join(paginas[9].split('zuneyka')[1:]).split('AUTOR')[0]\n",
    "poema_arhuaco = re.sub(r'\\s+', ' ', poema_arhuaco).strip()\n",
    "poema_arhuaco = poema_arhuaco.lower()"
   ]
  },
  {
   "cell_type": "code",
   "execution_count": 20,
   "metadata": {},
   "outputs": [],
   "source": [
    "poema_oh_naturaleza = {'titulo_esp': titulo_esp,\n",
    "                   'titulo_ar': titulo_arhuaco,\n",
    "                   'poema_esp': poema_esp,\n",
    "                   'poema_ar': poema_arhuaco}"
   ]
  },
  {
   "cell_type": "markdown",
   "metadata": {},
   "source": [
    "# Poema Tu, lluvia"
   ]
  },
  {
   "cell_type": "code",
   "execution_count": 21,
   "metadata": {},
   "outputs": [],
   "source": [
    "# Poema español\n",
    "titulo_esp = 'Tú, lluvia'.lower()\n",
    "poema_esp = titulo_esp + ' ' + paginas[12].split('Tú, lluvia')[1]\n",
    "poema_esp = re.sub(r'\\s+', ' ', poema_esp).strip()\n",
    "poema_esp = poema_esp.lower()"
   ]
  },
  {
   "cell_type": "code",
   "execution_count": 22,
   "metadata": {},
   "outputs": [],
   "source": [
    "# Poema arhuaco\n",
    "titulo_arhuaco = 'Jewu'.lower()\n",
    "poema_arhuaco = titulo_arhuaco.join(paginas[12].split('Jewu')[1:]).split('AUTOR')[0]\n",
    "poema_arhuaco = re.sub(r'\\s+', ' ', poema_arhuaco).strip()\n",
    "poema_arhuaco = poema_arhuaco.lower()"
   ]
  },
  {
   "cell_type": "code",
   "execution_count": 23,
   "metadata": {},
   "outputs": [],
   "source": [
    "poema_tu_lluvia = {'titulo_esp': titulo_esp,\n",
    "                   'titulo_ar': titulo_arhuaco,\n",
    "                   'poema_esp': poema_esp,\n",
    "                   'poema_ar': poema_arhuaco}"
   ]
  },
  {
   "cell_type": "markdown",
   "metadata": {},
   "source": [
    "# Poema caminante"
   ]
  },
  {
   "cell_type": "code",
   "execution_count": null,
   "metadata": {},
   "outputs": [],
   "source": []
  }
 ],
 "metadata": {
  "kernelspec": {
   "display_name": "env_bid_ja",
   "language": "python",
   "name": "python3"
  },
  "language_info": {
   "codemirror_mode": {
    "name": "ipython",
    "version": 3
   },
   "file_extension": ".py",
   "mimetype": "text/x-python",
   "name": "python",
   "nbconvert_exporter": "python",
   "pygments_lexer": "ipython3",
   "version": "3.10.4"
  },
  "orig_nbformat": 4
 },
 "nbformat": 4,
 "nbformat_minor": 2
}
