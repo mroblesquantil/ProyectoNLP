{
 "cells": [
  {
   "cell_type": "code",
   "execution_count": 17,
   "metadata": {},
   "outputs": [],
   "source": [
    "import requests\n",
    "from bs4 import BeautifulSoup"
   ]
  },
  {
   "cell_type": "code",
   "execution_count": 22,
   "metadata": {},
   "outputs": [],
   "source": [
    "urls = [f\"https://www.bible.com/es/bible/1584/ACT.{i}.GUC\" for i in range(1,29)]"
   ]
  },
  {
   "cell_type": "code",
   "execution_count": 39,
   "metadata": {},
   "outputs": [
    {
     "name": "stdout",
     "output_type": "stream",
     "text": [
      "ACT.1\n",
      "ACT.2\n",
      "ACT.3\n",
      "ACT.4\n",
      "ACT.5\n",
      "ACT.6\n",
      "ACT.7\n",
      "ACT.8\n",
      "ACT.9\n",
      "ACT.10\n",
      "ACT.11\n",
      "ACT.12\n",
      "ACT.13\n",
      "ACT.14\n",
      "ACT.15\n",
      "ACT.16\n",
      "ACT.17\n",
      "ACT.18\n",
      "ACT.19\n",
      "ACT.20\n",
      "ACT.21\n",
      "ACT.22\n",
      "ACT.23\n",
      "ACT.24\n",
      "ACT.25\n",
      "ACT.26\n",
      "ACT.27\n",
      "ACT.28\n"
     ]
    }
   ],
   "source": [
    "for i in range(1,29):\n",
    "    # URL de la página web que deseas analizar\n",
    "    url = urls[i-1]\n",
    "\n",
    "    try:\n",
    "        # Realiza una solicitud GET para obtener el contenido de la página\n",
    "        response = requests.get(url)\n",
    "\n",
    "        # Verifica si la solicitud fue exitosa (código de respuesta 200)\n",
    "        if response.status_code == 200:\n",
    "            # Parsea el contenido HTML de la página con BeautifulSoup\n",
    "            soup = BeautifulSoup(response.text, 'html.parser')\n",
    "\n",
    "            # Encuentra el elemento <div> con data-usfm=\"ACT.2\" y la clase \"ChapterContent_chapter__uvbXo\"\n",
    "            act = f\"ACT.{i}\"\n",
    "            print(act)\n",
    "            div_element = soup.find(\"div\", {\"data-usfm\": act, \"class\": \"ChapterContent_chapter__uvbXo\"})\n",
    "\n",
    "            # Verifica si se encontró el elemento\n",
    "            if div_element:\n",
    "                # Obtiene el contenido dentro del elemento <div>\n",
    "                contenido = div_element.get_text()\n",
    "                contenido = contenido[len(str(i))+1:]\n",
    "\n",
    "                with open(f'../data/biblia/Hechos de los apostoles/HDLA {i} - wayuu.txt', 'w') as f:\n",
    "                    f.write(contenido)\n",
    "            else:\n",
    "                print(\"No se encontró el elemento <div> con los atributos especificados.\")\n",
    "        else:\n",
    "            print(f\"No se pudo acceder a {url}. Código de respuesta: {response.status_code}\")\n",
    "\n",
    "    except Exception as e:\n",
    "        print(f\"Se produjo un error al acceder a {url}: {str(e)}\")\n"
   ]
  },
  {
   "cell_type": "code",
   "execution_count": null,
   "metadata": {},
   "outputs": [],
   "source": []
  }
 ],
 "metadata": {
  "kernelspec": {
   "display_name": "env_bid_ja",
   "language": "python",
   "name": "python3"
  },
  "language_info": {
   "codemirror_mode": {
    "name": "ipython",
    "version": 3
   },
   "file_extension": ".py",
   "mimetype": "text/x-python",
   "name": "python",
   "nbconvert_exporter": "python",
   "pygments_lexer": "ipython3",
   "version": "3.10.4"
  },
  "orig_nbformat": 4
 },
 "nbformat": 4,
 "nbformat_minor": 2
}
